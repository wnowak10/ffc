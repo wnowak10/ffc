{
 "cells": [
  {
   "cell_type": "code",
   "execution_count": 1,
   "metadata": {
    "collapsed": true
   },
   "outputs": [],
   "source": [
    "# ff.py for demo purposes"
   ]
  },
  {
   "cell_type": "code",
   "execution_count": 18,
   "metadata": {
    "collapsed": true
   },
   "outputs": [],
   "source": [
    "import numpy as np\n",
    "import pandas as pd\n",
    "import xgboost as xgb\n",
    "from sklearn.model_selection import train_test_split\n",
    "from tqdm import tqdm\n",
    "import matplotlib.pyplot as plt\n",
    "\n",
    "import timeit\n",
    "\n",
    "start = timeit.timeit()"
   ]
  },
  {
   "cell_type": "code",
   "execution_count": 3,
   "metadata": {
    "collapsed": false
   },
   "outputs": [
    {
     "name": "stdout",
     "output_type": "stream",
     "text": [
      "reading in csv files\n",
      "read background.csv\n",
      "read train.csv\n",
      "read prediction.csv\n",
      "Files read\n"
     ]
    }
   ],
   "source": [
    "np.random.seed(1234)\n",
    "print('reading in csv files')\n",
    "# File read in\n",
    "# See documentation for more descriptions\n",
    "# http://www.fragilefamilieschallenge.org/apply/\n",
    "background = pd.read_csv('background.csv', low_memory=False)\n",
    "print('read background.csv')\n",
    "train = pd.read_csv('train.csv', low_memory=False)\n",
    "print('read train.csv')\n",
    "prediction = pd.read_csv('prediction.csv', low_memory=False)\n",
    "print('read prediction.csv')\n",
    "print(\"Files read\")"
   ]
  },
  {
   "cell_type": "code",
   "execution_count": 20,
   "metadata": {
    "collapsed": false
   },
   "outputs": [
    {
     "data": {
      "text/html": [
       "<div>\n",
       "<table border=\"1\" class=\"dataframe\">\n",
       "  <thead>\n",
       "    <tr style=\"text-align: right;\">\n",
       "      <th></th>\n",
       "      <th>challengeID</th>\n",
       "      <th>materialHardship</th>\n",
       "    </tr>\n",
       "  </thead>\n",
       "  <tbody>\n",
       "    <tr>\n",
       "      <th>0</th>\n",
       "      <td>1</td>\n",
       "      <td>NaN</td>\n",
       "    </tr>\n",
       "    <tr>\n",
       "      <th>1</th>\n",
       "      <td>3</td>\n",
       "      <td>NaN</td>\n",
       "    </tr>\n",
       "    <tr>\n",
       "      <th>2</th>\n",
       "      <td>6</td>\n",
       "      <td>0.090909</td>\n",
       "    </tr>\n",
       "    <tr>\n",
       "      <th>3</th>\n",
       "      <td>7</td>\n",
       "      <td>0.000000</td>\n",
       "    </tr>\n",
       "    <tr>\n",
       "      <th>4</th>\n",
       "      <td>8</td>\n",
       "      <td>NaN</td>\n",
       "    </tr>\n",
       "    <tr>\n",
       "      <th>5</th>\n",
       "      <td>9</td>\n",
       "      <td>0.181818</td>\n",
       "    </tr>\n",
       "    <tr>\n",
       "      <th>6</th>\n",
       "      <td>10</td>\n",
       "      <td>0.090909</td>\n",
       "    </tr>\n",
       "    <tr>\n",
       "      <th>7</th>\n",
       "      <td>13</td>\n",
       "      <td>0.181818</td>\n",
       "    </tr>\n",
       "    <tr>\n",
       "      <th>8</th>\n",
       "      <td>14</td>\n",
       "      <td>0.272727</td>\n",
       "    </tr>\n",
       "    <tr>\n",
       "      <th>9</th>\n",
       "      <td>16</td>\n",
       "      <td>0.090909</td>\n",
       "    </tr>\n",
       "    <tr>\n",
       "      <th>10</th>\n",
       "      <td>18</td>\n",
       "      <td>0.000000</td>\n",
       "    </tr>\n",
       "    <tr>\n",
       "      <th>11</th>\n",
       "      <td>20</td>\n",
       "      <td>0.000000</td>\n",
       "    </tr>\n",
       "    <tr>\n",
       "      <th>12</th>\n",
       "      <td>23</td>\n",
       "      <td>0.000000</td>\n",
       "    </tr>\n",
       "    <tr>\n",
       "      <th>13</th>\n",
       "      <td>24</td>\n",
       "      <td>0.090909</td>\n",
       "    </tr>\n",
       "    <tr>\n",
       "      <th>14</th>\n",
       "      <td>28</td>\n",
       "      <td>NaN</td>\n",
       "    </tr>\n",
       "    <tr>\n",
       "      <th>15</th>\n",
       "      <td>30</td>\n",
       "      <td>0.090909</td>\n",
       "    </tr>\n",
       "    <tr>\n",
       "      <th>16</th>\n",
       "      <td>35</td>\n",
       "      <td>0.181818</td>\n",
       "    </tr>\n",
       "    <tr>\n",
       "      <th>17</th>\n",
       "      <td>36</td>\n",
       "      <td>NaN</td>\n",
       "    </tr>\n",
       "    <tr>\n",
       "      <th>18</th>\n",
       "      <td>40</td>\n",
       "      <td>0.090909</td>\n",
       "    </tr>\n",
       "    <tr>\n",
       "      <th>19</th>\n",
       "      <td>43</td>\n",
       "      <td>0.272727</td>\n",
       "    </tr>\n",
       "    <tr>\n",
       "      <th>20</th>\n",
       "      <td>45</td>\n",
       "      <td>0.000000</td>\n",
       "    </tr>\n",
       "    <tr>\n",
       "      <th>21</th>\n",
       "      <td>46</td>\n",
       "      <td>0.000000</td>\n",
       "    </tr>\n",
       "    <tr>\n",
       "      <th>22</th>\n",
       "      <td>47</td>\n",
       "      <td>0.000000</td>\n",
       "    </tr>\n",
       "    <tr>\n",
       "      <th>23</th>\n",
       "      <td>49</td>\n",
       "      <td>NaN</td>\n",
       "    </tr>\n",
       "    <tr>\n",
       "      <th>24</th>\n",
       "      <td>52</td>\n",
       "      <td>0.000000</td>\n",
       "    </tr>\n",
       "    <tr>\n",
       "      <th>25</th>\n",
       "      <td>53</td>\n",
       "      <td>0.000000</td>\n",
       "    </tr>\n",
       "    <tr>\n",
       "      <th>26</th>\n",
       "      <td>54</td>\n",
       "      <td>NaN</td>\n",
       "    </tr>\n",
       "    <tr>\n",
       "      <th>27</th>\n",
       "      <td>55</td>\n",
       "      <td>0.363636</td>\n",
       "    </tr>\n",
       "    <tr>\n",
       "      <th>28</th>\n",
       "      <td>56</td>\n",
       "      <td>NaN</td>\n",
       "    </tr>\n",
       "    <tr>\n",
       "      <th>29</th>\n",
       "      <td>57</td>\n",
       "      <td>0.181818</td>\n",
       "    </tr>\n",
       "  </tbody>\n",
       "</table>\n",
       "</div>"
      ],
      "text/plain": [
       "    challengeID  materialHardship\n",
       "0             1               NaN\n",
       "1             3               NaN\n",
       "2             6          0.090909\n",
       "3             7          0.000000\n",
       "4             8               NaN\n",
       "5             9          0.181818\n",
       "6            10          0.090909\n",
       "7            13          0.181818\n",
       "8            14          0.272727\n",
       "9            16          0.090909\n",
       "10           18          0.000000\n",
       "11           20          0.000000\n",
       "12           23          0.000000\n",
       "13           24          0.090909\n",
       "14           28               NaN\n",
       "15           30          0.090909\n",
       "16           35          0.181818\n",
       "17           36               NaN\n",
       "18           40          0.090909\n",
       "19           43          0.272727\n",
       "20           45          0.000000\n",
       "21           46          0.000000\n",
       "22           47          0.000000\n",
       "23           49               NaN\n",
       "24           52          0.000000\n",
       "25           53          0.000000\n",
       "26           54               NaN\n",
       "27           55          0.363636\n",
       "28           56               NaN\n",
       "29           57          0.181818"
      ]
     },
     "execution_count": 20,
     "metadata": {},
     "output_type": "execute_result"
    }
   ],
   "source": [
    "# Select each column individually from train df\n",
    "# y_train_grit = train[['challengeID', 'grit']]\n",
    "# y_train_gpa = train[['challengeID', 'gpa']]\n",
    "y_train_materialHardship = train[['challengeID', 'materialHardship']]\n",
    "# y_train_eviction = train[['challengeID', 'eviction']]\n",
    "# y_train_layoff = train[['challengeID', 'layoff']]\n",
    "# y_train_jobTraining = train[['challengeID', 'jobTraining']]\n",
    "y_train_materialHardship.head(30)"
   ]
  },
  {
   "cell_type": "code",
   "execution_count": 5,
   "metadata": {
    "collapsed": true
   },
   "outputs": [],
   "source": [
    "\n",
    "\n",
    "# Let's try to just predict materialHardship first\n",
    "#########################################\n",
    "########### materialHardship #############\n",
    "#########################################\n",
    "\n",
    "# Get rid of NAs in material hardship.\n",
    "# There are individuals in the training set\n",
    "# (which contains 6 total vars) that have NA\n",
    "# for certain of the variables...so let's eliminate.\n",
    "y_train_materialHardship = y_train_materialHardship.dropna()\n",
    "\n",
    "\n",
    "# Create train df with rows in y_train\n",
    "# Subset background df to do so.\n",
    "df_train_mh = background.loc[background['challengeID'].isin(y_train_materialHardship['challengeID'])]\n",
    "\n",
    "# Create a test dataframe too. This df contains\n",
    "# individuals who are NOT in the training set.\n",
    "# We will need to make predictions on these.\n",
    "df_test_mh = background.loc[~background['challengeID'].isin(y_train_materialHardship['challengeID'])]\n",
    "\n"
   ]
  },
  {
   "cell_type": "code",
   "execution_count": 6,
   "metadata": {
    "collapsed": false
   },
   "outputs": [
    {
     "name": "stdout",
     "output_type": "stream",
     "text": [
      "drop non xgb data types\n"
     ]
    }
   ],
   "source": [
    "\n",
    "\n",
    "\n",
    "###############\n",
    "# XGBoost train\n",
    "###############\n",
    "\n",
    "# Only include columns with DataFrame.dtypes\n",
    "# that are int, float or bool.\n",
    "print('drop non xgb data types')\n",
    "df_train_mh_good_dtypes = df_train_mh.select_dtypes(include=(int, float, bool))\n",
    "\n",
    "df_test_mh_good_dtypes = df_test_mh.select_dtypes(include=(int, float, bool))\n",
    "\n",
    "# Get rid of challengeID column for training\n",
    "y_train_mh = y_train_materialHardship['materialHardship']\n"
   ]
  },
  {
   "cell_type": "code",
   "execution_count": 7,
   "metadata": {
    "collapsed": false
   },
   "outputs": [
    {
     "name": "stdout",
     "output_type": "stream",
     "text": [
      "validation and training data ready\n"
     ]
    }
   ],
   "source": [
    "\n",
    "# Create validation set\n",
    "x_train, x_valid, y_train, y_valid = train_test_split(df_train_mh_good_dtypes, y_train_mh, test_size=0.2)\n",
    "d_train = xgb.DMatrix(x_train, label=y_train)\n",
    "d_valid = xgb.DMatrix(x_valid, label=y_valid)\n",
    "print('validation and training data ready')"
   ]
  },
  {
   "cell_type": "code",
   "execution_count": 8,
   "metadata": {
    "collapsed": true
   },
   "outputs": [],
   "source": [
    "\n",
    "# Set our parameters for xgboost\n",
    "params = {}\n",
    "params['objective'] = 'reg:logistic'\n",
    "params['eval_metric'] = 'rmse'\n",
    "params['eta'] = 0.02\n",
    "params['max_depth'] = 20\n",
    "\n",
    "watchlist = [(d_train, 'train'), (d_valid, 'valid')]\n"
   ]
  },
  {
   "cell_type": "code",
   "execution_count": 21,
   "metadata": {
    "collapsed": false
   },
   "outputs": [
    {
     "name": "stdout",
     "output_type": "stream",
     "text": [
      "train xgb\n",
      "[0]\ttrain-rmse:0.41714\tvalid-rmse:0.421895\n",
      "Multiple eval metrics have been passed: 'valid-rmse' will be used for early stopping.\n",
      "\n",
      "Will train until valid-rmse hasn't improved in 50 rounds.\n",
      "[10]\ttrain-rmse:0.347951\tvalid-rmse:0.358895\n",
      "[20]\ttrain-rmse:0.29121\tvalid-rmse:0.308537\n",
      "[30]\ttrain-rmse:0.244752\tvalid-rmse:0.268224\n",
      "[40]\ttrain-rmse:0.206586\tvalid-rmse:0.236487\n",
      "[50]\ttrain-rmse:0.175107\tvalid-rmse:0.211977\n",
      "[60]\ttrain-rmse:0.149115\tvalid-rmse:0.192985\n",
      "[70]\ttrain-rmse:0.127745\tvalid-rmse:0.17808\n",
      "[80]\ttrain-rmse:0.109966\tvalid-rmse:0.166582\n",
      "[90]\ttrain-rmse:0.09515\tvalid-rmse:0.158094\n",
      "[99]\ttrain-rmse:0.08409\tvalid-rmse:0.152514\n"
     ]
    }
   ],
   "source": [
    "\n",
    "\n",
    "# XGB train\n",
    "# model = xgb.XGBClassifier()\n",
    "print('train xgb')\n",
    "tqdm.pandas()\n",
    "# bst = model.fit(df_test_mh, y_train_mh)\n",
    "bst = xgb.train(params, d_train, 100, watchlist, early_stopping_rounds=50, verbose_eval=10)\n"
   ]
  },
  {
   "cell_type": "code",
   "execution_count": 23,
   "metadata": {
    "collapsed": false
   },
   "outputs": [
    {
     "data": {
      "text/html": [
       "<div>\n",
       "<table border=\"1\" class=\"dataframe\">\n",
       "  <thead>\n",
       "    <tr style=\"text-align: right;\">\n",
       "      <th></th>\n",
       "      <th>feature</th>\n",
       "      <th>feature importance</th>\n",
       "    </tr>\n",
       "  </thead>\n",
       "  <tbody>\n",
       "    <tr>\n",
       "      <th>0</th>\n",
       "      <td>m5f23e</td>\n",
       "      <td>66</td>\n",
       "    </tr>\n",
       "    <tr>\n",
       "      <th>1</th>\n",
       "      <td>m4i23o</td>\n",
       "      <td>64</td>\n",
       "    </tr>\n",
       "    <tr>\n",
       "      <th>2</th>\n",
       "      <td>m5f23a</td>\n",
       "      <td>54</td>\n",
       "    </tr>\n",
       "    <tr>\n",
       "      <th>3</th>\n",
       "      <td>m4d6</td>\n",
       "      <td>47</td>\n",
       "    </tr>\n",
       "    <tr>\n",
       "      <th>4</th>\n",
       "      <td>m2j14a</td>\n",
       "      <td>44</td>\n",
       "    </tr>\n",
       "    <tr>\n",
       "      <th>5</th>\n",
       "      <td>m5f23l</td>\n",
       "      <td>42</td>\n",
       "    </tr>\n",
       "    <tr>\n",
       "      <th>6</th>\n",
       "      <td>f2h8c2</td>\n",
       "      <td>37</td>\n",
       "    </tr>\n",
       "    <tr>\n",
       "      <th>7</th>\n",
       "      <td>kind_b1a</td>\n",
       "      <td>36</td>\n",
       "    </tr>\n",
       "    <tr>\n",
       "      <th>8</th>\n",
       "      <td>cm4hhinc</td>\n",
       "      <td>35</td>\n",
       "    </tr>\n",
       "    <tr>\n",
       "      <th>9</th>\n",
       "      <td>k5c6</td>\n",
       "      <td>35</td>\n",
       "    </tr>\n",
       "  </tbody>\n",
       "</table>\n",
       "</div>"
      ],
      "text/plain": [
       "    feature  feature importance\n",
       "0    m5f23e                  66\n",
       "1    m4i23o                  64\n",
       "2    m5f23a                  54\n",
       "3      m4d6                  47\n",
       "4    m2j14a                  44\n",
       "5    m5f23l                  42\n",
       "6    f2h8c2                  37\n",
       "7  kind_b1a                  36\n",
       "8  cm4hhinc                  35\n",
       "9      k5c6                  35"
      ]
     },
     "execution_count": 23,
     "metadata": {},
     "output_type": "execute_result"
    }
   ],
   "source": [
    "# Feature importances df\n",
    "d = bst.get_fscore()  # print feature scores\n",
    "feature = []\n",
    "f_importance = []\n",
    "for w in sorted(d, key=d.get, reverse=True):\n",
    "    feature.append(w)\n",
    "    f_importance.append(d[w])\n",
    "\n",
    "feature_import_df = pd.DataFrame(\n",
    "    {'feature': feature,\n",
    "     'feature importance': f_importance,\n",
    "    })\n",
    "\n",
    "feature_import_df.head(10)"
   ]
  },
  {
   "cell_type": "code",
   "execution_count": 12,
   "metadata": {
    "collapsed": false
   },
   "outputs": [
    {
     "name": "stdout",
     "output_type": "stream",
     "text": [
      "predict with xgb\n"
     ]
    }
   ],
   "source": [
    "print('predict with xgb')\n",
    "tqdm.pandas()\n",
    "d_test = xgb.DMatrix(df_test_mh_good_dtypes)\n",
    "tqdm.pandas()\n",
    "p_test = bst.predict(d_test)"
   ]
  },
  {
   "cell_type": "code",
   "execution_count": 17,
   "metadata": {
    "collapsed": false
   },
   "outputs": [
    {
     "name": "stdout",
     "output_type": "stream",
     "text": [
      "create submission\n"
     ]
    }
   ],
   "source": [
    "\n",
    "\n",
    "# Need to add train labels to submission too, I think\n",
    "print('create submission')\n",
    "preds = pd.DataFrame()\n",
    "preds['challengeID'] = df_test_mh['challengeID']\n",
    "preds['materialHardship'] = p_test\n",
    "# tack on given train values\n",
    "orig = pd.DataFrame()\n",
    "orig['challengeID'] = y_train_materialHardship['challengeID']\n",
    "orig['materialHardship'] = y_train_materialHardship['materialHardship']\n",
    "sub = preds.append(orig)\n",
    "sub.sort_values(by='challengeID')\n",
    "\n",
    "sub.to_csv('simple_xgb.csv', index=False)\n",
    "\n"
   ]
  },
  {
   "cell_type": "code",
   "execution_count": null,
   "metadata": {
    "collapsed": true
   },
   "outputs": [],
   "source": []
  }
 ],
 "metadata": {
  "kernelspec": {
   "display_name": "Python 3",
   "language": "python",
   "name": "python3"
  },
  "language_info": {
   "codemirror_mode": {
    "name": "ipython",
    "version": 3
   },
   "file_extension": ".py",
   "mimetype": "text/x-python",
   "name": "python",
   "nbconvert_exporter": "python",
   "pygments_lexer": "ipython3",
   "version": "3.5.2"
  }
 },
 "nbformat": 4,
 "nbformat_minor": 2
}
