{
 "cells": [
  {
   "cell_type": "markdown",
   "metadata": {},
   "source": [
    "Here is an attempt to use a neural network to make FFC material hardship predictions."
   ]
  },
  {
   "cell_type": "markdown",
   "metadata": {},
   "source": [
    "1. [Imports](#ims)\n",
    "2. [Data preprocessing](#pp)  "
   ]
  },
  {
   "cell_type": "markdown",
   "metadata": {},
   "source": [
    "# 1. Imports<a name=\"ims\"></a>"
   ]
  },
  {
   "cell_type": "code",
   "execution_count": 1,
   "metadata": {
    "collapsed": true
   },
   "outputs": [],
   "source": [
    "import numpy as np\n",
    "import pandas as pd\n",
    "import xgboost as xgb\n",
    "from sklearn.model_selection import train_test_split\n",
    "from tqdm import tqdm\n",
    "import matplotlib.pyplot as plt\n",
    "import seaborn as sns\n",
    "%matplotlib inline  "
   ]
  },
  {
   "cell_type": "code",
   "execution_count": 2,
   "metadata": {
    "collapsed": false
   },
   "outputs": [
    {
     "name": "stdout",
     "output_type": "stream",
     "text": [
      "reading in csv files\n",
      "read background.csv\n",
      "read train.csv\n",
      "read prediction.csv\n",
      "Files read\n"
     ]
    }
   ],
   "source": [
    "np.random.seed(1234)\n",
    "print('reading in csv files')\n",
    "# File read in\n",
    "# See documentation for more descriptions\n",
    "# http://www.fragilefamilieschallenge.org/apply/\n",
    "background = pd.read_csv('background.csv', low_memory=False)\n",
    "print('read background.csv')\n",
    "train = pd.read_csv('train.csv', low_memory=False)\n",
    "print('read train.csv')\n",
    "prediction = pd.read_csv('prediction.csv', low_memory=False)\n",
    "print('read prediction.csv')\n",
    "print(\"Files read\")"
   ]
  },
  {
   "cell_type": "code",
   "execution_count": 3,
   "metadata": {
    "collapsed": true
   },
   "outputs": [],
   "source": [
    "y_train_materialHardship = train[['challengeID', 'materialHardship']]"
   ]
  },
  {
   "cell_type": "code",
   "execution_count": 29,
   "metadata": {
    "collapsed": true
   },
   "outputs": [],
   "source": [
    "y_train_materialHardship = y_train_materialHardship.dropna() # drop nas\n",
    "  \n",
    "\n",
    "# Create train df with rows in y_train\n",
    "# Subset background df to do so.\n",
    "df_train_mh = background.loc[background['challengeID'].isin(y_train_materialHardship['challengeID'])]\n",
    "\n",
    "# Create a test dataframe too. This df contains\n",
    "# individuals who are NOT in the training set.\n",
    "# We will need to make predictions on these.\n",
    "df_test_mh = background.loc[~background['challengeID'].isin(y_train_materialHardship['challengeID'])]"
   ]
  },
  {
   "cell_type": "code",
   "execution_count": 5,
   "metadata": {
    "collapsed": false
   },
   "outputs": [
    {
     "data": {
      "text/html": [
       "<div>\n",
       "<table border=\"1\" class=\"dataframe\">\n",
       "  <thead>\n",
       "    <tr style=\"text-align: right;\">\n",
       "      <th></th>\n",
       "      <th>challengeID</th>\n",
       "      <th>m1intmon</th>\n",
       "      <th>m1intyr</th>\n",
       "      <th>m1lenhr</th>\n",
       "      <th>m1lenmin</th>\n",
       "      <th>cm1twoc</th>\n",
       "      <th>cm1fint</th>\n",
       "      <th>cm1tdiff</th>\n",
       "      <th>cm1natsm</th>\n",
       "      <th>m1natwt</th>\n",
       "      <th>...</th>\n",
       "      <th>m4d9</th>\n",
       "      <th>m4e23</th>\n",
       "      <th>f4d6</th>\n",
       "      <th>f4d7</th>\n",
       "      <th>f4d9</th>\n",
       "      <th>m5c6</th>\n",
       "      <th>m5d20</th>\n",
       "      <th>m5k10</th>\n",
       "      <th>f5c6</th>\n",
       "      <th>k5f1</th>\n",
       "    </tr>\n",
       "  </thead>\n",
       "  <tbody>\n",
       "    <tr>\n",
       "      <th>5</th>\n",
       "      <td>6</td>\n",
       "      <td>-3</td>\n",
       "      <td>NaN</td>\n",
       "      <td>0</td>\n",
       "      <td>25</td>\n",
       "      <td>NaN</td>\n",
       "      <td>1</td>\n",
       "      <td>NaN</td>\n",
       "      <td>NaN</td>\n",
       "      <td>NaN</td>\n",
       "      <td>...</td>\n",
       "      <td>8.51570</td>\n",
       "      <td>10.558813</td>\n",
       "      <td>-3.000000</td>\n",
       "      <td>-3.000000</td>\n",
       "      <td>7.022328</td>\n",
       "      <td>-3.000000</td>\n",
       "      <td>10.564085</td>\n",
       "      <td>-3</td>\n",
       "      <td>-3.000000</td>\n",
       "      <td>10.255825</td>\n",
       "    </tr>\n",
       "    <tr>\n",
       "      <th>6</th>\n",
       "      <td>7</td>\n",
       "      <td>-3</td>\n",
       "      <td>NaN</td>\n",
       "      <td>0</td>\n",
       "      <td>35</td>\n",
       "      <td>NaN</td>\n",
       "      <td>1</td>\n",
       "      <td>NaN</td>\n",
       "      <td>NaN</td>\n",
       "      <td>NaN</td>\n",
       "      <td>...</td>\n",
       "      <td>-3.00000</td>\n",
       "      <td>-3.000000</td>\n",
       "      <td>9.660643</td>\n",
       "      <td>9.861125</td>\n",
       "      <td>-3.000000</td>\n",
       "      <td>10.991854</td>\n",
       "      <td>-3.000000</td>\n",
       "      <td>-3</td>\n",
       "      <td>10.972726</td>\n",
       "      <td>10.859800</td>\n",
       "    </tr>\n",
       "    <tr>\n",
       "      <th>8</th>\n",
       "      <td>9</td>\n",
       "      <td>-3</td>\n",
       "      <td>NaN</td>\n",
       "      <td>0</td>\n",
       "      <td>30</td>\n",
       "      <td>NaN</td>\n",
       "      <td>1</td>\n",
       "      <td>NaN</td>\n",
       "      <td>NaN</td>\n",
       "      <td>NaN</td>\n",
       "      <td>...</td>\n",
       "      <td>-3.00000</td>\n",
       "      <td>-3.000000</td>\n",
       "      <td>11.689877</td>\n",
       "      <td>9.373199</td>\n",
       "      <td>-3.000000</td>\n",
       "      <td>8.194868</td>\n",
       "      <td>-3.000000</td>\n",
       "      <td>-3</td>\n",
       "      <td>9.842380</td>\n",
       "      <td>9.566678</td>\n",
       "    </tr>\n",
       "    <tr>\n",
       "      <th>9</th>\n",
       "      <td>10</td>\n",
       "      <td>-3</td>\n",
       "      <td>NaN</td>\n",
       "      <td>0</td>\n",
       "      <td>33</td>\n",
       "      <td>NaN</td>\n",
       "      <td>1</td>\n",
       "      <td>NaN</td>\n",
       "      <td>NaN</td>\n",
       "      <td>NaN</td>\n",
       "      <td>...</td>\n",
       "      <td>-3.00000</td>\n",
       "      <td>-3.000000</td>\n",
       "      <td>-3.000000</td>\n",
       "      <td>-3.000000</td>\n",
       "      <td>-3.000000</td>\n",
       "      <td>-3.000000</td>\n",
       "      <td>10.564085</td>\n",
       "      <td>-3</td>\n",
       "      <td>-3.000000</td>\n",
       "      <td>10.105870</td>\n",
       "    </tr>\n",
       "    <tr>\n",
       "      <th>12</th>\n",
       "      <td>13</td>\n",
       "      <td>-3</td>\n",
       "      <td>NaN</td>\n",
       "      <td>1</td>\n",
       "      <td>-3</td>\n",
       "      <td>NaN</td>\n",
       "      <td>1</td>\n",
       "      <td>NaN</td>\n",
       "      <td>NaN</td>\n",
       "      <td>NaN</td>\n",
       "      <td>...</td>\n",
       "      <td>10.78074</td>\n",
       "      <td>-3.000000</td>\n",
       "      <td>-3.000000</td>\n",
       "      <td>-3.000000</td>\n",
       "      <td>8.944119</td>\n",
       "      <td>-3.000000</td>\n",
       "      <td>9.781718</td>\n",
       "      <td>-3</td>\n",
       "      <td>-3.000000</td>\n",
       "      <td>9.566678</td>\n",
       "    </tr>\n",
       "  </tbody>\n",
       "</table>\n",
       "<p>5 rows × 12943 columns</p>\n",
       "</div>"
      ],
      "text/plain": [
       "    challengeID  m1intmon  m1intyr  m1lenhr  m1lenmin  cm1twoc  cm1fint  \\\n",
       "5             6        -3      NaN        0        25      NaN        1   \n",
       "6             7        -3      NaN        0        35      NaN        1   \n",
       "8             9        -3      NaN        0        30      NaN        1   \n",
       "9            10        -3      NaN        0        33      NaN        1   \n",
       "12           13        -3      NaN        1        -3      NaN        1   \n",
       "\n",
       "    cm1tdiff  cm1natsm  m1natwt    ...          m4d9      m4e23       f4d6  \\\n",
       "5        NaN       NaN      NaN    ...       8.51570  10.558813  -3.000000   \n",
       "6        NaN       NaN      NaN    ...      -3.00000  -3.000000   9.660643   \n",
       "8        NaN       NaN      NaN    ...      -3.00000  -3.000000  11.689877   \n",
       "9        NaN       NaN      NaN    ...      -3.00000  -3.000000  -3.000000   \n",
       "12       NaN       NaN      NaN    ...      10.78074  -3.000000  -3.000000   \n",
       "\n",
       "        f4d7      f4d9       m5c6      m5d20  m5k10       f5c6       k5f1  \n",
       "5  -3.000000  7.022328  -3.000000  10.564085     -3  -3.000000  10.255825  \n",
       "6   9.861125 -3.000000  10.991854  -3.000000     -3  10.972726  10.859800  \n",
       "8   9.373199 -3.000000   8.194868  -3.000000     -3   9.842380   9.566678  \n",
       "9  -3.000000 -3.000000  -3.000000  10.564085     -3  -3.000000  10.105870  \n",
       "12 -3.000000  8.944119  -3.000000   9.781718     -3  -3.000000   9.566678  \n",
       "\n",
       "[5 rows x 12943 columns]"
      ]
     },
     "execution_count": 5,
     "metadata": {},
     "output_type": "execute_result"
    }
   ],
   "source": [
    "df_train_mh.head()"
   ]
  },
  {
   "cell_type": "markdown",
   "metadata": {},
   "source": [
    "Check out what kinds of data we have:"
   ]
  },
  {
   "cell_type": "code",
   "execution_count": 6,
   "metadata": {
    "collapsed": false
   },
   "outputs": [
    {
     "data": {
      "text/plain": [
       "int64      9489\n",
       "float64    3307\n",
       "object      147\n",
       "dtype: int64"
      ]
     },
     "execution_count": 6,
     "metadata": {},
     "output_type": "execute_result"
    }
   ],
   "source": [
    "# distribution of different data types\n",
    "df_train_mh.dtypes.value_counts()"
   ]
  },
  {
   "cell_type": "markdown",
   "metadata": {},
   "source": [
    "# 2. Data Preprocessing<a name=\"pp\"></a>"
   ]
  },
  {
   "cell_type": "markdown",
   "metadata": {},
   "source": [
    "The data is **imbalanced**. "
   ]
  },
  {
   "cell_type": "code",
   "execution_count": 7,
   "metadata": {
    "collapsed": false
   },
   "outputs": [
    {
     "data": {
      "text/html": [
       "<div>\n",
       "<table border=\"1\" class=\"dataframe\">\n",
       "  <thead>\n",
       "    <tr style=\"text-align: right;\">\n",
       "      <th></th>\n",
       "      <th>index</th>\n",
       "      <th>materialHardship</th>\n",
       "    </tr>\n",
       "  </thead>\n",
       "  <tbody>\n",
       "    <tr>\n",
       "      <th>0</th>\n",
       "      <td>0.000000</td>\n",
       "      <td>807</td>\n",
       "    </tr>\n",
       "    <tr>\n",
       "      <th>1</th>\n",
       "      <td>0.090909</td>\n",
       "      <td>248</td>\n",
       "    </tr>\n",
       "    <tr>\n",
       "      <th>2</th>\n",
       "      <td>0.181818</td>\n",
       "      <td>136</td>\n",
       "    </tr>\n",
       "    <tr>\n",
       "      <th>3</th>\n",
       "      <td>0.272727</td>\n",
       "      <td>104</td>\n",
       "    </tr>\n",
       "    <tr>\n",
       "      <th>4</th>\n",
       "      <td>0.363636</td>\n",
       "      <td>61</td>\n",
       "    </tr>\n",
       "    <tr>\n",
       "      <th>5</th>\n",
       "      <td>0.454545</td>\n",
       "      <td>58</td>\n",
       "    </tr>\n",
       "    <tr>\n",
       "      <th>6</th>\n",
       "      <td>0.545455</td>\n",
       "      <td>26</td>\n",
       "    </tr>\n",
       "    <tr>\n",
       "      <th>7</th>\n",
       "      <td>0.636364</td>\n",
       "      <td>11</td>\n",
       "    </tr>\n",
       "    <tr>\n",
       "      <th>8</th>\n",
       "      <td>0.727273</td>\n",
       "      <td>6</td>\n",
       "    </tr>\n",
       "    <tr>\n",
       "      <th>9</th>\n",
       "      <td>0.818182</td>\n",
       "      <td>2</td>\n",
       "    </tr>\n",
       "  </tbody>\n",
       "</table>\n",
       "</div>"
      ],
      "text/plain": [
       "      index  materialHardship\n",
       "0  0.000000               807\n",
       "1  0.090909               248\n",
       "2  0.181818               136\n",
       "3  0.272727               104\n",
       "4  0.363636                61\n",
       "5  0.454545                58\n",
       "6  0.545455                26\n",
       "7  0.636364                11\n",
       "8  0.727273                 6\n",
       "9  0.818182                 2"
      ]
     },
     "execution_count": 7,
     "metadata": {},
     "output_type": "execute_result"
    }
   ],
   "source": [
    "y_train_materialHardship['materialHardship'].value_counts().reset_index()"
   ]
  },
  {
   "cell_type": "code",
   "execution_count": 8,
   "metadata": {
    "collapsed": false
   },
   "outputs": [
    {
     "name": "stderr",
     "output_type": "stream",
     "text": [
      "/anaconda/envs/py35/lib/python3.5/site-packages/statsmodels/nonparametric/kdetools.py:20: VisibleDeprecationWarning: using a non-integer number instead of an integer will result in an error in the future\n",
      "  y = X[:m/2+1] + np.r_[0,X[m/2+1:],0]*1j\n"
     ]
    },
    {
     "data": {
      "image/png": "[encoded data removed]",
      "text/plain": [
       "<matplotlib.figure.Figure at 0x10ff43eb8>"
      ]
     },
     "metadata": {},
     "output_type": "display_data"
    }
   ],
   "source": [
    "sns.distplot(y_train_materialHardship['materialHardship'])\n",
    "plt.show()"
   ]
  },
  {
   "cell_type": "markdown",
   "metadata": {
    "variables": {
     "len(y_train_materialHardship)": "1459"
    }
   },
   "source": [
    "Most of the {{len(y_train_materialHardship)}} individuals do not experience material hardship. See this [link](http://www.fragilefamilieschallenge.org/material-hardship/) for documentation on this variable. "
   ]
  },
  {
   "cell_type": "code",
   "execution_count": 9,
   "metadata": {
    "collapsed": false
   },
   "outputs": [
    {
     "data": {
      "text/plain": [
       "dtype('float64')"
      ]
     },
     "execution_count": 9,
     "metadata": {},
     "output_type": "execute_result"
    }
   ],
   "source": [
    "np.dtype(y_train_materialHardship['materialHardship'])"
   ]
  },
  {
   "cell_type": "markdown",
   "metadata": {},
   "source": [
    "Though np recognizes this variable as a float, it is really categorical, with an individual having anywhere from 0 to all 11 material hardship conditions experienced in the affirmative."
   ]
  },
  {
   "cell_type": "markdown",
   "metadata": {},
   "source": [
    "I am not sure, but I think it might be better to convert this to categorical to predict with a neural network (or with a decision tree). It seems like converting to one of 11 categories would make the problem simpler -- instead of trying to predict a continuous range from [0,1], we only need to predict one of 11 categories. It is probably easier to make a bet on 1/11 categories, instead of 1/$\\infty$ categories!"
   ]
  },
  {
   "cell_type": "code",
   "execution_count": 10,
   "metadata": {
    "collapsed": false
   },
   "outputs": [
    {
     "data": {
      "text/plain": [
       "0.0    807\n",
       "1.0    248\n",
       "2.0    136\n",
       "3.0    104\n",
       "4.0     61\n",
       "5.0     58\n",
       "6.0     26\n",
       "7.0     11\n",
       "8.0      6\n",
       "9.0      2\n",
       "Name: materialHardship, dtype: int64"
      ]
     },
     "execution_count": 10,
     "metadata": {},
     "output_type": "execute_result"
    }
   ],
   "source": [
    "a = y_train_materialHardship['materialHardship']*11\n",
    "b = round(a)\n",
    "b.value_counts()"
   ]
  },
  {
   "cell_type": "code",
   "execution_count": 11,
   "metadata": {
    "collapsed": false
   },
   "outputs": [],
   "source": [
    "y_train_materialHardship['materialHardship'] = b.astype(object)"
   ]
  },
  {
   "cell_type": "code",
   "execution_count": 12,
   "metadata": {
    "collapsed": false
   },
   "outputs": [
    {
     "data": {
      "text/plain": [
       "Counter({0.0: 807,\n",
       "         1.0: 248,\n",
       "         2.0: 136,\n",
       "         3.0: 104,\n",
       "         4.0: 61,\n",
       "         5.0: 58,\n",
       "         6.0: 26,\n",
       "         7.0: 11,\n",
       "         8.0: 6,\n",
       "         9.0: 2})"
      ]
     },
     "execution_count": 12,
     "metadata": {},
     "output_type": "execute_result"
    }
   ],
   "source": [
    "import collections\n",
    "collections.Counter(y_train_materialHardship['materialHardship'])"
   ]
  },
  {
   "cell_type": "code",
   "execution_count": 13,
   "metadata": {
    "collapsed": false
   },
   "outputs": [
    {
     "data": {
      "text/plain": [
       "dtype('O')"
      ]
     },
     "execution_count": 13,
     "metadata": {},
     "output_type": "execute_result"
    }
   ],
   "source": [
    "np.dtype(y_train_materialHardship['materialHardship'])"
   ]
  },
  {
   "cell_type": "markdown",
   "metadata": {},
   "source": [
    "OK, so we converted to an object type with 10 categories (no one went 11 for 11 in the training). But this could be problematic...we need to account for possibility that someone could have all 11 in the test set, so note this later on. "
   ]
  },
  {
   "cell_type": "markdown",
   "metadata": {},
   "source": [
    "## Missing value imputation"
   ]
  },
  {
   "cell_type": "markdown",
   "metadata": {
    "variables": {
     "df_train_mh.shape[1]": "12943"
    }
   },
   "source": [
    "There is a crap ton of features in this set. {{df_train_mh.shape[1]}} to be exact. Unfortunately, a lot are missing. The authors of the challenge discuss this [here](http://www.fragilefamilieschallenge.org/missing-data/).\n",
    "\n",
    "We can do imputation to fix this. This just means replacing missing values with a good guess, like the mean or median or a regression predictor. I think we should look into doing this.\n",
    "\n",
    "BUT, call me crazy, but I think we should add MORE features. Here is my thought: for features that have a lot of missing values (what constitutes a lot? I don't yet know), we make another column that is simply binary -- either the data exists or it doesn't for this individual and this feature. Simply answering certain questions might be somewhat predictive, so I would think we want a feature that indicates if the response was NA or not. Then, whether or not it was NA, we should have the \"real\" feature that contains the question response.\n",
    "\n",
    "*This is complicated by the fact that missing values aren't coded with NA's here. Typically they have negative values, but different negative numbers mean differen things...so this will be hard to do.*"
   ]
  },
  {
   "cell_type": "markdown",
   "metadata": {},
   "source": [
    "Let's see if we can do it."
   ]
  },
  {
   "cell_type": "code",
   "execution_count": 14,
   "metadata": {
    "collapsed": false
   },
   "outputs": [
    {
     "name": "stderr",
     "output_type": "stream",
     "text": [
      "/anaconda/envs/py35/lib/python3.5/site-packages/statsmodels/nonparametric/kdetools.py:20: VisibleDeprecationWarning: using a non-integer number instead of an integer will result in an error in the future\n",
      "  y = X[:m/2+1] + np.r_[0,X[m/2+1:],0]*1j\n"
     ]
    },
    {
     "data": {
      "image/png": "[encoded data removed]",
      "text/plain": [
       "<matplotlib.figure.Figure at 0x10fc9e6a0>"
      ]
     },
     "metadata": {},
     "output_type": "display_data"
    }
   ],
   "source": [
    "# distribution of NA per question...\n",
    "\n",
    "# find % NA for each questoin\n",
    "# make into list\n",
    "# make histogram\n",
    "import math\n",
    "nan_percents = df_train_mh.isnull().sum() / len(df_train_mh)\n",
    "sns.distplot(nan_percents)\n",
    "sns.plt.suptitle('Distribution of NaNs per question (as a percent of all responses)')\n",
    "plt.show()"
   ]
  },
  {
   "cell_type": "code",
   "execution_count": 15,
   "metadata": {
    "collapsed": false
   },
   "outputs": [],
   "source": [
    "num_all_na = sum(df_train_mh.isnull().sum()==len(df_train_mh))"
   ]
  },
  {
   "cell_type": "markdown",
   "metadata": {
    "variables": {
     "num_all_na": "821"
    }
   },
   "source": [
    "Most questions have no NAN, but a bunch ({{num_all_na}}) have all NAN.\n",
    "\n",
    "However, as I said before, a lot of the questions have coded responses, where negative responses are indicative of a missing response. "
   ]
  },
  {
   "cell_type": "code",
   "execution_count": 16,
   "metadata": {
    "collapsed": false
   },
   "outputs": [],
   "source": [
    "df_train_mh_good_dtypes = df_train_mh.select_dtypes(include=(int, float))\n",
    "num_ints_floats = df_train_mh_good_dtypes.shape[1]"
   ]
  },
  {
   "cell_type": "markdown",
   "metadata": {
    "variables": {
     "df_train_mh.shape[1]": "12943",
     "num_ints_floats": "12796"
    }
   },
   "source": [
    "There are {{num_ints_floats}} int or float variables out of {{df_train_mh.shape[1]}} total variables. So pretty much all variables have outputs that are numeric (even if these numbers are most often representitative of categories)."
   ]
  },
  {
   "cell_type": "code",
   "execution_count": 17,
   "metadata": {
    "collapsed": false
   },
   "outputs": [
    {
     "name": "stderr",
     "output_type": "stream",
     "text": [
      "/anaconda/envs/py35/lib/python3.5/site-packages/statsmodels/nonparametric/kdetools.py:20: VisibleDeprecationWarning: using a non-integer number instead of an integer will result in an error in the future\n",
      "  y = X[:m/2+1] + np.r_[0,X[m/2+1:],0]*1j\n"
     ]
    },
    {
     "data": {
      "image/png": "[encoded data removed]",
      "text/plain": [
       "<matplotlib.figure.Figure at 0x110058cc0>"
      ]
     },
     "metadata": {},
     "output_type": "display_data"
    }
   ],
   "source": [
    "num_neg_vals = df_train_mh_good_dtypes.apply(lambda x: sum(x<0), axis=0)\n",
    "sns.distplot(num_neg_vals)\n",
    "sns.plt.suptitle('Distribution of negative responses for all questions')\n",
    "plt.show()"
   ]
  },
  {
   "cell_type": "markdown",
   "metadata": {
    "variables": {
     "len(df_train_mh)": "1459"
    }
   },
   "source": [
    "Hmmm. The above histogram shows that most questions either have 0 negative values, or lots. All the way on the right, you can see that there are a lot of questions that have ~1500 negative values. Since there are {{len(df_train_mh)}} rows, I will assume that this right most bar just means ALL rows are negative in these columns. That is not helpful."
   ]
  },
  {
   "cell_type": "markdown",
   "metadata": {},
   "source": [
    "So, we want to deal with a) the absolute missing values (NAs) and with b) the coded missing values (negative numbers). "
   ]
  },
  {
   "cell_type": "markdown",
   "metadata": {},
   "source": [
    "### NA columns\n",
    "\n",
    "1. If the entire column is NA, there is not much we can hope to do the way of imputation, so let's leave as is. \n",
    "2. For those columns where not all rows are NA, perhaps we can make a difference.\n",
    "\n",
    "Which columns should we try to tackle, here? Let's just look at one column, first:"
   ]
  },
  {
   "cell_type": "code",
   "execution_count": 18,
   "metadata": {
    "collapsed": false
   },
   "outputs": [
    {
     "data": {
      "text/html": [
       "<div>\n",
       "<table border=\"1\" class=\"dataframe\">\n",
       "  <thead>\n",
       "    <tr style=\"text-align: right;\">\n",
       "      <th></th>\n",
       "      <th>index</th>\n",
       "      <th>percent_NA</th>\n",
       "    </tr>\n",
       "  </thead>\n",
       "  <tbody>\n",
       "    <tr>\n",
       "      <th>335</th>\n",
       "      <td>cm1finjail</td>\n",
       "      <td>0.011652</td>\n",
       "    </tr>\n",
       "    <tr>\n",
       "      <th>6900</th>\n",
       "      <td>cmf4fevjail</td>\n",
       "      <td>0.032899</td>\n",
       "    </tr>\n",
       "  </tbody>\n",
       "</table>\n",
       "</div>"
      ],
      "text/plain": [
       "            index  percent_NA\n",
       "335    cm1finjail    0.011652\n",
       "6900  cmf4fevjail    0.032899"
      ]
     },
     "execution_count": 18,
     "metadata": {},
     "output_type": "execute_result"
    }
   ],
   "source": [
    "nans = nan_percents.reset_index(name='percent_NA')\n",
    "nans.query('.01<percent_NA < .04')"
   ]
  },
  {
   "cell_type": "markdown",
   "metadata": {},
   "source": [
    "Questions above have only a relatively few NAs. Can we use the sklearn imputer?"
   ]
  },
  {
   "cell_type": "code",
   "execution_count": 49,
   "metadata": {
    "collapsed": false
   },
   "outputs": [
    {
     "data": {
      "text/plain": [
       "cm1finjail     17\n",
       "cmf4fevjail    48\n",
       "dtype: int64"
      ]
     },
     "execution_count": 49,
     "metadata": {},
     "output_type": "execute_result"
    }
   ],
   "source": [
    "test_impute = df_train_mh[['cm1finjail','cmf4fevjail']]\n",
    "test_impute.isnull().sum()"
   ]
  },
  {
   "cell_type": "code",
   "execution_count": 53,
   "metadata": {
    "collapsed": false
   },
   "outputs": [],
   "source": [
    "from fancyimpute import SimpleFill\n",
    "filled = SimpleFill('median').complete(test_impute)"
   ]
  },
  {
   "cell_type": "code",
   "execution_count": 51,
   "metadata": {
    "collapsed": false
   },
   "outputs": [
    {
     "data": {
      "text/plain": [
       "0    0\n",
       "1    0\n",
       "dtype: int64"
      ]
     },
     "execution_count": 51,
     "metadata": {},
     "output_type": "execute_result"
    }
   ],
   "source": [
    "filled = pd.DataFrame(filled)\n",
    "filled.isnull().sum()\n",
    "# so the SimpleFill works "
   ]
  },
  {
   "cell_type": "markdown",
   "metadata": {},
   "source": [
    "What about using a more complicated filler?"
   ]
  },
  {
   "cell_type": "code",
   "execution_count": 72,
   "metadata": {
    "collapsed": false
   },
   "outputs": [
    {
     "name": "stdout",
     "output_type": "stream",
     "text": [
      "[MICE] Completing matrix with shape (1459, 2)\n",
      "[MICE] Starting imputation round 1/110, elapsed time 0.001\n",
      "[MICE] Starting imputation round 2/110, elapsed time 0.002\n",
      "[MICE] Starting imputation round 3/110, elapsed time 0.003\n",
      "[MICE] Starting imputation round 4/110, elapsed time 0.004\n",
      "[MICE] Starting imputation round 5/110, elapsed time 0.005\n",
      "[MICE] Starting imputation round 6/110, elapsed time 0.006\n",
      "[MICE] Starting imputation round 7/110, elapsed time 0.007\n",
      "[MICE] Starting imputation round 8/110, elapsed time 0.008\n",
      "[MICE] Starting imputation round 9/110, elapsed time 0.009\n",
      "[MICE] Starting imputation round 10/110, elapsed time 0.010\n",
      "[MICE] Starting imputation round 11/110, elapsed time 0.011\n",
      "[MICE] Starting imputation round 12/110, elapsed time 0.012\n",
      "[MICE] Starting imputation round 13/110, elapsed time 0.014\n",
      "[MICE] Starting imputation round 14/110, elapsed time 0.015\n",
      "[MICE] Starting imputation round 15/110, elapsed time 0.016\n",
      "[MICE] Starting imputation round 16/110, elapsed time 0.017\n",
      "[MICE] Starting imputation round 17/110, elapsed time 0.019\n",
      "[MICE] Starting imputation round 18/110, elapsed time 0.020\n",
      "[MICE] Starting imputation round 19/110, elapsed time 0.021\n",
      "[MICE] Starting imputation round 20/110, elapsed time 0.022\n",
      "[MICE] Starting imputation round 21/110, elapsed time 0.024\n",
      "[MICE] Starting imputation round 22/110, elapsed time 0.025\n",
      "[MICE] Starting imputation round 23/110, elapsed time 0.026\n",
      "[MICE] Starting imputation round 24/110, elapsed time 0.027\n",
      "[MICE] Starting imputation round 25/110, elapsed time 0.028\n",
      "[MICE] Starting imputation round 26/110, elapsed time 0.029\n",
      "[MICE] Starting imputation round 27/110, elapsed time 0.030\n",
      "[MICE] Starting imputation round 28/110, elapsed time 0.032\n",
      "[MICE] Starting imputation round 29/110, elapsed time 0.033\n",
      "[MICE] Starting imputation round 30/110, elapsed time 0.034\n",
      "[MICE] Starting imputation round 31/110, elapsed time 0.035\n",
      "[MICE] Starting imputation round 32/110, elapsed time 0.035\n",
      "[MICE] Starting imputation round 33/110, elapsed time 0.036\n",
      "[MICE] Starting imputation round 34/110, elapsed time 0.037\n",
      "[MICE] Starting imputation round 35/110, elapsed time 0.038\n",
      "[MICE] Starting imputation round 36/110, elapsed time 0.039\n",
      "[MICE] Starting imputation round 37/110, elapsed time 0.040\n",
      "[MICE] Starting imputation round 38/110, elapsed time 0.041\n",
      "[MICE] Starting imputation round 39/110, elapsed time 0.042\n",
      "[MICE] Starting imputation round 40/110, elapsed time 0.043\n",
      "[MICE] Starting imputation round 41/110, elapsed time 0.045\n",
      "[MICE] Starting imputation round 42/110, elapsed time 0.061\n",
      "[MICE] Starting imputation round 43/110, elapsed time 0.062\n",
      "[MICE] Starting imputation round 44/110, elapsed time 0.065\n",
      "[MICE] Starting imputation round 45/110, elapsed time 0.066\n",
      "[MICE] Starting imputation round 46/110, elapsed time 0.068\n",
      "[MICE] Starting imputation round 47/110, elapsed time 0.070\n",
      "[MICE] Starting imputation round 48/110, elapsed time 0.071\n",
      "[MICE] Starting imputation round 49/110, elapsed time 0.073\n",
      "[MICE] Starting imputation round 50/110, elapsed time 0.074\n",
      "[MICE] Starting imputation round 51/110, elapsed time 0.075\n",
      "[MICE] Starting imputation round 52/110, elapsed time 0.076\n",
      "[MICE] Starting imputation round 53/110, elapsed time 0.077\n",
      "[MICE] Starting imputation round 54/110, elapsed time 0.079\n",
      "[MICE] Starting imputation round 55/110, elapsed time 0.080\n",
      "[MICE] Starting imputation round 56/110, elapsed time 0.082\n",
      "[MICE] Starting imputation round 57/110, elapsed time 0.085\n",
      "[MICE] Starting imputation round 58/110, elapsed time 0.088\n",
      "[MICE] Starting imputation round 59/110, elapsed time 0.091\n",
      "[MICE] Starting imputation round 60/110, elapsed time 0.094\n",
      "[MICE] Starting imputation round 61/110, elapsed time 0.095\n",
      "[MICE] Starting imputation round 62/110, elapsed time 0.097\n",
      "[MICE] Starting imputation round 63/110, elapsed time 0.098\n",
      "[MICE] Starting imputation round 64/110, elapsed time 0.099\n",
      "[MICE] Starting imputation round 65/110, elapsed time 0.099\n",
      "[MICE] Starting imputation round 66/110, elapsed time 0.100\n",
      "[MICE] Starting imputation round 67/110, elapsed time 0.101\n",
      "[MICE] Starting imputation round 68/110, elapsed time 0.101\n",
      "[MICE] Starting imputation round 69/110, elapsed time 0.102\n",
      "[MICE] Starting imputation round 70/110, elapsed time 0.103\n",
      "[MICE] Starting imputation round 71/110, elapsed time 0.105\n",
      "[MICE] Starting imputation round 72/110, elapsed time 0.106\n",
      "[MICE] Starting imputation round 73/110, elapsed time 0.108\n",
      "[MICE] Starting imputation round 74/110, elapsed time 0.109\n",
      "[MICE] Starting imputation round 75/110, elapsed time 0.110\n",
      "[MICE] Starting imputation round 76/110, elapsed time 0.110\n",
      "[MICE] Starting imputation round 77/110, elapsed time 0.111\n",
      "[MICE] Starting imputation round 78/110, elapsed time 0.112\n",
      "[MICE] Starting imputation round 79/110, elapsed time 0.112\n",
      "[MICE] Starting imputation round 80/110, elapsed time 0.113\n",
      "[MICE] Starting imputation round 81/110, elapsed time 0.114\n",
      "[MICE] Starting imputation round 82/110, elapsed time 0.115\n",
      "[MICE] Starting imputation round 83/110, elapsed time 0.115\n",
      "[MICE] Starting imputation round 84/110, elapsed time 0.116\n",
      "[MICE] Starting imputation round 85/110, elapsed time 0.117\n",
      "[MICE] Starting imputation round 86/110, elapsed time 0.117\n",
      "[MICE] Starting imputation round 87/110, elapsed time 0.118\n",
      "[MICE] Starting imputation round 88/110, elapsed time 0.118\n",
      "[MICE] Starting imputation round 89/110, elapsed time 0.119\n",
      "[MICE] Starting imputation round 90/110, elapsed time 0.120\n",
      "[MICE] Starting imputation round 91/110, elapsed time 0.120\n",
      "[MICE] Starting imputation round 92/110, elapsed time 0.121\n",
      "[MICE] Starting imputation round 93/110, elapsed time 0.121\n",
      "[MICE] Starting imputation round 94/110, elapsed time 0.122\n",
      "[MICE] Starting imputation round 95/110, elapsed time 0.123\n",
      "[MICE] Starting imputation round 96/110, elapsed time 0.123\n",
      "[MICE] Starting imputation round 97/110, elapsed time 0.124\n",
      "[MICE] Starting imputation round 98/110, elapsed time 0.125\n",
      "[MICE] Starting imputation round 99/110, elapsed time 0.125\n",
      "[MICE] Starting imputation round 100/110, elapsed time 0.126\n",
      "[MICE] Starting imputation round 101/110, elapsed time 0.126\n",
      "[MICE] Starting imputation round 102/110, elapsed time 0.127\n",
      "[MICE] Starting imputation round 103/110, elapsed time 0.128\n",
      "[MICE] Starting imputation round 104/110, elapsed time 0.128\n",
      "[MICE] Starting imputation round 105/110, elapsed time 0.129\n",
      "[MICE] Starting imputation round 106/110, elapsed time 0.129\n",
      "[MICE] Starting imputation round 107/110, elapsed time 0.130\n",
      "[MICE] Starting imputation round 108/110, elapsed time 0.131\n",
      "[MICE] Starting imputation round 109/110, elapsed time 0.131\n",
      "[MICE] Starting imputation round 110/110, elapsed time 0.132\n"
     ]
    },
    {
     "data": {
      "text/plain": [
       "0    0\n",
       "1    0\n",
       "dtype: int64"
      ]
     },
     "execution_count": 72,
     "metadata": {},
     "output_type": "execute_result"
    }
   ],
   "source": [
    "from fancyimpute import MICE \n",
    "test_array = np.asarray(test_impute) # convert to np array\n",
    "test_array.shape\n",
    "mice_filled = MICE().complete(test_array) # complete the two columns in test_array\n",
    "pd.DataFrame(mice_filled).isnull().sum() # this works too!"
   ]
  },
  {
   "cell_type": "code",
   "execution_count": 74,
   "metadata": {
    "collapsed": false
   },
   "outputs": [
    {
     "name": "stdout",
     "output_type": "stream",
     "text": [
      "[MICE] Completing matrix with shape (1459, 12943)\n"
     ]
    },
    {
     "ename": "TypeError",
     "evalue": "ufunc 'isnan' not supported for the input types, and the inputs could not be safely coerced to any supported types according to the casting rule ''safe''",
     "output_type": "error",
     "traceback": [
      "\u001b[0;31m---------------------------------------------------------------------------\u001b[0m",
      "\u001b[0;31mTypeError\u001b[0m                                 Traceback (most recent call last)",
      "\u001b[0;32m<ipython-input-74-ef95aa949e90>\u001b[0m in \u001b[0;36m<module>\u001b[0;34m()\u001b[0m\n\u001b[1;32m      1\u001b[0m \u001b[0mtrain_array\u001b[0m \u001b[0;34m=\u001b[0m \u001b[0mnp\u001b[0m\u001b[0;34m.\u001b[0m\u001b[0masarray\u001b[0m\u001b[0;34m(\u001b[0m\u001b[0mdf_train_mh\u001b[0m\u001b[0;34m)\u001b[0m\u001b[0;34m\u001b[0m\u001b[0m\n\u001b[0;32m----> 2\u001b[0;31m \u001b[0mtrain_mice\u001b[0m \u001b[0;34m=\u001b[0m  \u001b[0mMICE\u001b[0m\u001b[0;34m(\u001b[0m\u001b[0;34m)\u001b[0m\u001b[0;34m.\u001b[0m\u001b[0mcomplete\u001b[0m\u001b[0;34m(\u001b[0m\u001b[0mtrain_array\u001b[0m\u001b[0;34m)\u001b[0m\u001b[0;34m\u001b[0m\u001b[0m\n\u001b[0m",
      "\u001b[0;32m/anaconda/envs/py35/lib/python3.5/site-packages/fancyimpute/mice.py\u001b[0m in \u001b[0;36mcomplete\u001b[0;34m(self, X)\u001b[0m\n\u001b[1;32m    332\u001b[0m             \u001b[0mprint\u001b[0m\u001b[0;34m(\u001b[0m\u001b[0;34m\"[MICE] Completing matrix with shape %s\"\u001b[0m \u001b[0;34m%\u001b[0m \u001b[0;34m(\u001b[0m\u001b[0mX\u001b[0m\u001b[0;34m.\u001b[0m\u001b[0mshape\u001b[0m\u001b[0;34m,\u001b[0m\u001b[0;34m)\u001b[0m\u001b[0;34m)\u001b[0m\u001b[0;34m\u001b[0m\u001b[0m\n\u001b[1;32m    333\u001b[0m         \u001b[0mX_completed\u001b[0m \u001b[0;34m=\u001b[0m \u001b[0mX\u001b[0m\u001b[0;34m.\u001b[0m\u001b[0mcopy\u001b[0m\u001b[0;34m(\u001b[0m\u001b[0;34m)\u001b[0m\u001b[0;34m\u001b[0m\u001b[0m\n\u001b[0;32m--> 334\u001b[0;31m         \u001b[0mimputed_arrays\u001b[0m\u001b[0;34m,\u001b[0m \u001b[0mmissing_mask\u001b[0m \u001b[0;34m=\u001b[0m \u001b[0mself\u001b[0m\u001b[0;34m.\u001b[0m\u001b[0mmultiple_imputations\u001b[0m\u001b[0;34m(\u001b[0m\u001b[0mX\u001b[0m\u001b[0;34m)\u001b[0m\u001b[0;34m\u001b[0m\u001b[0m\n\u001b[0m\u001b[1;32m    335\u001b[0m         \u001b[0;31m# average the imputed values for each feature\u001b[0m\u001b[0;34m\u001b[0m\u001b[0;34m\u001b[0m\u001b[0m\n\u001b[1;32m    336\u001b[0m         \u001b[0maverage_imputated_values\u001b[0m \u001b[0;34m=\u001b[0m \u001b[0mimputed_arrays\u001b[0m\u001b[0;34m.\u001b[0m\u001b[0mmean\u001b[0m\u001b[0;34m(\u001b[0m\u001b[0maxis\u001b[0m\u001b[0;34m=\u001b[0m\u001b[0;36m0\u001b[0m\u001b[0;34m)\u001b[0m\u001b[0;34m\u001b[0m\u001b[0m\n",
      "\u001b[0;32m/anaconda/envs/py35/lib/python3.5/site-packages/fancyimpute/mice.py\u001b[0m in \u001b[0;36mmultiple_imputations\u001b[0;34m(self, X)\u001b[0m\n\u001b[1;32m    293\u001b[0m         \u001b[0mX\u001b[0m \u001b[0;34m=\u001b[0m \u001b[0mnp\u001b[0m\u001b[0;34m.\u001b[0m\u001b[0masarray\u001b[0m\u001b[0;34m(\u001b[0m\u001b[0mX\u001b[0m\u001b[0;34m)\u001b[0m\u001b[0;34m\u001b[0m\u001b[0m\n\u001b[1;32m    294\u001b[0m         \u001b[0mself\u001b[0m\u001b[0;34m.\u001b[0m\u001b[0m_check_input\u001b[0m\u001b[0;34m(\u001b[0m\u001b[0mX\u001b[0m\u001b[0;34m)\u001b[0m\u001b[0;34m\u001b[0m\u001b[0m\n\u001b[0;32m--> 295\u001b[0;31m         \u001b[0mmissing_mask\u001b[0m \u001b[0;34m=\u001b[0m \u001b[0mnp\u001b[0m\u001b[0;34m.\u001b[0m\u001b[0misnan\u001b[0m\u001b[0;34m(\u001b[0m\u001b[0mX\u001b[0m\u001b[0;34m)\u001b[0m\u001b[0;34m\u001b[0m\u001b[0m\n\u001b[0m\u001b[1;32m    296\u001b[0m         \u001b[0mself\u001b[0m\u001b[0;34m.\u001b[0m\u001b[0m_check_missing_value_mask\u001b[0m\u001b[0;34m(\u001b[0m\u001b[0mmissing_mask\u001b[0m\u001b[0;34m)\u001b[0m\u001b[0;34m\u001b[0m\u001b[0m\n\u001b[1;32m    297\u001b[0m \u001b[0;34m\u001b[0m\u001b[0m\n",
      "\u001b[0;31mTypeError\u001b[0m: ufunc 'isnan' not supported for the input types, and the inputs could not be safely coerced to any supported types according to the casting rule ''safe''"
     ]
    }
   ],
   "source": [
    "train_array = np.asarray(df_train_mh)\n",
    "train_mice =  MICE().complete(train_array)"
   ]
  },
  {
   "cell_type": "markdown",
   "metadata": {},
   "source": [
    "### Coded missing values"
   ]
  },
  {
   "cell_type": "markdown",
   "metadata": {},
   "source": [
    "## Data augumentation and balancing"
   ]
  },
  {
   "cell_type": "markdown",
   "metadata": {},
   "source": [
    "In image processing, if people have n pictures to train on, they will artificially increase the size of their training set by randomly altering a few pixels. They call this data [augmentation](https://www.google.com/webhp?sourceid=chrome-instant&ion=1&espv=2&ie=UTF-8#q=data+augmentation+image+classification). This of course keeps the class of the image (eg cat) the same, but it gives the model a little bit extra of variation to learn from. This seems like it would work here, too. For example:\n",
    "\n",
    "If Joe has a homeless mom who is single, and relatives visit 3x per week and Joe experiences 5/11 on material hardship, it seems reasonable to create another hypothetical individual who also has a homeless and single mom, whose relatives visit 2x a week and also experiences 5/11. If we feed both individuals to the model, it will hopefully learn better that the single and homeless mom is a strong predictor of material hardship, regardless of relative visitation."
   ]
  },
  {
   "cell_type": "code",
   "execution_count": null,
   "metadata": {
    "collapsed": true
   },
   "outputs": [],
   "source": []
  }
 ],
 "metadata": {
  "kernelspec": {
   "display_name": "Python 3",
   "language": "python",
   "name": "python3"
  },
  "language_info": {
   "codemirror_mode": {
    "name": "ipython",
    "version": 3
   },
   "file_extension": ".py",
   "mimetype": "text/x-python",
   "name": "python",
   "nbconvert_exporter": "python",
   "pygments_lexer": "ipython3",
   "version": "3.5.2"
  }
 },
 "nbformat": 4,
 "nbformat_minor": 2
}
