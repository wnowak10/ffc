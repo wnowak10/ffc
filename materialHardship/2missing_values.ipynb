{
 "cells": [
  {
   "cell_type": "markdown",
   "metadata": {},
   "source": [
    "1. [Imports](#ims)\n",
    "2. [Data preprocessing](#pp)  "
   ]
  },
  {
   "cell_type": "markdown",
   "metadata": {},
   "source": [
    "# 1. Imports<a name=\"ims\"></a>"
   ]
  },
  {
   "cell_type": "code",
   "execution_count": 1,
   "metadata": {
    "collapsed": false
   },
   "outputs": [],
   "source": [
    "import numpy as np\n",
    "import pandas as pd\n",
    "import xgboost as xgb\n",
    "# from sklearn.model_selection import train_test_split\n",
    "import statsmodels \n",
    "# from data_prepare import df_train, df_prediction, non_na_y_train_materialHardship\n",
    "\n",
    "import matplotlib.pyplot as plt\n",
    "import seaborn as sns\n",
    "%matplotlib inline  "
   ]
  },
  {
   "cell_type": "markdown",
   "metadata": {},
   "source": [
    "Let's read df_train, df_prediction, non_na_y_train_materialHardship from pickled files. "
   ]
  },
  {
   "cell_type": "code",
   "execution_count": 2,
   "metadata": {
    "collapsed": true
   },
   "outputs": [],
   "source": [
    "df_train, df_prediction, non_na_y_train_materialHardship = pd.read_pickle('df_train'), pd.read_pickle('df_prediction'), pd.read_pickle('non_na_y_train_materialHardship')"
   ]
  },
  {
   "cell_type": "markdown",
   "metadata": {},
   "source": [
    "Check out what kinds of data we have:"
   ]
  },
  {
   "cell_type": "code",
   "execution_count": 3,
   "metadata": {
    "collapsed": false
   },
   "outputs": [
    {
     "data": {
      "text/plain": [
       "int64      9489\n",
       "float64    3307\n",
       "object      147\n",
       "dtype: int64"
      ]
     },
     "execution_count": 3,
     "metadata": {},
     "output_type": "execute_result"
    }
   ],
   "source": [
    "# distribution of different data types\n",
    "df_train.dtypes.value_counts()"
   ]
  },
  {
   "cell_type": "code",
   "execution_count": 4,
   "metadata": {
    "collapsed": false
   },
   "outputs": [
    {
     "data": {
      "text/html": [
       "<div>\n",
       "<table border=\"1\" class=\"dataframe\">\n",
       "  <thead>\n",
       "    <tr style=\"text-align: right;\">\n",
       "      <th></th>\n",
       "      <th>challengeID</th>\n",
       "      <th>m1intmon</th>\n",
       "      <th>m1intyr</th>\n",
       "      <th>m1lenhr</th>\n",
       "      <th>m1lenmin</th>\n",
       "      <th>cm1twoc</th>\n",
       "      <th>cm1fint</th>\n",
       "      <th>cm1tdiff</th>\n",
       "      <th>cm1natsm</th>\n",
       "      <th>m1natwt</th>\n",
       "      <th>...</th>\n",
       "      <th>m4d9</th>\n",
       "      <th>m4e23</th>\n",
       "      <th>f4d6</th>\n",
       "      <th>f4d7</th>\n",
       "      <th>f4d9</th>\n",
       "      <th>m5c6</th>\n",
       "      <th>m5d20</th>\n",
       "      <th>m5k10</th>\n",
       "      <th>f5c6</th>\n",
       "      <th>k5f1</th>\n",
       "    </tr>\n",
       "  </thead>\n",
       "  <tbody>\n",
       "    <tr>\n",
       "      <th>5</th>\n",
       "      <td>6</td>\n",
       "      <td>-3</td>\n",
       "      <td>NaN</td>\n",
       "      <td>0</td>\n",
       "      <td>25</td>\n",
       "      <td>NaN</td>\n",
       "      <td>1</td>\n",
       "      <td>NaN</td>\n",
       "      <td>NaN</td>\n",
       "      <td>NaN</td>\n",
       "      <td>...</td>\n",
       "      <td>8.51570</td>\n",
       "      <td>10.558813</td>\n",
       "      <td>-3.000000</td>\n",
       "      <td>-3.000000</td>\n",
       "      <td>7.022328</td>\n",
       "      <td>-3.000000</td>\n",
       "      <td>10.564085</td>\n",
       "      <td>-3</td>\n",
       "      <td>-3.000000</td>\n",
       "      <td>10.255825</td>\n",
       "    </tr>\n",
       "    <tr>\n",
       "      <th>6</th>\n",
       "      <td>7</td>\n",
       "      <td>-3</td>\n",
       "      <td>NaN</td>\n",
       "      <td>0</td>\n",
       "      <td>35</td>\n",
       "      <td>NaN</td>\n",
       "      <td>1</td>\n",
       "      <td>NaN</td>\n",
       "      <td>NaN</td>\n",
       "      <td>NaN</td>\n",
       "      <td>...</td>\n",
       "      <td>-3.00000</td>\n",
       "      <td>-3.000000</td>\n",
       "      <td>9.660643</td>\n",
       "      <td>9.861125</td>\n",
       "      <td>-3.000000</td>\n",
       "      <td>10.991854</td>\n",
       "      <td>-3.000000</td>\n",
       "      <td>-3</td>\n",
       "      <td>10.972726</td>\n",
       "      <td>10.859800</td>\n",
       "    </tr>\n",
       "    <tr>\n",
       "      <th>8</th>\n",
       "      <td>9</td>\n",
       "      <td>-3</td>\n",
       "      <td>NaN</td>\n",
       "      <td>0</td>\n",
       "      <td>30</td>\n",
       "      <td>NaN</td>\n",
       "      <td>1</td>\n",
       "      <td>NaN</td>\n",
       "      <td>NaN</td>\n",
       "      <td>NaN</td>\n",
       "      <td>...</td>\n",
       "      <td>-3.00000</td>\n",
       "      <td>-3.000000</td>\n",
       "      <td>11.689877</td>\n",
       "      <td>9.373199</td>\n",
       "      <td>-3.000000</td>\n",
       "      <td>8.194868</td>\n",
       "      <td>-3.000000</td>\n",
       "      <td>-3</td>\n",
       "      <td>9.842380</td>\n",
       "      <td>9.566678</td>\n",
       "    </tr>\n",
       "    <tr>\n",
       "      <th>9</th>\n",
       "      <td>10</td>\n",
       "      <td>-3</td>\n",
       "      <td>NaN</td>\n",
       "      <td>0</td>\n",
       "      <td>33</td>\n",
       "      <td>NaN</td>\n",
       "      <td>1</td>\n",
       "      <td>NaN</td>\n",
       "      <td>NaN</td>\n",
       "      <td>NaN</td>\n",
       "      <td>...</td>\n",
       "      <td>-3.00000</td>\n",
       "      <td>-3.000000</td>\n",
       "      <td>-3.000000</td>\n",
       "      <td>-3.000000</td>\n",
       "      <td>-3.000000</td>\n",
       "      <td>-3.000000</td>\n",
       "      <td>10.564085</td>\n",
       "      <td>-3</td>\n",
       "      <td>-3.000000</td>\n",
       "      <td>10.105870</td>\n",
       "    </tr>\n",
       "    <tr>\n",
       "      <th>12</th>\n",
       "      <td>13</td>\n",
       "      <td>-3</td>\n",
       "      <td>NaN</td>\n",
       "      <td>1</td>\n",
       "      <td>-3</td>\n",
       "      <td>NaN</td>\n",
       "      <td>1</td>\n",
       "      <td>NaN</td>\n",
       "      <td>NaN</td>\n",
       "      <td>NaN</td>\n",
       "      <td>...</td>\n",
       "      <td>10.78074</td>\n",
       "      <td>-3.000000</td>\n",
       "      <td>-3.000000</td>\n",
       "      <td>-3.000000</td>\n",
       "      <td>8.944119</td>\n",
       "      <td>-3.000000</td>\n",
       "      <td>9.781718</td>\n",
       "      <td>-3</td>\n",
       "      <td>-3.000000</td>\n",
       "      <td>9.566678</td>\n",
       "    </tr>\n",
       "  </tbody>\n",
       "</table>\n",
       "<p>5 rows × 12943 columns</p>\n",
       "</div>"
      ],
      "text/plain": [
       "    challengeID  m1intmon  m1intyr  m1lenhr  m1lenmin  cm1twoc  cm1fint  \\\n",
       "5             6        -3      NaN        0        25      NaN        1   \n",
       "6             7        -3      NaN        0        35      NaN        1   \n",
       "8             9        -3      NaN        0        30      NaN        1   \n",
       "9            10        -3      NaN        0        33      NaN        1   \n",
       "12           13        -3      NaN        1        -3      NaN        1   \n",
       "\n",
       "    cm1tdiff  cm1natsm  m1natwt    ...          m4d9      m4e23       f4d6  \\\n",
       "5        NaN       NaN      NaN    ...       8.51570  10.558813  -3.000000   \n",
       "6        NaN       NaN      NaN    ...      -3.00000  -3.000000   9.660643   \n",
       "8        NaN       NaN      NaN    ...      -3.00000  -3.000000  11.689877   \n",
       "9        NaN       NaN      NaN    ...      -3.00000  -3.000000  -3.000000   \n",
       "12       NaN       NaN      NaN    ...      10.78074  -3.000000  -3.000000   \n",
       "\n",
       "        f4d7      f4d9       m5c6      m5d20  m5k10       f5c6       k5f1  \n",
       "5  -3.000000  7.022328  -3.000000  10.564085     -3  -3.000000  10.255825  \n",
       "6   9.861125 -3.000000  10.991854  -3.000000     -3  10.972726  10.859800  \n",
       "8   9.373199 -3.000000   8.194868  -3.000000     -3   9.842380   9.566678  \n",
       "9  -3.000000 -3.000000  -3.000000  10.564085     -3  -3.000000  10.105870  \n",
       "12 -3.000000  8.944119  -3.000000   9.781718     -3  -3.000000   9.566678  \n",
       "\n",
       "[5 rows x 12943 columns]"
      ]
     },
     "execution_count": 4,
     "metadata": {},
     "output_type": "execute_result"
    }
   ],
   "source": [
    "df_train.head()"
   ]
  },
  {
   "cell_type": "markdown",
   "metadata": {},
   "source": [
    "We have 12943 columns. Fortunately, they are ordered somewhat. According to the [documentation](http://www.fragilefamilieschallenge.org/apply/), the first letter indicates the respondent (m for mother...) and the number indicates the survey wave. Perhaps we can later use this to help our model construction. "
   ]
  },
  {
   "cell_type": "markdown",
   "metadata": {},
   "source": [
    "# 2. Data Preprocessing<a name=\"pp\"></a>"
   ]
  },
  {
   "cell_type": "markdown",
   "metadata": {},
   "source": [
    "## 2a. Change labels to categorical <a name=\"pp\"></a>"
   ]
  },
  {
   "cell_type": "code",
   "execution_count": 5,
   "metadata": {
    "collapsed": false
   },
   "outputs": [
    {
     "data": {
      "text/plain": [
       "dtype('float64')"
      ]
     },
     "execution_count": 5,
     "metadata": {},
     "output_type": "execute_result"
    }
   ],
   "source": [
    "np.dtype(non_na_y_train_materialHardship['materialHardship'])"
   ]
  },
  {
   "cell_type": "markdown",
   "metadata": {},
   "source": [
    "Though np recognizes this variable as a float, it is really categorical, with an individual having anywhere from 0 to all 11 material hardship conditions experienced in the affirmative."
   ]
  },
  {
   "cell_type": "markdown",
   "metadata": {},
   "source": [
    "I am not sure, but I think it might be better to convert this to categorical to predict with a neural network (or with a decision tree). It seems like converting to one of 11 categories would make the problem simpler -- instead of trying to predict a continuous range from [0,1], we only need to predict one of 11 categories. It is probably easier to make a bet on 1/11 categories, instead of 1/$\\infty$ categories!"
   ]
  },
  {
   "cell_type": "code",
   "execution_count": 6,
   "metadata": {
    "collapsed": false
   },
   "outputs": [
    {
     "data": {
      "text/plain": [
       "0.0    807\n",
       "1.0    248\n",
       "2.0    136\n",
       "3.0    104\n",
       "4.0     61\n",
       "5.0     58\n",
       "6.0     26\n",
       "7.0     11\n",
       "8.0      6\n",
       "9.0      2\n",
       "Name: materialHardship, dtype: int64"
      ]
     },
     "execution_count": 6,
     "metadata": {},
     "output_type": "execute_result"
    }
   ],
   "source": [
    "a = non_na_y_train_materialHardship['materialHardship']*11\n",
    "b = round(a)\n",
    "b.value_counts()"
   ]
  },
  {
   "cell_type": "code",
   "execution_count": 7,
   "metadata": {
    "collapsed": false
   },
   "outputs": [
    {
     "data": {
      "text/html": [
       "<div>\n",
       "<table border=\"1\" class=\"dataframe\">\n",
       "  <thead>\n",
       "    <tr style=\"text-align: right;\">\n",
       "      <th></th>\n",
       "      <th>challengeID</th>\n",
       "      <th>materialHardship</th>\n",
       "    </tr>\n",
       "  </thead>\n",
       "  <tbody>\n",
       "    <tr>\n",
       "      <th>2</th>\n",
       "      <td>6</td>\n",
       "      <td>1</td>\n",
       "    </tr>\n",
       "    <tr>\n",
       "      <th>3</th>\n",
       "      <td>7</td>\n",
       "      <td>0</td>\n",
       "    </tr>\n",
       "    <tr>\n",
       "      <th>5</th>\n",
       "      <td>9</td>\n",
       "      <td>2</td>\n",
       "    </tr>\n",
       "    <tr>\n",
       "      <th>6</th>\n",
       "      <td>10</td>\n",
       "      <td>1</td>\n",
       "    </tr>\n",
       "    <tr>\n",
       "      <th>7</th>\n",
       "      <td>13</td>\n",
       "      <td>2</td>\n",
       "    </tr>\n",
       "  </tbody>\n",
       "</table>\n",
       "</div>"
      ],
      "text/plain": [
       "   challengeID materialHardship\n",
       "2            6                1\n",
       "3            7                0\n",
       "5            9                2\n",
       "6           10                1\n",
       "7           13                2"
      ]
     },
     "execution_count": 7,
     "metadata": {},
     "output_type": "execute_result"
    }
   ],
   "source": [
    "y_train = non_na_y_train_materialHardship\n",
    "y_train['materialHardship'] = b.astype(object)\n",
    "y_train.head()"
   ]
  },
  {
   "cell_type": "code",
   "execution_count": 8,
   "metadata": {
    "collapsed": false
   },
   "outputs": [
    {
     "data": {
      "text/plain": [
       "Counter({0.0: 807,\n",
       "         1.0: 248,\n",
       "         2.0: 136,\n",
       "         3.0: 104,\n",
       "         4.0: 61,\n",
       "         5.0: 58,\n",
       "         6.0: 26,\n",
       "         7.0: 11,\n",
       "         8.0: 6,\n",
       "         9.0: 2})"
      ]
     },
     "execution_count": 8,
     "metadata": {},
     "output_type": "execute_result"
    }
   ],
   "source": [
    "import collections\n",
    "collections.Counter(y_train['materialHardship'])"
   ]
  },
  {
   "cell_type": "code",
   "execution_count": 9,
   "metadata": {
    "collapsed": false
   },
   "outputs": [
    {
     "data": {
      "text/plain": [
       "dtype('O')"
      ]
     },
     "execution_count": 9,
     "metadata": {},
     "output_type": "execute_result"
    }
   ],
   "source": [
    "np.dtype(y_train['materialHardship'])"
   ]
  },
  {
   "cell_type": "code",
   "execution_count": 10,
   "metadata": {
    "collapsed": false
   },
   "outputs": [
    {
     "data": {
      "text/html": [
       "<div>\n",
       "<table border=\"1\" class=\"dataframe\">\n",
       "  <thead>\n",
       "    <tr style=\"text-align: right;\">\n",
       "      <th></th>\n",
       "      <th>challengeID</th>\n",
       "      <th>materialHardship</th>\n",
       "    </tr>\n",
       "  </thead>\n",
       "  <tbody>\n",
       "    <tr>\n",
       "      <th>2</th>\n",
       "      <td>6</td>\n",
       "      <td>1</td>\n",
       "    </tr>\n",
       "    <tr>\n",
       "      <th>3</th>\n",
       "      <td>7</td>\n",
       "      <td>0</td>\n",
       "    </tr>\n",
       "    <tr>\n",
       "      <th>5</th>\n",
       "      <td>9</td>\n",
       "      <td>2</td>\n",
       "    </tr>\n",
       "    <tr>\n",
       "      <th>6</th>\n",
       "      <td>10</td>\n",
       "      <td>1</td>\n",
       "    </tr>\n",
       "    <tr>\n",
       "      <th>7</th>\n",
       "      <td>13</td>\n",
       "      <td>2</td>\n",
       "    </tr>\n",
       "  </tbody>\n",
       "</table>\n",
       "</div>"
      ],
      "text/plain": [
       "   challengeID materialHardship\n",
       "2            6                1\n",
       "3            7                0\n",
       "5            9                2\n",
       "6           10                1\n",
       "7           13                2"
      ]
     },
     "execution_count": 10,
     "metadata": {},
     "output_type": "execute_result"
    }
   ],
   "source": [
    "y_train.head()"
   ]
  },
  {
   "cell_type": "markdown",
   "metadata": {},
   "source": [
    "OK, so we converted our labels to an object type with 10 categories (no one went 11 for 11 in the training) This could be problematic...we need to account for possibility that someone could have all 11 in the test set, so note this later on!"
   ]
  },
  {
   "cell_type": "markdown",
   "metadata": {},
   "source": [
    "## 2b. Missing value imputation"
   ]
  },
  {
   "cell_type": "markdown",
   "metadata": {
    "variables": {
     "df_train.shape[1]": "12943"
    }
   },
   "source": [
    "There is a crap ton of features in this set. {{df_train.shape[1]}} to be exact. Unfortunately, a lot are missing. The authors of the challenge discuss this [here](http://www.fragilefamilieschallenge.org/missing-data/).\n",
    "\n",
    "We can do imputation to fix this. This just means replacing missing values with a good guess, like the mean or median or a regression predictor. I think we should look into doing this.\n",
    "\n",
    "BUT, call me crazy, but I think we should add MORE features. Here is my thought: for features that have a lot of missing values (what constitutes a lot? I don't yet know), we make another column that is simply binary -- either the data exists or it doesn't for this individual and this feature. Simply answering certain questions might be somewhat predictive, so I would think we want a feature that indicates if the response was NA or not. Then, whether or not it was NA, we should have the \"real\" feature that contains the question response.\n",
    "\n",
    "*This is complicated by the fact that missing values aren't coded with NA's here. Typically they have negative values, but different negative numbers mean differen things...so this will be hard to do.*"
   ]
  },
  {
   "cell_type": "markdown",
   "metadata": {},
   "source": [
    "Let's see if we can do it."
   ]
  },
  {
   "cell_type": "code",
   "execution_count": 11,
   "metadata": {
    "collapsed": false
   },
   "outputs": [
    {
     "data": {
      "image/png": "[encoded data removed]",
      "text/plain": [
       "<matplotlib.figure.Figure at 0x1044b47f0>"
      ]
     },
     "metadata": {},
     "output_type": "display_data"
    }
   ],
   "source": [
    "# distribution of NA per question...\n",
    "\n",
    "# find % NA for each questoin\n",
    "# make into list\n",
    "# make histogram\n",
    "import math\n",
    "import statsmodels\n",
    "nan_percents = df_train.isnull().sum() / len(df_train)\n",
    "sns.distplot(nan_percents)\n",
    "sns.plt.suptitle('Distribution of NaNs per question (as a percent of all responses)')\n",
    "plt.show()"
   ]
  },
  {
   "cell_type": "code",
   "execution_count": 12,
   "metadata": {
    "collapsed": false
   },
   "outputs": [],
   "source": [
    "num_all_na = sum(df_train.isnull().sum()==len(df_train))"
   ]
  },
  {
   "cell_type": "markdown",
   "metadata": {
    "variables": {
     "num_all_na": "821"
    }
   },
   "source": [
    "Most questions have no NAN, but a bunch ({{num_all_na}}) have all NAN. If everything is NAN, does imputing even make sense? My initial thought is no, as imputation usually relies on some non_NA values that exist to make informed guesses about the missing data. Since these columns have NA for each respondent, I am tempted to throw them out entirely.\n",
    "\n",
    "However, as I said before, a lot of the questions have coded responses, where negative responses are indicative of a missing response. "
   ]
  },
  {
   "cell_type": "code",
   "execution_count": 13,
   "metadata": {
    "collapsed": false
   },
   "outputs": [],
   "source": [
    "df_train_good_dtypes = df_train.select_dtypes(include=(int, float))\n",
    "num_ints_floats = df_train_good_dtypes.shape[1]"
   ]
  },
  {
   "cell_type": "markdown",
   "metadata": {
    "variables": {
     "df_train.shape[1]": "12943",
     "num_ints_floats": "12796"
    }
   },
   "source": [
    "There are {{num_ints_floats}} int or float variables out of {{df_train.shape[1]}} total variables. So pretty much all variables have outputs that are numeric (even if these numbers are most often representitative of categories)."
   ]
  },
  {
   "cell_type": "code",
   "execution_count": 14,
   "metadata": {
    "collapsed": false
   },
   "outputs": [
    {
     "data": {
      "text/plain": [
       "challengeID       0\n",
       "m1intmon       1459\n",
       "m1intyr           0\n",
       "m1lenhr         253\n",
       "m1lenmin         57\n",
       "dtype: int64"
      ]
     },
     "execution_count": 14,
     "metadata": {},
     "output_type": "execute_result"
    }
   ],
   "source": [
    "num_neg_vals = df_train_good_dtypes.apply(lambda x: sum(x<0), axis=0)\n",
    "# apply a lambda function to sum up all of the rows (for each col) that has a negative value\n",
    "num_neg_vals.head()"
   ]
  },
  {
   "cell_type": "code",
   "execution_count": 15,
   "metadata": {
    "collapsed": false
   },
   "outputs": [
    {
     "data": {
      "image/png": "[encoded data removed]",
      "text/plain": [
       "<matplotlib.figure.Figure at 0x12e184b70>"
      ]
     },
     "metadata": {},
     "output_type": "display_data"
    }
   ],
   "source": [
    "sns.distplot(num_neg_vals)\n",
    "sns.plt.suptitle('Distribution of negative responses for all questions')\n",
    "plt.show()"
   ]
  },
  {
   "cell_type": "markdown",
   "metadata": {
    "variables": {
     "len(df_train)": "1459"
    }
   },
   "source": [
    "Hmmm. The above histogram shows that most questions either have 0 negative values, or lots. All the way on the right, you can see that there are a lot of questions that have ~1500 negative values. Since there are {{len(df_train)}} rows, I will assume that this right most bar just means ALL rows are negative in these columns. That is not helpful."
   ]
  },
  {
   "cell_type": "markdown",
   "metadata": {},
   "source": [
    "So, we want to deal with a) the absolute missing values (NAs) and with b) the coded missing values (negative numbers). "
   ]
  },
  {
   "cell_type": "markdown",
   "metadata": {},
   "source": [
    "### NA columns\n",
    "\n",
    "1. If the entire column is NA, there is not much we can hope to do the way of imputation, so let's leave as is. \n",
    "2. For those columns where not all rows are NA, perhaps we can make a difference.\n",
    "\n",
    "Which columns should we try to tackle, here? Let's just look at one column, first:"
   ]
  },
  {
   "cell_type": "code",
   "execution_count": 16,
   "metadata": {
    "collapsed": false
   },
   "outputs": [
    {
     "data": {
      "text/html": [
       "<div>\n",
       "<table border=\"1\" class=\"dataframe\">\n",
       "  <thead>\n",
       "    <tr style=\"text-align: right;\">\n",
       "      <th></th>\n",
       "      <th>index</th>\n",
       "      <th>percent_NA</th>\n",
       "    </tr>\n",
       "  </thead>\n",
       "  <tbody>\n",
       "    <tr>\n",
       "      <th>335</th>\n",
       "      <td>cm1finjail</td>\n",
       "      <td>0.011652</td>\n",
       "    </tr>\n",
       "    <tr>\n",
       "      <th>6900</th>\n",
       "      <td>cmf4fevjail</td>\n",
       "      <td>0.032899</td>\n",
       "    </tr>\n",
       "  </tbody>\n",
       "</table>\n",
       "</div>"
      ],
      "text/plain": [
       "            index  percent_NA\n",
       "335    cm1finjail    0.011652\n",
       "6900  cmf4fevjail    0.032899"
      ]
     },
     "execution_count": 16,
     "metadata": {},
     "output_type": "execute_result"
    }
   ],
   "source": [
    "nans = nan_percents.reset_index(name='percent_NA')\n",
    "nans.query('.01<percent_NA < .04')"
   ]
  },
  {
   "cell_type": "markdown",
   "metadata": {},
   "source": [
    "Questions above have only a relatively few NAs. Can we use the sklearn imputer?"
   ]
  },
  {
   "cell_type": "code",
   "execution_count": 17,
   "metadata": {
    "collapsed": false
   },
   "outputs": [
    {
     "data": {
      "text/plain": [
       "cm1finjail     17\n",
       "cmf4fevjail    48\n",
       "m1intmon        0\n",
       "dtype: int64"
      ]
     },
     "execution_count": 17,
     "metadata": {},
     "output_type": "execute_result"
    }
   ],
   "source": [
    "test_impute = df_train[['cm1finjail','cmf4fevjail','m1intmon']]\n",
    "test_impute.isnull().sum()"
   ]
  },
  {
   "cell_type": "code",
   "execution_count": 18,
   "metadata": {
    "collapsed": false
   },
   "outputs": [],
   "source": [
    "from fancyimpute import SimpleFill\n",
    "filled = SimpleFill('median').complete(test_impute)"
   ]
  },
  {
   "cell_type": "code",
   "execution_count": 19,
   "metadata": {
    "collapsed": false
   },
   "outputs": [
    {
     "data": {
      "text/plain": [
       "0    0\n",
       "1    0\n",
       "2    0\n",
       "dtype: int64"
      ]
     },
     "execution_count": 19,
     "metadata": {},
     "output_type": "execute_result"
    }
   ],
   "source": [
    "filled = pd.DataFrame(filled)\n",
    "filled.isnull().sum()\n",
    "# so the SimpleFill works "
   ]
  },
  {
   "cell_type": "markdown",
   "metadata": {},
   "source": [
    "This worked. We added the median and now have no missing values for these two columns.\n",
    "\n",
    "What about using a more complicated filler?"
   ]
  },
  {
   "cell_type": "code",
   "execution_count": 20,
   "metadata": {
    "collapsed": false
   },
   "outputs": [
    {
     "data": {
      "text/plain": [
       "(1459, 3)"
      ]
     },
     "execution_count": 20,
     "metadata": {},
     "output_type": "execute_result"
    }
   ],
   "source": [
    "from fancyimpute import MICE \n",
    "test_array = np.asarray(test_impute) # convert to np array\n",
    "test_array.shape"
   ]
  },
  {
   "cell_type": "code",
   "execution_count": 21,
   "metadata": {
    "collapsed": false
   },
   "outputs": [
    {
     "name": "stdout",
     "output_type": "stream",
     "text": [
      "[MICE] Completing matrix with shape (1459, 3)\n",
      "[MICE] Starting imputation round 1/15, elapsed time 0.000\n",
      "[MICE] Starting imputation round 2/15, elapsed time 0.006\n",
      "[MICE] Starting imputation round 3/15, elapsed time 0.010\n",
      "[MICE] Starting imputation round 4/15, elapsed time 0.012\n",
      "[MICE] Starting imputation round 5/15, elapsed time 0.016\n",
      "[MICE] Starting imputation round 6/15, elapsed time 0.021\n",
      "[MICE] Starting imputation round 7/15, elapsed time 0.026\n",
      "[MICE] Starting imputation round 8/15, elapsed time 0.057\n",
      "[MICE] Starting imputation round 9/15, elapsed time 0.060\n",
      "[MICE] Starting imputation round 10/15, elapsed time 0.069\n",
      "[MICE] Starting imputation round 11/15, elapsed time 0.083\n",
      "[MICE] Starting imputation round 12/15, elapsed time 0.085\n",
      "[MICE] Starting imputation round 13/15, elapsed time 0.086\n",
      "[MICE] Starting imputation round 14/15, elapsed time 0.087\n",
      "[MICE] Starting imputation round 15/15, elapsed time 0.088\n"
     ]
    },
    {
     "data": {
      "text/plain": [
       "0    0\n",
       "1    0\n",
       "2    0\n",
       "dtype: int64"
      ]
     },
     "execution_count": 21,
     "metadata": {},
     "output_type": "execute_result"
    }
   ],
   "source": [
    "mice_filled = MICE(n_imputations=5).complete(test_array) # complete the two columns in test_array\n",
    "pd.DataFrame(mice_filled).isnull().sum() # this works too!"
   ]
  },
  {
   "cell_type": "code",
   "execution_count": 22,
   "metadata": {
    "collapsed": false
   },
   "outputs": [
    {
     "data": {
      "text/html": [
       "<div>\n",
       "<table border=\"1\" class=\"dataframe\">\n",
       "  <thead>\n",
       "    <tr style=\"text-align: right;\">\n",
       "      <th></th>\n",
       "      <th>cm1finjail</th>\n",
       "      <th>cmf4fevjail</th>\n",
       "      <th>m1intmon</th>\n",
       "    </tr>\n",
       "  </thead>\n",
       "  <tbody>\n",
       "    <tr>\n",
       "      <th>0</th>\n",
       "      <td>0.0</td>\n",
       "      <td>1.0</td>\n",
       "      <td>-3.0</td>\n",
       "    </tr>\n",
       "    <tr>\n",
       "      <th>1</th>\n",
       "      <td>0.0</td>\n",
       "      <td>0.0</td>\n",
       "      <td>-3.0</td>\n",
       "    </tr>\n",
       "    <tr>\n",
       "      <th>2</th>\n",
       "      <td>0.0</td>\n",
       "      <td>0.0</td>\n",
       "      <td>-3.0</td>\n",
       "    </tr>\n",
       "    <tr>\n",
       "      <th>3</th>\n",
       "      <td>0.0</td>\n",
       "      <td>1.0</td>\n",
       "      <td>-3.0</td>\n",
       "    </tr>\n",
       "    <tr>\n",
       "      <th>4</th>\n",
       "      <td>0.0</td>\n",
       "      <td>0.0</td>\n",
       "      <td>-3.0</td>\n",
       "    </tr>\n",
       "  </tbody>\n",
       "</table>\n",
       "</div>"
      ],
      "text/plain": [
       "   cm1finjail  cmf4fevjail  m1intmon\n",
       "0         0.0          1.0      -3.0\n",
       "1         0.0          0.0      -3.0\n",
       "2         0.0          0.0      -3.0\n",
       "3         0.0          1.0      -3.0\n",
       "4         0.0          0.0      -3.0"
      ]
     },
     "execution_count": 22,
     "metadata": {},
     "output_type": "execute_result"
    }
   ],
   "source": [
    "test_mice_filled_df = pd.DataFrame(mice_filled)\n",
    "test_mice_filled_df.columns = test_impute.columns.values\n",
    "test_mice_filled_df.head()"
   ]
  },
  {
   "cell_type": "markdown",
   "metadata": {},
   "source": [
    "So the MICE imputer worked too. MICE uses some fancy math, but the basic story is that we are using regression to make a prediction for the missing value, given the other values in that row for other columns."
   ]
  },
  {
   "cell_type": "markdown",
   "metadata": {},
   "source": [
    "Let's try to do it for the entire kit and caboodle! We will need to only do this for int or float variables in df_train, which fortunately is most of them. \n",
    "\n",
    "MICE will fail if we try to run for any columns that are all NaN, so let's get rid of those first."
   ]
  },
  {
   "cell_type": "code",
   "execution_count": 23,
   "metadata": {
    "collapsed": false
   },
   "outputs": [
    {
     "data": {
      "text/html": [
       "<div>\n",
       "<table border=\"1\" class=\"dataframe\">\n",
       "  <thead>\n",
       "    <tr style=\"text-align: right;\">\n",
       "      <th></th>\n",
       "      <th>challengeID</th>\n",
       "      <th>m1intmon</th>\n",
       "      <th>m1lenhr</th>\n",
       "      <th>m1lenmin</th>\n",
       "      <th>cm1fint</th>\n",
       "      <th>cm1citsm</th>\n",
       "      <th>m1citywt</th>\n",
       "      <th>innatsm</th>\n",
       "      <th>incitysm</th>\n",
       "      <th>m1a3</th>\n",
       "      <th>...</th>\n",
       "      <th>m4d9</th>\n",
       "      <th>m4e23</th>\n",
       "      <th>f4d6</th>\n",
       "      <th>f4d7</th>\n",
       "      <th>f4d9</th>\n",
       "      <th>m5c6</th>\n",
       "      <th>m5d20</th>\n",
       "      <th>m5k10</th>\n",
       "      <th>f5c6</th>\n",
       "      <th>k5f1</th>\n",
       "    </tr>\n",
       "  </thead>\n",
       "  <tbody>\n",
       "    <tr>\n",
       "      <th>5</th>\n",
       "      <td>6</td>\n",
       "      <td>-3</td>\n",
       "      <td>0</td>\n",
       "      <td>25</td>\n",
       "      <td>1</td>\n",
       "      <td>1</td>\n",
       "      <td>10.593024</td>\n",
       "      <td>1</td>\n",
       "      <td>1</td>\n",
       "      <td>1</td>\n",
       "      <td>...</td>\n",
       "      <td>8.51570</td>\n",
       "      <td>10.558813</td>\n",
       "      <td>-3.000000</td>\n",
       "      <td>-3.000000</td>\n",
       "      <td>7.022328</td>\n",
       "      <td>-3.000000</td>\n",
       "      <td>10.564085</td>\n",
       "      <td>-3</td>\n",
       "      <td>-3.000000</td>\n",
       "      <td>10.255825</td>\n",
       "    </tr>\n",
       "    <tr>\n",
       "      <th>6</th>\n",
       "      <td>7</td>\n",
       "      <td>-3</td>\n",
       "      <td>0</td>\n",
       "      <td>35</td>\n",
       "      <td>1</td>\n",
       "      <td>1</td>\n",
       "      <td>531.335144</td>\n",
       "      <td>1</td>\n",
       "      <td>1</td>\n",
       "      <td>1</td>\n",
       "      <td>...</td>\n",
       "      <td>-3.00000</td>\n",
       "      <td>-3.000000</td>\n",
       "      <td>9.660643</td>\n",
       "      <td>9.861125</td>\n",
       "      <td>-3.000000</td>\n",
       "      <td>10.991854</td>\n",
       "      <td>-3.000000</td>\n",
       "      <td>-3</td>\n",
       "      <td>10.972726</td>\n",
       "      <td>10.859800</td>\n",
       "    </tr>\n",
       "    <tr>\n",
       "      <th>8</th>\n",
       "      <td>9</td>\n",
       "      <td>-3</td>\n",
       "      <td>0</td>\n",
       "      <td>30</td>\n",
       "      <td>1</td>\n",
       "      <td>1</td>\n",
       "      <td>90.466721</td>\n",
       "      <td>0</td>\n",
       "      <td>1</td>\n",
       "      <td>1</td>\n",
       "      <td>...</td>\n",
       "      <td>-3.00000</td>\n",
       "      <td>-3.000000</td>\n",
       "      <td>11.689877</td>\n",
       "      <td>9.373199</td>\n",
       "      <td>-3.000000</td>\n",
       "      <td>8.194868</td>\n",
       "      <td>-3.000000</td>\n",
       "      <td>-3</td>\n",
       "      <td>9.842380</td>\n",
       "      <td>9.566678</td>\n",
       "    </tr>\n",
       "    <tr>\n",
       "      <th>9</th>\n",
       "      <td>10</td>\n",
       "      <td>-3</td>\n",
       "      <td>0</td>\n",
       "      <td>33</td>\n",
       "      <td>1</td>\n",
       "      <td>1</td>\n",
       "      <td>6.155746</td>\n",
       "      <td>1</td>\n",
       "      <td>1</td>\n",
       "      <td>1</td>\n",
       "      <td>...</td>\n",
       "      <td>-3.00000</td>\n",
       "      <td>-3.000000</td>\n",
       "      <td>-3.000000</td>\n",
       "      <td>-3.000000</td>\n",
       "      <td>-3.000000</td>\n",
       "      <td>-3.000000</td>\n",
       "      <td>10.564085</td>\n",
       "      <td>-3</td>\n",
       "      <td>-3.000000</td>\n",
       "      <td>10.105870</td>\n",
       "    </tr>\n",
       "    <tr>\n",
       "      <th>12</th>\n",
       "      <td>13</td>\n",
       "      <td>-3</td>\n",
       "      <td>1</td>\n",
       "      <td>-3</td>\n",
       "      <td>1</td>\n",
       "      <td>1</td>\n",
       "      <td>5.496325</td>\n",
       "      <td>0</td>\n",
       "      <td>1</td>\n",
       "      <td>1</td>\n",
       "      <td>...</td>\n",
       "      <td>10.78074</td>\n",
       "      <td>-3.000000</td>\n",
       "      <td>-3.000000</td>\n",
       "      <td>-3.000000</td>\n",
       "      <td>8.944119</td>\n",
       "      <td>-3.000000</td>\n",
       "      <td>9.781718</td>\n",
       "      <td>-3</td>\n",
       "      <td>-3.000000</td>\n",
       "      <td>9.566678</td>\n",
       "    </tr>\n",
       "  </tbody>\n",
       "</table>\n",
       "<p>5 rows × 11984 columns</p>\n",
       "</div>"
      ],
      "text/plain": [
       "    challengeID  m1intmon  m1lenhr  m1lenmin  cm1fint  cm1citsm    m1citywt  \\\n",
       "5             6        -3        0        25        1         1   10.593024   \n",
       "6             7        -3        0        35        1         1  531.335144   \n",
       "8             9        -3        0        30        1         1   90.466721   \n",
       "9            10        -3        0        33        1         1    6.155746   \n",
       "12           13        -3        1        -3        1         1    5.496325   \n",
       "\n",
       "    innatsm  incitysm  m1a3    ...          m4d9      m4e23       f4d6  \\\n",
       "5         1         1     1    ...       8.51570  10.558813  -3.000000   \n",
       "6         1         1     1    ...      -3.00000  -3.000000   9.660643   \n",
       "8         0         1     1    ...      -3.00000  -3.000000  11.689877   \n",
       "9         1         1     1    ...      -3.00000  -3.000000  -3.000000   \n",
       "12        0         1     1    ...      10.78074  -3.000000  -3.000000   \n",
       "\n",
       "        f4d7      f4d9       m5c6      m5d20  m5k10       f5c6       k5f1  \n",
       "5  -3.000000  7.022328  -3.000000  10.564085     -3  -3.000000  10.255825  \n",
       "6   9.861125 -3.000000  10.991854  -3.000000     -3  10.972726  10.859800  \n",
       "8   9.373199 -3.000000   8.194868  -3.000000     -3   9.842380   9.566678  \n",
       "9  -3.000000 -3.000000  -3.000000  10.564085     -3  -3.000000  10.105870  \n",
       "12 -3.000000  8.944119  -3.000000   9.781718     -3  -3.000000   9.566678  \n",
       "\n",
       "[5 rows x 11984 columns]"
      ]
     },
     "execution_count": 23,
     "metadata": {},
     "output_type": "execute_result"
    }
   ],
   "source": [
    "# get rid of 100% NaN cols \n",
    "# but keep on hand to maybe add back?\n",
    "df_train_no_full_NAs = df_train_good_dtypes.dropna(axis=1,how='all')\n",
    "df_train_no_full_NAs.head()"
   ]
  },
  {
   "cell_type": "code",
   "execution_count": 24,
   "metadata": {
    "collapsed": false
   },
   "outputs": [],
   "source": [
    "# train_array = np.asarray(df_train_no_full_NAs)\n",
    "# train_array.shape"
   ]
  },
  {
   "cell_type": "code",
   "execution_count": 25,
   "metadata": {
    "collapsed": false
   },
   "outputs": [],
   "source": [
    "# # this takes a long time!\n",
    "# train_mice =  MICE(n_imputations=2).complete(train_array)\n",
    "# mice_impute_df_train = pd.DataFrame(train_mice)\n",
    "# mice_impute_df_train.columns = df_train_no_full_NAs.columns.values\n",
    "# mice_impute_df_train.head()\n",
    "# mice_impute_df_train.to_pickle('train_mice')"
   ]
  },
  {
   "cell_type": "code",
   "execution_count": 26,
   "metadata": {
    "collapsed": false
   },
   "outputs": [],
   "source": [
    "# mice_impute_df_train = pd.DataFrame(train_mice)\n",
    "# mice_impute_df_train.columns = df_train_no_full_NAs.columns.values\n",
    "# mice_impute_df_train.head()\n",
    "# mice_impute_df_train.to_pickle('train_mice')"
   ]
  },
  {
   "cell_type": "markdown",
   "metadata": {},
   "source": [
    "### Mean impute"
   ]
  },
  {
   "cell_type": "code",
   "execution_count": 27,
   "metadata": {
    "collapsed": false
   },
   "outputs": [
    {
     "data": {
      "text/html": [
       "<div>\n",
       "<table border=\"1\" class=\"dataframe\">\n",
       "  <thead>\n",
       "    <tr style=\"text-align: right;\">\n",
       "      <th></th>\n",
       "      <th>challengeID</th>\n",
       "      <th>m1intmon</th>\n",
       "      <th>m1lenhr</th>\n",
       "      <th>m1lenmin</th>\n",
       "      <th>cm1fint</th>\n",
       "      <th>cm1citsm</th>\n",
       "      <th>m1citywt</th>\n",
       "      <th>innatsm</th>\n",
       "      <th>incitysm</th>\n",
       "      <th>m1a3</th>\n",
       "      <th>...</th>\n",
       "      <th>m4d9</th>\n",
       "      <th>m4e23</th>\n",
       "      <th>f4d6</th>\n",
       "      <th>f4d7</th>\n",
       "      <th>f4d9</th>\n",
       "      <th>m5c6</th>\n",
       "      <th>m5d20</th>\n",
       "      <th>m5k10</th>\n",
       "      <th>f5c6</th>\n",
       "      <th>k5f1</th>\n",
       "    </tr>\n",
       "  </thead>\n",
       "  <tbody>\n",
       "    <tr>\n",
       "      <th>0</th>\n",
       "      <td>6.0</td>\n",
       "      <td>-3.0</td>\n",
       "      <td>0.0</td>\n",
       "      <td>25.0</td>\n",
       "      <td>1.0</td>\n",
       "      <td>1.0</td>\n",
       "      <td>10.593024</td>\n",
       "      <td>1.0</td>\n",
       "      <td>1.0</td>\n",
       "      <td>1.0</td>\n",
       "      <td>...</td>\n",
       "      <td>8.51570</td>\n",
       "      <td>10.558813</td>\n",
       "      <td>-3.000000</td>\n",
       "      <td>-3.000000</td>\n",
       "      <td>7.022328</td>\n",
       "      <td>-3.000000</td>\n",
       "      <td>10.564085</td>\n",
       "      <td>-3.0</td>\n",
       "      <td>-3.000000</td>\n",
       "      <td>10.255825</td>\n",
       "    </tr>\n",
       "    <tr>\n",
       "      <th>1</th>\n",
       "      <td>7.0</td>\n",
       "      <td>-3.0</td>\n",
       "      <td>0.0</td>\n",
       "      <td>35.0</td>\n",
       "      <td>1.0</td>\n",
       "      <td>1.0</td>\n",
       "      <td>531.335144</td>\n",
       "      <td>1.0</td>\n",
       "      <td>1.0</td>\n",
       "      <td>1.0</td>\n",
       "      <td>...</td>\n",
       "      <td>-3.00000</td>\n",
       "      <td>-3.000000</td>\n",
       "      <td>9.660643</td>\n",
       "      <td>9.861125</td>\n",
       "      <td>-3.000000</td>\n",
       "      <td>10.991854</td>\n",
       "      <td>-3.000000</td>\n",
       "      <td>-3.0</td>\n",
       "      <td>10.972726</td>\n",
       "      <td>10.859800</td>\n",
       "    </tr>\n",
       "    <tr>\n",
       "      <th>2</th>\n",
       "      <td>9.0</td>\n",
       "      <td>-3.0</td>\n",
       "      <td>0.0</td>\n",
       "      <td>30.0</td>\n",
       "      <td>1.0</td>\n",
       "      <td>1.0</td>\n",
       "      <td>90.466721</td>\n",
       "      <td>0.0</td>\n",
       "      <td>1.0</td>\n",
       "      <td>1.0</td>\n",
       "      <td>...</td>\n",
       "      <td>-3.00000</td>\n",
       "      <td>-3.000000</td>\n",
       "      <td>11.689877</td>\n",
       "      <td>9.373199</td>\n",
       "      <td>-3.000000</td>\n",
       "      <td>8.194868</td>\n",
       "      <td>-3.000000</td>\n",
       "      <td>-3.0</td>\n",
       "      <td>9.842380</td>\n",
       "      <td>9.566678</td>\n",
       "    </tr>\n",
       "    <tr>\n",
       "      <th>3</th>\n",
       "      <td>10.0</td>\n",
       "      <td>-3.0</td>\n",
       "      <td>0.0</td>\n",
       "      <td>33.0</td>\n",
       "      <td>1.0</td>\n",
       "      <td>1.0</td>\n",
       "      <td>6.155746</td>\n",
       "      <td>1.0</td>\n",
       "      <td>1.0</td>\n",
       "      <td>1.0</td>\n",
       "      <td>...</td>\n",
       "      <td>-3.00000</td>\n",
       "      <td>-3.000000</td>\n",
       "      <td>-3.000000</td>\n",
       "      <td>-3.000000</td>\n",
       "      <td>-3.000000</td>\n",
       "      <td>-3.000000</td>\n",
       "      <td>10.564085</td>\n",
       "      <td>-3.0</td>\n",
       "      <td>-3.000000</td>\n",
       "      <td>10.105870</td>\n",
       "    </tr>\n",
       "    <tr>\n",
       "      <th>4</th>\n",
       "      <td>13.0</td>\n",
       "      <td>-3.0</td>\n",
       "      <td>1.0</td>\n",
       "      <td>-3.0</td>\n",
       "      <td>1.0</td>\n",
       "      <td>1.0</td>\n",
       "      <td>5.496325</td>\n",
       "      <td>0.0</td>\n",
       "      <td>1.0</td>\n",
       "      <td>1.0</td>\n",
       "      <td>...</td>\n",
       "      <td>10.78074</td>\n",
       "      <td>-3.000000</td>\n",
       "      <td>-3.000000</td>\n",
       "      <td>-3.000000</td>\n",
       "      <td>8.944119</td>\n",
       "      <td>-3.000000</td>\n",
       "      <td>9.781718</td>\n",
       "      <td>-3.0</td>\n",
       "      <td>-3.000000</td>\n",
       "      <td>9.566678</td>\n",
       "    </tr>\n",
       "  </tbody>\n",
       "</table>\n",
       "<p>5 rows × 11984 columns</p>\n",
       "</div>"
      ],
      "text/plain": [
       "   challengeID  m1intmon  m1lenhr  m1lenmin  cm1fint  cm1citsm    m1citywt  \\\n",
       "0          6.0      -3.0      0.0      25.0      1.0       1.0   10.593024   \n",
       "1          7.0      -3.0      0.0      35.0      1.0       1.0  531.335144   \n",
       "2          9.0      -3.0      0.0      30.0      1.0       1.0   90.466721   \n",
       "3         10.0      -3.0      0.0      33.0      1.0       1.0    6.155746   \n",
       "4         13.0      -3.0      1.0      -3.0      1.0       1.0    5.496325   \n",
       "\n",
       "   innatsm  incitysm  m1a3    ...          m4d9      m4e23       f4d6  \\\n",
       "0      1.0       1.0   1.0    ...       8.51570  10.558813  -3.000000   \n",
       "1      1.0       1.0   1.0    ...      -3.00000  -3.000000   9.660643   \n",
       "2      0.0       1.0   1.0    ...      -3.00000  -3.000000  11.689877   \n",
       "3      1.0       1.0   1.0    ...      -3.00000  -3.000000  -3.000000   \n",
       "4      0.0       1.0   1.0    ...      10.78074  -3.000000  -3.000000   \n",
       "\n",
       "       f4d7      f4d9       m5c6      m5d20  m5k10       f5c6       k5f1  \n",
       "0 -3.000000  7.022328  -3.000000  10.564085   -3.0  -3.000000  10.255825  \n",
       "1  9.861125 -3.000000  10.991854  -3.000000   -3.0  10.972726  10.859800  \n",
       "2  9.373199 -3.000000   8.194868  -3.000000   -3.0   9.842380   9.566678  \n",
       "3 -3.000000 -3.000000  -3.000000  10.564085   -3.0  -3.000000  10.105870  \n",
       "4 -3.000000  8.944119  -3.000000   9.781718   -3.0  -3.000000   9.566678  \n",
       "\n",
       "[5 rows x 11984 columns]"
      ]
     },
     "execution_count": 27,
     "metadata": {},
     "output_type": "execute_result"
    }
   ],
   "source": [
    "mean_impute_df_train = SimpleFill('mean').complete(df_train_no_full_NAs)\n",
    "mean_impute_df_train = pd.DataFrame(mean_impute_df_train)\n",
    "mean_impute_df_train.columns = df_train_no_full_NAs.columns.values\n",
    "mean_impute_df_train.head()"
   ]
  },
  {
   "cell_type": "code",
   "execution_count": 33,
   "metadata": {
    "collapsed": true
   },
   "outputs": [],
   "source": [
    "mean_all_training = pd.merge(mean_impute_df_train, non_na_y_train_materialHardship, on='challengeID')"
   ]
  },
  {
   "cell_type": "markdown",
   "metadata": {},
   "source": [
    "### Median impute"
   ]
  },
  {
   "cell_type": "code",
   "execution_count": 28,
   "metadata": {
    "collapsed": false
   },
   "outputs": [
    {
     "data": {
      "text/html": [
       "<div>\n",
       "<table border=\"1\" class=\"dataframe\">\n",
       "  <thead>\n",
       "    <tr style=\"text-align: right;\">\n",
       "      <th></th>\n",
       "      <th>challengeID</th>\n",
       "      <th>m1intmon</th>\n",
       "      <th>m1lenhr</th>\n",
       "      <th>m1lenmin</th>\n",
       "      <th>cm1fint</th>\n",
       "      <th>cm1citsm</th>\n",
       "      <th>m1citywt</th>\n",
       "      <th>innatsm</th>\n",
       "      <th>incitysm</th>\n",
       "      <th>m1a3</th>\n",
       "      <th>...</th>\n",
       "      <th>m4d9</th>\n",
       "      <th>m4e23</th>\n",
       "      <th>f4d6</th>\n",
       "      <th>f4d7</th>\n",
       "      <th>f4d9</th>\n",
       "      <th>m5c6</th>\n",
       "      <th>m5d20</th>\n",
       "      <th>m5k10</th>\n",
       "      <th>f5c6</th>\n",
       "      <th>k5f1</th>\n",
       "    </tr>\n",
       "  </thead>\n",
       "  <tbody>\n",
       "    <tr>\n",
       "      <th>0</th>\n",
       "      <td>6.0</td>\n",
       "      <td>-3.0</td>\n",
       "      <td>0.0</td>\n",
       "      <td>25.0</td>\n",
       "      <td>1.0</td>\n",
       "      <td>1.0</td>\n",
       "      <td>10.593024</td>\n",
       "      <td>1.0</td>\n",
       "      <td>1.0</td>\n",
       "      <td>1.0</td>\n",
       "      <td>...</td>\n",
       "      <td>8.51570</td>\n",
       "      <td>10.558813</td>\n",
       "      <td>-3.000000</td>\n",
       "      <td>-3.000000</td>\n",
       "      <td>7.022328</td>\n",
       "      <td>-3.000000</td>\n",
       "      <td>10.564085</td>\n",
       "      <td>-3.0</td>\n",
       "      <td>-3.000000</td>\n",
       "      <td>10.255825</td>\n",
       "    </tr>\n",
       "    <tr>\n",
       "      <th>1</th>\n",
       "      <td>7.0</td>\n",
       "      <td>-3.0</td>\n",
       "      <td>0.0</td>\n",
       "      <td>35.0</td>\n",
       "      <td>1.0</td>\n",
       "      <td>1.0</td>\n",
       "      <td>531.335144</td>\n",
       "      <td>1.0</td>\n",
       "      <td>1.0</td>\n",
       "      <td>1.0</td>\n",
       "      <td>...</td>\n",
       "      <td>-3.00000</td>\n",
       "      <td>-3.000000</td>\n",
       "      <td>9.660643</td>\n",
       "      <td>9.861125</td>\n",
       "      <td>-3.000000</td>\n",
       "      <td>10.991854</td>\n",
       "      <td>-3.000000</td>\n",
       "      <td>-3.0</td>\n",
       "      <td>10.972726</td>\n",
       "      <td>10.859800</td>\n",
       "    </tr>\n",
       "    <tr>\n",
       "      <th>2</th>\n",
       "      <td>9.0</td>\n",
       "      <td>-3.0</td>\n",
       "      <td>0.0</td>\n",
       "      <td>30.0</td>\n",
       "      <td>1.0</td>\n",
       "      <td>1.0</td>\n",
       "      <td>90.466721</td>\n",
       "      <td>0.0</td>\n",
       "      <td>1.0</td>\n",
       "      <td>1.0</td>\n",
       "      <td>...</td>\n",
       "      <td>-3.00000</td>\n",
       "      <td>-3.000000</td>\n",
       "      <td>11.689877</td>\n",
       "      <td>9.373199</td>\n",
       "      <td>-3.000000</td>\n",
       "      <td>8.194868</td>\n",
       "      <td>-3.000000</td>\n",
       "      <td>-3.0</td>\n",
       "      <td>9.842380</td>\n",
       "      <td>9.566678</td>\n",
       "    </tr>\n",
       "    <tr>\n",
       "      <th>3</th>\n",
       "      <td>10.0</td>\n",
       "      <td>-3.0</td>\n",
       "      <td>0.0</td>\n",
       "      <td>33.0</td>\n",
       "      <td>1.0</td>\n",
       "      <td>1.0</td>\n",
       "      <td>6.155746</td>\n",
       "      <td>1.0</td>\n",
       "      <td>1.0</td>\n",
       "      <td>1.0</td>\n",
       "      <td>...</td>\n",
       "      <td>-3.00000</td>\n",
       "      <td>-3.000000</td>\n",
       "      <td>-3.000000</td>\n",
       "      <td>-3.000000</td>\n",
       "      <td>-3.000000</td>\n",
       "      <td>-3.000000</td>\n",
       "      <td>10.564085</td>\n",
       "      <td>-3.0</td>\n",
       "      <td>-3.000000</td>\n",
       "      <td>10.105870</td>\n",
       "    </tr>\n",
       "    <tr>\n",
       "      <th>4</th>\n",
       "      <td>13.0</td>\n",
       "      <td>-3.0</td>\n",
       "      <td>1.0</td>\n",
       "      <td>-3.0</td>\n",
       "      <td>1.0</td>\n",
       "      <td>1.0</td>\n",
       "      <td>5.496325</td>\n",
       "      <td>0.0</td>\n",
       "      <td>1.0</td>\n",
       "      <td>1.0</td>\n",
       "      <td>...</td>\n",
       "      <td>10.78074</td>\n",
       "      <td>-3.000000</td>\n",
       "      <td>-3.000000</td>\n",
       "      <td>-3.000000</td>\n",
       "      <td>8.944119</td>\n",
       "      <td>-3.000000</td>\n",
       "      <td>9.781718</td>\n",
       "      <td>-3.0</td>\n",
       "      <td>-3.000000</td>\n",
       "      <td>9.566678</td>\n",
       "    </tr>\n",
       "  </tbody>\n",
       "</table>\n",
       "<p>5 rows × 11984 columns</p>\n",
       "</div>"
      ],
      "text/plain": [
       "   challengeID  m1intmon  m1lenhr  m1lenmin  cm1fint  cm1citsm    m1citywt  \\\n",
       "0          6.0      -3.0      0.0      25.0      1.0       1.0   10.593024   \n",
       "1          7.0      -3.0      0.0      35.0      1.0       1.0  531.335144   \n",
       "2          9.0      -3.0      0.0      30.0      1.0       1.0   90.466721   \n",
       "3         10.0      -3.0      0.0      33.0      1.0       1.0    6.155746   \n",
       "4         13.0      -3.0      1.0      -3.0      1.0       1.0    5.496325   \n",
       "\n",
       "   innatsm  incitysm  m1a3    ...          m4d9      m4e23       f4d6  \\\n",
       "0      1.0       1.0   1.0    ...       8.51570  10.558813  -3.000000   \n",
       "1      1.0       1.0   1.0    ...      -3.00000  -3.000000   9.660643   \n",
       "2      0.0       1.0   1.0    ...      -3.00000  -3.000000  11.689877   \n",
       "3      1.0       1.0   1.0    ...      -3.00000  -3.000000  -3.000000   \n",
       "4      0.0       1.0   1.0    ...      10.78074  -3.000000  -3.000000   \n",
       "\n",
       "       f4d7      f4d9       m5c6      m5d20  m5k10       f5c6       k5f1  \n",
       "0 -3.000000  7.022328  -3.000000  10.564085   -3.0  -3.000000  10.255825  \n",
       "1  9.861125 -3.000000  10.991854  -3.000000   -3.0  10.972726  10.859800  \n",
       "2  9.373199 -3.000000   8.194868  -3.000000   -3.0   9.842380   9.566678  \n",
       "3 -3.000000 -3.000000  -3.000000  10.564085   -3.0  -3.000000  10.105870  \n",
       "4 -3.000000  8.944119  -3.000000   9.781718   -3.0  -3.000000   9.566678  \n",
       "\n",
       "[5 rows x 11984 columns]"
      ]
     },
     "execution_count": 28,
     "metadata": {},
     "output_type": "execute_result"
    }
   ],
   "source": [
    "median_impute_df_train = SimpleFill('median').complete(df_train_no_full_NAs)\n",
    "median_impute_df_train = pd.DataFrame(median_impute_df_train)\n",
    "median_impute_df_train.columns = df_train_no_full_NAs.columns.values\n",
    "median_impute_df_train.head()"
   ]
  },
  {
   "cell_type": "markdown",
   "metadata": {},
   "source": [
    "Let's add the material hardship y values back on so we have a full training df."
   ]
  },
  {
   "cell_type": "code",
   "execution_count": 30,
   "metadata": {
    "collapsed": false
   },
   "outputs": [
    {
     "data": {
      "text/html": [
       "<div>\n",
       "<table border=\"1\" class=\"dataframe\">\n",
       "  <thead>\n",
       "    <tr style=\"text-align: right;\">\n",
       "      <th></th>\n",
       "      <th>challengeID</th>\n",
       "      <th>m1intmon</th>\n",
       "      <th>m1lenhr</th>\n",
       "      <th>m1lenmin</th>\n",
       "      <th>cm1fint</th>\n",
       "      <th>cm1citsm</th>\n",
       "      <th>m1citywt</th>\n",
       "      <th>innatsm</th>\n",
       "      <th>incitysm</th>\n",
       "      <th>m1a3</th>\n",
       "      <th>...</th>\n",
       "      <th>m4e23</th>\n",
       "      <th>f4d6</th>\n",
       "      <th>f4d7</th>\n",
       "      <th>f4d9</th>\n",
       "      <th>m5c6</th>\n",
       "      <th>m5d20</th>\n",
       "      <th>m5k10</th>\n",
       "      <th>f5c6</th>\n",
       "      <th>k5f1</th>\n",
       "      <th>materialHardship</th>\n",
       "    </tr>\n",
       "  </thead>\n",
       "  <tbody>\n",
       "    <tr>\n",
       "      <th>0</th>\n",
       "      <td>6.0</td>\n",
       "      <td>-3.0</td>\n",
       "      <td>0.0</td>\n",
       "      <td>25.0</td>\n",
       "      <td>1.0</td>\n",
       "      <td>1.0</td>\n",
       "      <td>10.593024</td>\n",
       "      <td>1.0</td>\n",
       "      <td>1.0</td>\n",
       "      <td>1.0</td>\n",
       "      <td>...</td>\n",
       "      <td>10.558813</td>\n",
       "      <td>-3.000000</td>\n",
       "      <td>-3.000000</td>\n",
       "      <td>7.022328</td>\n",
       "      <td>-3.000000</td>\n",
       "      <td>10.564085</td>\n",
       "      <td>-3.0</td>\n",
       "      <td>-3.000000</td>\n",
       "      <td>10.255825</td>\n",
       "      <td>1</td>\n",
       "    </tr>\n",
       "    <tr>\n",
       "      <th>1</th>\n",
       "      <td>7.0</td>\n",
       "      <td>-3.0</td>\n",
       "      <td>0.0</td>\n",
       "      <td>35.0</td>\n",
       "      <td>1.0</td>\n",
       "      <td>1.0</td>\n",
       "      <td>531.335144</td>\n",
       "      <td>1.0</td>\n",
       "      <td>1.0</td>\n",
       "      <td>1.0</td>\n",
       "      <td>...</td>\n",
       "      <td>-3.000000</td>\n",
       "      <td>9.660643</td>\n",
       "      <td>9.861125</td>\n",
       "      <td>-3.000000</td>\n",
       "      <td>10.991854</td>\n",
       "      <td>-3.000000</td>\n",
       "      <td>-3.0</td>\n",
       "      <td>10.972726</td>\n",
       "      <td>10.859800</td>\n",
       "      <td>0</td>\n",
       "    </tr>\n",
       "    <tr>\n",
       "      <th>2</th>\n",
       "      <td>9.0</td>\n",
       "      <td>-3.0</td>\n",
       "      <td>0.0</td>\n",
       "      <td>30.0</td>\n",
       "      <td>1.0</td>\n",
       "      <td>1.0</td>\n",
       "      <td>90.466721</td>\n",
       "      <td>0.0</td>\n",
       "      <td>1.0</td>\n",
       "      <td>1.0</td>\n",
       "      <td>...</td>\n",
       "      <td>-3.000000</td>\n",
       "      <td>11.689877</td>\n",
       "      <td>9.373199</td>\n",
       "      <td>-3.000000</td>\n",
       "      <td>8.194868</td>\n",
       "      <td>-3.000000</td>\n",
       "      <td>-3.0</td>\n",
       "      <td>9.842380</td>\n",
       "      <td>9.566678</td>\n",
       "      <td>2</td>\n",
       "    </tr>\n",
       "    <tr>\n",
       "      <th>3</th>\n",
       "      <td>10.0</td>\n",
       "      <td>-3.0</td>\n",
       "      <td>0.0</td>\n",
       "      <td>33.0</td>\n",
       "      <td>1.0</td>\n",
       "      <td>1.0</td>\n",
       "      <td>6.155746</td>\n",
       "      <td>1.0</td>\n",
       "      <td>1.0</td>\n",
       "      <td>1.0</td>\n",
       "      <td>...</td>\n",
       "      <td>-3.000000</td>\n",
       "      <td>-3.000000</td>\n",
       "      <td>-3.000000</td>\n",
       "      <td>-3.000000</td>\n",
       "      <td>-3.000000</td>\n",
       "      <td>10.564085</td>\n",
       "      <td>-3.0</td>\n",
       "      <td>-3.000000</td>\n",
       "      <td>10.105870</td>\n",
       "      <td>1</td>\n",
       "    </tr>\n",
       "    <tr>\n",
       "      <th>4</th>\n",
       "      <td>13.0</td>\n",
       "      <td>-3.0</td>\n",
       "      <td>1.0</td>\n",
       "      <td>-3.0</td>\n",
       "      <td>1.0</td>\n",
       "      <td>1.0</td>\n",
       "      <td>5.496325</td>\n",
       "      <td>0.0</td>\n",
       "      <td>1.0</td>\n",
       "      <td>1.0</td>\n",
       "      <td>...</td>\n",
       "      <td>-3.000000</td>\n",
       "      <td>-3.000000</td>\n",
       "      <td>-3.000000</td>\n",
       "      <td>8.944119</td>\n",
       "      <td>-3.000000</td>\n",
       "      <td>9.781718</td>\n",
       "      <td>-3.0</td>\n",
       "      <td>-3.000000</td>\n",
       "      <td>9.566678</td>\n",
       "      <td>2</td>\n",
       "    </tr>\n",
       "  </tbody>\n",
       "</table>\n",
       "<p>5 rows × 11985 columns</p>\n",
       "</div>"
      ],
      "text/plain": [
       "   challengeID  m1intmon  m1lenhr  m1lenmin  cm1fint  cm1citsm    m1citywt  \\\n",
       "0          6.0      -3.0      0.0      25.0      1.0       1.0   10.593024   \n",
       "1          7.0      -3.0      0.0      35.0      1.0       1.0  531.335144   \n",
       "2          9.0      -3.0      0.0      30.0      1.0       1.0   90.466721   \n",
       "3         10.0      -3.0      0.0      33.0      1.0       1.0    6.155746   \n",
       "4         13.0      -3.0      1.0      -3.0      1.0       1.0    5.496325   \n",
       "\n",
       "   innatsm  incitysm  m1a3        ...             m4e23       f4d6      f4d7  \\\n",
       "0      1.0       1.0   1.0        ...         10.558813  -3.000000 -3.000000   \n",
       "1      1.0       1.0   1.0        ...         -3.000000   9.660643  9.861125   \n",
       "2      0.0       1.0   1.0        ...         -3.000000  11.689877  9.373199   \n",
       "3      1.0       1.0   1.0        ...         -3.000000  -3.000000 -3.000000   \n",
       "4      0.0       1.0   1.0        ...         -3.000000  -3.000000 -3.000000   \n",
       "\n",
       "       f4d9       m5c6      m5d20  m5k10       f5c6       k5f1  \\\n",
       "0  7.022328  -3.000000  10.564085   -3.0  -3.000000  10.255825   \n",
       "1 -3.000000  10.991854  -3.000000   -3.0  10.972726  10.859800   \n",
       "2 -3.000000   8.194868  -3.000000   -3.0   9.842380   9.566678   \n",
       "3 -3.000000  -3.000000  10.564085   -3.0  -3.000000  10.105870   \n",
       "4  8.944119  -3.000000   9.781718   -3.0  -3.000000   9.566678   \n",
       "\n",
       "   materialHardship  \n",
       "0                 1  \n",
       "1                 0  \n",
       "2                 2  \n",
       "3                 1  \n",
       "4                 2  \n",
       "\n",
       "[5 rows x 11985 columns]"
      ]
     },
     "execution_count": 30,
     "metadata": {},
     "output_type": "execute_result"
    }
   ],
   "source": [
    "median_all_training = pd.merge(median_impute_df_train, non_na_y_train_materialHardship, on='challengeID')\n",
    "median_all_training.head()"
   ]
  },
  {
   "cell_type": "markdown",
   "metadata": {
    "collapsed": true
   },
   "source": [
    "# 3. Training data export<a name=\"ims\"></a>"
   ]
  },
  {
   "cell_type": "markdown",
   "metadata": {},
   "source": [
    "Let's now export various training dataframes so we can train on validation data in our next notebook. Here are the various flavors available:\n",
    "\n",
    "- Plain jane training set (with crap ton of NAs): df_train\n",
    "\n",
    "Imputed: \n",
    "\n",
    "- Mean imputation method: mean_impute_df_train\n",
    "- Median imputation method: median_impute_df_train\n",
    "- ~~MICE imputation method: mice_impute_df_train~~\n",
    "\n",
    "All of the above should be merged onto the y values given by non_na_y_train_materialHardship. \n",
    "\n",
    "Augmented:\n",
    "\n",
    "- ~~Augmented data: augmented_df_train~~\n",
    "\n",
    "Class balanced:\n",
    "\n",
    "- Balanced label data: balanced_label_df_train (goes with final_over_balanced['materialHardship']. Can just use final_over_balanced for full features + classes df)\n"
   ]
  },
  {
   "cell_type": "code",
   "execution_count": 50,
   "metadata": {
    "collapsed": true
   },
   "outputs": [],
   "source": [
    "mean_impute_df_train.to_pickle('mean_impute_df_train')\n",
    "median_impute_df_train.to_pickle('median_impute_df_train')"
   ]
  },
  {
   "cell_type": "code",
   "execution_count": 35,
   "metadata": {
    "collapsed": false
   },
   "outputs": [],
   "source": [
    "mean_all_training.to_pickle('mean_impute_df_train_with_labels')\n",
    "median_all_training.to_pickle('median_impute_df_train_with_labels')"
   ]
  },
  {
   "cell_type": "code",
   "execution_count": null,
   "metadata": {
    "collapsed": true
   },
   "outputs": [],
   "source": []
  }
 ],
 "metadata": {
  "kernelspec": {
   "display_name": "Python 3",
   "language": "python",
   "name": "python3"
  },
  "language_info": {
   "codemirror_mode": {
    "name": "ipython",
    "version": 3
   },
   "file_extension": ".py",
   "mimetype": "text/x-python",
   "name": "python",
   "nbconvert_exporter": "python",
   "pygments_lexer": "ipython3",
   "version": "3.5.2"
  }
 },
 "nbformat": 4,
 "nbformat_minor": 2
}
