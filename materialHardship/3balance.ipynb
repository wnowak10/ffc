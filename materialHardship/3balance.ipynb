{
 "cells": [
  {
   "cell_type": "markdown",
   "metadata": {},
   "source": [
    "1. [Imports](#ims)\n",
    "2. [Data preprocessing](#pp)  "
   ]
  },
  {
   "cell_type": "markdown",
   "metadata": {},
   "source": [
    "# 1. Imports<a name=\"ims\"></a>"
   ]
  },
  {
   "cell_type": "code",
   "execution_count": 1,
   "metadata": {
    "collapsed": false
   },
   "outputs": [],
   "source": [
    "import numpy as np\n",
    "import pandas as pd\n",
    "import xgboost as xgb\n",
    "from sklearn.model_selection import train_test_split\n",
    "from collections import Counter\n",
    "import statsmodels\n",
    "# from data_prepare import df_train, df_prediction, non_na_y_train_materialHardship\n",
    "\n",
    "import matplotlib.pyplot as plt\n",
    "import seaborn as sns\n",
    "%matplotlib inline  "
   ]
  },
  {
   "cell_type": "markdown",
   "metadata": {},
   "source": [
    "Let's read df_train, df_prediction, non_na_y_train_materialHardship from pickled files. "
   ]
  },
  {
   "cell_type": "code",
   "execution_count": 2,
   "metadata": {
    "collapsed": true
   },
   "outputs": [],
   "source": [
    "df_train, df_prediction, non_na_y_train_materialHardship = pd.read_pickle('df_train'), pd.read_pickle('df_prediction'), pd.read_pickle('non_na_y_train_materialHardship')"
   ]
  },
  {
   "cell_type": "code",
   "execution_count": 3,
   "metadata": {
    "collapsed": false
   },
   "outputs": [],
   "source": [
    "mean_impute_df_train, median_impute_df_train, final_over_balanced = pd.read_pickle('mean_impute_df_train'), pd.read_pickle('median_impute_df_train'), pd.read_pickle('final_over_balanced')"
   ]
  },
  {
   "cell_type": "markdown",
   "metadata": {},
   "source": [
    "Check out what kinds of data we have:"
   ]
  },
  {
   "cell_type": "markdown",
   "metadata": {},
   "source": [
    "# 2. Data Preprocessing<a name=\"pp\"></a>"
   ]
  },
  {
   "cell_type": "markdown",
   "metadata": {},
   "source": [
    "## 2a. Combine features and labels "
   ]
  },
  {
   "cell_type": "markdown",
   "metadata": {},
   "source": [
    "We need to stick training features and class labels for materialHardship together before the next step."
   ]
  },
  {
   "cell_type": "code",
   "execution_count": 4,
   "metadata": {
    "collapsed": false
   },
   "outputs": [
    {
     "data": {
      "text/html": [
       "<div>\n",
       "<table border=\"1\" class=\"dataframe\">\n",
       "  <thead>\n",
       "    <tr style=\"text-align: right;\">\n",
       "      <th></th>\n",
       "      <th>challengeID</th>\n",
       "      <th>m1intmon</th>\n",
       "      <th>m1intyr</th>\n",
       "      <th>m1lenhr</th>\n",
       "      <th>m1lenmin</th>\n",
       "      <th>cm1twoc</th>\n",
       "      <th>cm1fint</th>\n",
       "      <th>cm1tdiff</th>\n",
       "      <th>cm1natsm</th>\n",
       "      <th>m1natwt</th>\n",
       "      <th>...</th>\n",
       "      <th>m4e23</th>\n",
       "      <th>f4d6</th>\n",
       "      <th>f4d7</th>\n",
       "      <th>f4d9</th>\n",
       "      <th>m5c6</th>\n",
       "      <th>m5d20</th>\n",
       "      <th>m5k10</th>\n",
       "      <th>f5c6</th>\n",
       "      <th>k5f1</th>\n",
       "      <th>materialHardship</th>\n",
       "    </tr>\n",
       "  </thead>\n",
       "  <tbody>\n",
       "    <tr>\n",
       "      <th>0</th>\n",
       "      <td>6</td>\n",
       "      <td>-3</td>\n",
       "      <td>NaN</td>\n",
       "      <td>0</td>\n",
       "      <td>25</td>\n",
       "      <td>NaN</td>\n",
       "      <td>1</td>\n",
       "      <td>NaN</td>\n",
       "      <td>NaN</td>\n",
       "      <td>NaN</td>\n",
       "      <td>...</td>\n",
       "      <td>10.558813</td>\n",
       "      <td>-3.000000</td>\n",
       "      <td>-3.000000</td>\n",
       "      <td>7.022328</td>\n",
       "      <td>-3.000000</td>\n",
       "      <td>10.564085</td>\n",
       "      <td>-3</td>\n",
       "      <td>-3.000000</td>\n",
       "      <td>10.255825</td>\n",
       "      <td>0.090909</td>\n",
       "    </tr>\n",
       "    <tr>\n",
       "      <th>1</th>\n",
       "      <td>7</td>\n",
       "      <td>-3</td>\n",
       "      <td>NaN</td>\n",
       "      <td>0</td>\n",
       "      <td>35</td>\n",
       "      <td>NaN</td>\n",
       "      <td>1</td>\n",
       "      <td>NaN</td>\n",
       "      <td>NaN</td>\n",
       "      <td>NaN</td>\n",
       "      <td>...</td>\n",
       "      <td>-3.000000</td>\n",
       "      <td>9.660643</td>\n",
       "      <td>9.861125</td>\n",
       "      <td>-3.000000</td>\n",
       "      <td>10.991854</td>\n",
       "      <td>-3.000000</td>\n",
       "      <td>-3</td>\n",
       "      <td>10.972726</td>\n",
       "      <td>10.859800</td>\n",
       "      <td>0.000000</td>\n",
       "    </tr>\n",
       "    <tr>\n",
       "      <th>2</th>\n",
       "      <td>9</td>\n",
       "      <td>-3</td>\n",
       "      <td>NaN</td>\n",
       "      <td>0</td>\n",
       "      <td>30</td>\n",
       "      <td>NaN</td>\n",
       "      <td>1</td>\n",
       "      <td>NaN</td>\n",
       "      <td>NaN</td>\n",
       "      <td>NaN</td>\n",
       "      <td>...</td>\n",
       "      <td>-3.000000</td>\n",
       "      <td>11.689877</td>\n",
       "      <td>9.373199</td>\n",
       "      <td>-3.000000</td>\n",
       "      <td>8.194868</td>\n",
       "      <td>-3.000000</td>\n",
       "      <td>-3</td>\n",
       "      <td>9.842380</td>\n",
       "      <td>9.566678</td>\n",
       "      <td>0.181818</td>\n",
       "    </tr>\n",
       "    <tr>\n",
       "      <th>3</th>\n",
       "      <td>10</td>\n",
       "      <td>-3</td>\n",
       "      <td>NaN</td>\n",
       "      <td>0</td>\n",
       "      <td>33</td>\n",
       "      <td>NaN</td>\n",
       "      <td>1</td>\n",
       "      <td>NaN</td>\n",
       "      <td>NaN</td>\n",
       "      <td>NaN</td>\n",
       "      <td>...</td>\n",
       "      <td>-3.000000</td>\n",
       "      <td>-3.000000</td>\n",
       "      <td>-3.000000</td>\n",
       "      <td>-3.000000</td>\n",
       "      <td>-3.000000</td>\n",
       "      <td>10.564085</td>\n",
       "      <td>-3</td>\n",
       "      <td>-3.000000</td>\n",
       "      <td>10.105870</td>\n",
       "      <td>0.090909</td>\n",
       "    </tr>\n",
       "    <tr>\n",
       "      <th>4</th>\n",
       "      <td>13</td>\n",
       "      <td>-3</td>\n",
       "      <td>NaN</td>\n",
       "      <td>1</td>\n",
       "      <td>-3</td>\n",
       "      <td>NaN</td>\n",
       "      <td>1</td>\n",
       "      <td>NaN</td>\n",
       "      <td>NaN</td>\n",
       "      <td>NaN</td>\n",
       "      <td>...</td>\n",
       "      <td>-3.000000</td>\n",
       "      <td>-3.000000</td>\n",
       "      <td>-3.000000</td>\n",
       "      <td>8.944119</td>\n",
       "      <td>-3.000000</td>\n",
       "      <td>9.781718</td>\n",
       "      <td>-3</td>\n",
       "      <td>-3.000000</td>\n",
       "      <td>9.566678</td>\n",
       "      <td>0.181818</td>\n",
       "    </tr>\n",
       "  </tbody>\n",
       "</table>\n",
       "<p>5 rows × 12944 columns</p>\n",
       "</div>"
      ],
      "text/plain": [
       "   challengeID  m1intmon  m1intyr  m1lenhr  m1lenmin  cm1twoc  cm1fint  \\\n",
       "0            6        -3      NaN        0        25      NaN        1   \n",
       "1            7        -3      NaN        0        35      NaN        1   \n",
       "2            9        -3      NaN        0        30      NaN        1   \n",
       "3           10        -3      NaN        0        33      NaN        1   \n",
       "4           13        -3      NaN        1        -3      NaN        1   \n",
       "\n",
       "   cm1tdiff  cm1natsm  m1natwt        ...             m4e23       f4d6  \\\n",
       "0       NaN       NaN      NaN        ...         10.558813  -3.000000   \n",
       "1       NaN       NaN      NaN        ...         -3.000000   9.660643   \n",
       "2       NaN       NaN      NaN        ...         -3.000000  11.689877   \n",
       "3       NaN       NaN      NaN        ...         -3.000000  -3.000000   \n",
       "4       NaN       NaN      NaN        ...         -3.000000  -3.000000   \n",
       "\n",
       "       f4d7      f4d9       m5c6      m5d20  m5k10       f5c6       k5f1  \\\n",
       "0 -3.000000  7.022328  -3.000000  10.564085     -3  -3.000000  10.255825   \n",
       "1  9.861125 -3.000000  10.991854  -3.000000     -3  10.972726  10.859800   \n",
       "2  9.373199 -3.000000   8.194868  -3.000000     -3   9.842380   9.566678   \n",
       "3 -3.000000 -3.000000  -3.000000  10.564085     -3  -3.000000  10.105870   \n",
       "4 -3.000000  8.944119  -3.000000   9.781718     -3  -3.000000   9.566678   \n",
       "\n",
       "   materialHardship  \n",
       "0          0.090909  \n",
       "1          0.000000  \n",
       "2          0.181818  \n",
       "3          0.090909  \n",
       "4          0.181818  \n",
       "\n",
       "[5 rows x 12944 columns]"
      ]
     },
     "execution_count": 4,
     "metadata": {},
     "output_type": "execute_result"
    }
   ],
   "source": [
    "all_training = pd.merge(df_train, non_na_y_train_materialHardship, on='challengeID')\n",
    "all_training.head()"
   ]
  },
  {
   "cell_type": "markdown",
   "metadata": {},
   "source": [
    "## 2b. Data augumentation"
   ]
  },
  {
   "cell_type": "markdown",
   "metadata": {},
   "source": [
    "In image processing, if people have n pictures to train on, they will artificially increase the size of their training set by randomly altering a few pixels. They call this data [augmentation](https://www.google.com/webhp?sourceid=chrome-instant&ion=1&espv=2&ie=UTF-8#q=data+augmentation+image+classification). This of course keeps the class of the image (eg cat) the same, but it gives the model a little bit extra of variation to learn from. This seems like it would work here, too. For example:\n",
    "\n",
    "If Joe has a homeless mom who is single, and relatives visit 3x per week and Joe experiences 5/11 on material hardship, it seems reasonable to create another hypothetical individual who also has a homeless and single mom, whose relatives visit 2x a week and also experiences 5/11. If we feed both individuals to the model, it will hopefully learn better that the single and homeless mom is a strong predictor of material hardship, regardless of relative visitation."
   ]
  },
  {
   "cell_type": "code",
   "execution_count": 5,
   "metadata": {
    "collapsed": false
   },
   "outputs": [],
   "source": [
    "# this code takes a long time to run! pickle copy once made\n",
    "\n",
    "# copy = all_training # copy all_training\n",
    "# copy = copy.astype(object) # convert to object type for all so we dont have any dtype problems\n",
    "# # copy.dtypes \n",
    "# for i in range(all_training.shape[0]):\n",
    "#     choose_col = all_training.sample(1,axis=1) # choose 1 column at random\n",
    "#     unique_values = choose_col.ix[:,0].unique() # what are its unique values\n",
    "#     pick_rand_value = np.random.choice(unique_values, 1) # pick random value\n",
    "#     copy.set_value(i, choose_col.columns, pick_rand_value) # set this value in row i and column choose_col\n",
    "# copy.head()\n",
    "# copy.to_pickle('copy')"
   ]
  },
  {
   "cell_type": "markdown",
   "metadata": {},
   "source": [
    "## 2c. Data balancing - undersampling"
   ]
  },
  {
   "cell_type": "markdown",
   "metadata": {},
   "source": [
    "We have very imbalanced predictor classes (e.g. most people don't have a lot of material hardship, even though we have a 0-11 scale possible). There are many different tactics to combat this problem...let's try to do some *informed* undersampling, where we elimate training data from the majority class (low material hardship) such that the distribution of key predictors remains unchanged.\n",
    "\n",
    "Also, we will want to look at using different metrics for success like ROC AUC when doing prediction, but we'll get to that later. For now, let's try to export a balanced training set. "
   ]
  },
  {
   "cell_type": "code",
   "execution_count": 6,
   "metadata": {
    "collapsed": false
   },
   "outputs": [],
   "source": [
    "XX= np.asarray(median_impute_df_train)\n",
    "yy = np.asarray(non_na_y_train_materialHardship['materialHardship'])"
   ]
  },
  {
   "cell_type": "code",
   "execution_count": 7,
   "metadata": {
    "collapsed": false
   },
   "outputs": [
    {
     "name": "stderr",
     "output_type": "stream",
     "text": [
      "/anaconda/envs/py35/lib/python3.5/site-packages/imblearn/base.py:343: UserWarning: The target type should be binary or multiclass.\n",
      "  warnings.warn('The target type should be binary or multiclass.')\n"
     ]
    }
   ],
   "source": [
    "from imblearn.under_sampling import RandomUnderSampler\n",
    "rus = RandomUnderSampler(return_indices=True)\n",
    "X_resampled, y_resampled, idx_resampled = rus.fit_sample(XX, yy)"
   ]
  },
  {
   "cell_type": "code",
   "execution_count": 8,
   "metadata": {
    "collapsed": false
   },
   "outputs": [
    {
     "name": "stdout",
     "output_type": "stream",
     "text": [
      "Original dataset shape Counter({0.0: 807, 0.090909090909090898: 248, 0.18181818181818202: 136, 0.27272727272727298: 104, 0.36363636363636404: 61, 0.45454545454545503: 58, 0.54545454545454497: 26, 0.63636363636363591: 11, 0.72727272727272707: 6, 0.81818181818181801: 2})\n",
      "Resampled dataset shape Counter({0.81818181818181801: 2, 0.090909090909090898: 2, 0.18181818181818202: 2, 0.45454545454545503: 2, 0.27272727272727298: 2, 0.54545454545454497: 2, 0.36363636363636404: 2, 0.72727272727272707: 2, 0.63636363636363591: 2, 0.0: 2})\n"
     ]
    }
   ],
   "source": [
    "from collections import Counter\n",
    "print('Original dataset shape {}'.format(Counter(yy)))\n",
    "print('Resampled dataset shape {}'.format(Counter(y_resampled)))"
   ]
  },
  {
   "cell_type": "markdown",
   "metadata": {
    "variables": {
     "y_resampled.shape[0]": "20"
    }
   },
   "source": [
    "Undersampling worked, kinda. We were able to get even distribution, but we only have {{y_resampled.shape[0]}} rows in the new data. This is because, in the training data, we only have 2 families with 9/11 material hardship, so we rebalanced to now have 2 families for each MH score out of 11. So the balance is good, but we can't do much with 20 training observations.\n",
    "\n",
    "Let's try to oversample."
   ]
  },
  {
   "cell_type": "markdown",
   "metadata": {},
   "source": [
    "## 2c. Data balancing - oversampling"
   ]
  },
  {
   "cell_type": "code",
   "execution_count": 9,
   "metadata": {
    "collapsed": true
   },
   "outputs": [],
   "source": [
    "from imblearn.over_sampling import SMOTE"
   ]
  },
  {
   "cell_type": "markdown",
   "metadata": {},
   "source": [
    "**To do:** Maybe change the k_neighbors param for SMOTE"
   ]
  },
  {
   "cell_type": "code",
   "execution_count": 10,
   "metadata": {
    "collapsed": false
   },
   "outputs": [],
   "source": [
    "sm = SMOTE(random_state=42,k_neighbors=1) \n",
    "# X_res, y_res = sm.fit_sample(XX, yy)"
   ]
  },
  {
   "cell_type": "code",
   "execution_count": 11,
   "metadata": {
    "collapsed": false
   },
   "outputs": [],
   "source": [
    "# print('Resampled dataset shape {}'.format(Counter(y_res)))"
   ]
  },
  {
   "cell_type": "code",
   "execution_count": 12,
   "metadata": {
    "collapsed": false
   },
   "outputs": [],
   "source": [
    "# yy.shape"
   ]
  },
  {
   "cell_type": "markdown",
   "metadata": {},
   "source": [
    "This kind of worked too, but not super well. Right now, we are heavility sampling those with a 9/11 material hardship score. We don't need to focus so much on these people, since they are so rare.\n",
    "\n",
    "Over and undersampling isn't going great right now. Having 11 classes is sort of messing with me. Perhaps a better strategy would be to take my training data (with labels) and siphon off just the rows for which material hardship score was in {0,1,2,3,4} or something. I could SMOTE oversample on this to get balance amongst these more common outcomes. If we are predicting MH right for these, our model is doing well enough. "
   ]
  },
  {
   "cell_type": "markdown",
   "metadata": {},
   "source": [
    "Let's see if I can do it really quickly."
   ]
  },
  {
   "cell_type": "code",
   "execution_count": 13,
   "metadata": {
    "collapsed": false
   },
   "outputs": [
    {
     "data": {
      "text/plain": [
       "(1459, 11985)"
      ]
     },
     "execution_count": 13,
     "metadata": {},
     "output_type": "execute_result"
    }
   ],
   "source": [
    "median_all = pd.merge(median_impute_df_train, non_na_y_train_materialHardship, on='challengeID')\n",
    "median_all.shape"
   ]
  },
  {
   "cell_type": "code",
   "execution_count": 14,
   "metadata": {
    "collapsed": false
   },
   "outputs": [
    {
     "data": {
      "text/plain": [
       "0.6363636363636364"
      ]
     },
     "execution_count": 14,
     "metadata": {},
     "output_type": "execute_result"
    }
   ],
   "source": [
    "7/11"
   ]
  },
  {
   "cell_type": "code",
   "execution_count": 15,
   "metadata": {
    "collapsed": false
   },
   "outputs": [],
   "source": [
    "median_all_low_mh = median_all[median_all['materialHardship']<(7/11)] # just look for obs where mh < 7\n",
    "# this is because we have very few obs for mh>7...so trying to sample from those (using knn) is hard"
   ]
  },
  {
   "cell_type": "code",
   "execution_count": 16,
   "metadata": {
    "collapsed": false
   },
   "outputs": [
    {
     "data": {
      "text/plain": [
       "(1451, 11985)"
      ]
     },
     "execution_count": 16,
     "metadata": {},
     "output_type": "execute_result"
    }
   ],
   "source": [
    "median_all_low_mh.shape"
   ]
  },
  {
   "cell_type": "markdown",
   "metadata": {},
   "source": [
    "Split median_all_low_mh back into X and Ys..."
   ]
  },
  {
   "cell_type": "code",
   "execution_count": 17,
   "metadata": {
    "collapsed": false
   },
   "outputs": [],
   "source": [
    "y = median_all_low_mh.iloc[:,-1]\n",
    "y_arr = np.asarray(y)\n",
    "\n",
    "x = median_all_low_mh.drop('materialHardship', axis=1)\n",
    "x_arr =np.asarray(x)"
   ]
  },
  {
   "cell_type": "code",
   "execution_count": 18,
   "metadata": {
    "collapsed": false
   },
   "outputs": [
    {
     "name": "stderr",
     "output_type": "stream",
     "text": [
      "/anaconda/envs/py35/lib/python3.5/site-packages/imblearn/base.py:306: UserWarning: The target type should be binary.\n",
      "  warnings.warn('The target type should be binary.')\n",
      "/anaconda/envs/py35/lib/python3.5/site-packages/imblearn/base.py:306: UserWarning: The target type should be binary.\n",
      "  warnings.warn('The target type should be binary.')\n",
      "/anaconda/envs/py35/lib/python3.5/site-packages/imblearn/base.py:306: UserWarning: The target type should be binary.\n",
      "  warnings.warn('The target type should be binary.')\n",
      "/anaconda/envs/py35/lib/python3.5/site-packages/imblearn/base.py:306: UserWarning: The target type should be binary.\n",
      "  warnings.warn('The target type should be binary.')\n",
      "/anaconda/envs/py35/lib/python3.5/site-packages/imblearn/base.py:306: UserWarning: The target type should be binary.\n",
      "  warnings.warn('The target type should be binary.')\n",
      "/anaconda/envs/py35/lib/python3.5/site-packages/imblearn/base.py:306: UserWarning: The target type should be binary.\n",
      "  warnings.warn('The target type should be binary.')\n",
      "/anaconda/envs/py35/lib/python3.5/site-packages/imblearn/base.py:306: UserWarning: The target type should be binary.\n",
      "  warnings.warn('The target type should be binary.')\n"
     ]
    }
   ],
   "source": [
    "X_resamp, y_resamp = sm.fit_sample(x, y)\n",
    "X_resamp, y_resamp = sm.fit_sample(X_resamp, y_resamp) # call multiple times to iterature though all classes\n",
    "X_resamp, y_resamp = sm.fit_sample(X_resamp, y_resamp)\n",
    "X_resamp, y_resamp = sm.fit_sample(X_resamp, y_resamp)\n",
    "X_resamp, y_resamp = sm.fit_sample(X_resamp, y_resamp)\n",
    "X_resamp, y_resamp = sm.fit_sample(X_resamp, y_resamp)\n",
    "X_resamp, y_resamp = sm.fit_sample(X_resamp, y_resamp)"
   ]
  },
  {
   "cell_type": "code",
   "execution_count": 19,
   "metadata": {
    "collapsed": false
   },
   "outputs": [
    {
     "name": "stdout",
     "output_type": "stream",
     "text": [
      "Resampled dataset shape Counter({0.090909090909090898: 807, 0.0: 807, 0.18181818181818202: 807, 0.45454545454545503: 807, 0.27272727272727298: 807, 0.54545454545454497: 807, 0.36363636363636404: 807, 0.63636363636363591: 807})\n"
     ]
    }
   ],
   "source": [
    "print('Resampled dataset shape {}'.format(Counter(y_resamp)))"
   ]
  },
  {
   "cell_type": "markdown",
   "metadata": {},
   "source": [
    "OK. This worked better. Now, to finish up, we want to tag back on obs we left out."
   ]
  },
  {
   "cell_type": "code",
   "execution_count": 20,
   "metadata": {
    "collapsed": false
   },
   "outputs": [
    {
     "data": {
      "text/html": [
       "<div>\n",
       "<table border=\"1\" class=\"dataframe\">\n",
       "  <thead>\n",
       "    <tr style=\"text-align: right;\">\n",
       "      <th></th>\n",
       "      <th>index</th>\n",
       "      <th>challengeID</th>\n",
       "      <th>m1intmon</th>\n",
       "      <th>m1lenhr</th>\n",
       "      <th>m1lenmin</th>\n",
       "      <th>cm1fint</th>\n",
       "      <th>cm1citsm</th>\n",
       "      <th>m1citywt</th>\n",
       "      <th>innatsm</th>\n",
       "      <th>incitysm</th>\n",
       "      <th>...</th>\n",
       "      <th>m4d9</th>\n",
       "      <th>m4e23</th>\n",
       "      <th>f4d6</th>\n",
       "      <th>f4d7</th>\n",
       "      <th>f4d9</th>\n",
       "      <th>m5c6</th>\n",
       "      <th>m5d20</th>\n",
       "      <th>m5k10</th>\n",
       "      <th>f5c6</th>\n",
       "      <th>k5f1</th>\n",
       "    </tr>\n",
       "  </thead>\n",
       "  <tbody>\n",
       "    <tr>\n",
       "      <th>0</th>\n",
       "      <td>0</td>\n",
       "      <td>6.0</td>\n",
       "      <td>-3.0</td>\n",
       "      <td>0.0</td>\n",
       "      <td>25.0</td>\n",
       "      <td>1.0</td>\n",
       "      <td>1.0</td>\n",
       "      <td>10.593024</td>\n",
       "      <td>1.0</td>\n",
       "      <td>1.0</td>\n",
       "      <td>...</td>\n",
       "      <td>8.51570</td>\n",
       "      <td>10.558813</td>\n",
       "      <td>-3.000000</td>\n",
       "      <td>-3.000000</td>\n",
       "      <td>7.022328</td>\n",
       "      <td>-3.000000</td>\n",
       "      <td>10.564085</td>\n",
       "      <td>-3.0</td>\n",
       "      <td>-3.000000</td>\n",
       "      <td>10.255825</td>\n",
       "    </tr>\n",
       "    <tr>\n",
       "      <th>1</th>\n",
       "      <td>1</td>\n",
       "      <td>7.0</td>\n",
       "      <td>-3.0</td>\n",
       "      <td>0.0</td>\n",
       "      <td>35.0</td>\n",
       "      <td>1.0</td>\n",
       "      <td>1.0</td>\n",
       "      <td>531.335144</td>\n",
       "      <td>1.0</td>\n",
       "      <td>1.0</td>\n",
       "      <td>...</td>\n",
       "      <td>-3.00000</td>\n",
       "      <td>-3.000000</td>\n",
       "      <td>9.660643</td>\n",
       "      <td>9.861125</td>\n",
       "      <td>-3.000000</td>\n",
       "      <td>10.991854</td>\n",
       "      <td>-3.000000</td>\n",
       "      <td>-3.0</td>\n",
       "      <td>10.972726</td>\n",
       "      <td>10.859800</td>\n",
       "    </tr>\n",
       "    <tr>\n",
       "      <th>2</th>\n",
       "      <td>2</td>\n",
       "      <td>9.0</td>\n",
       "      <td>-3.0</td>\n",
       "      <td>0.0</td>\n",
       "      <td>30.0</td>\n",
       "      <td>1.0</td>\n",
       "      <td>1.0</td>\n",
       "      <td>90.466721</td>\n",
       "      <td>0.0</td>\n",
       "      <td>1.0</td>\n",
       "      <td>...</td>\n",
       "      <td>-3.00000</td>\n",
       "      <td>-3.000000</td>\n",
       "      <td>11.689877</td>\n",
       "      <td>9.373199</td>\n",
       "      <td>-3.000000</td>\n",
       "      <td>8.194868</td>\n",
       "      <td>-3.000000</td>\n",
       "      <td>-3.0</td>\n",
       "      <td>9.842380</td>\n",
       "      <td>9.566678</td>\n",
       "    </tr>\n",
       "    <tr>\n",
       "      <th>3</th>\n",
       "      <td>3</td>\n",
       "      <td>10.0</td>\n",
       "      <td>-3.0</td>\n",
       "      <td>0.0</td>\n",
       "      <td>33.0</td>\n",
       "      <td>1.0</td>\n",
       "      <td>1.0</td>\n",
       "      <td>6.155746</td>\n",
       "      <td>1.0</td>\n",
       "      <td>1.0</td>\n",
       "      <td>...</td>\n",
       "      <td>-3.00000</td>\n",
       "      <td>-3.000000</td>\n",
       "      <td>-3.000000</td>\n",
       "      <td>-3.000000</td>\n",
       "      <td>-3.000000</td>\n",
       "      <td>-3.000000</td>\n",
       "      <td>10.564085</td>\n",
       "      <td>-3.0</td>\n",
       "      <td>-3.000000</td>\n",
       "      <td>10.105870</td>\n",
       "    </tr>\n",
       "    <tr>\n",
       "      <th>4</th>\n",
       "      <td>4</td>\n",
       "      <td>13.0</td>\n",
       "      <td>-3.0</td>\n",
       "      <td>1.0</td>\n",
       "      <td>-3.0</td>\n",
       "      <td>1.0</td>\n",
       "      <td>1.0</td>\n",
       "      <td>5.496325</td>\n",
       "      <td>0.0</td>\n",
       "      <td>1.0</td>\n",
       "      <td>...</td>\n",
       "      <td>10.78074</td>\n",
       "      <td>-3.000000</td>\n",
       "      <td>-3.000000</td>\n",
       "      <td>-3.000000</td>\n",
       "      <td>8.944119</td>\n",
       "      <td>-3.000000</td>\n",
       "      <td>9.781718</td>\n",
       "      <td>-3.0</td>\n",
       "      <td>-3.000000</td>\n",
       "      <td>9.566678</td>\n",
       "    </tr>\n",
       "  </tbody>\n",
       "</table>\n",
       "<p>5 rows × 11985 columns</p>\n",
       "</div>"
      ],
      "text/plain": [
       "   index  challengeID  m1intmon  m1lenhr  m1lenmin  cm1fint  cm1citsm  \\\n",
       "0      0          6.0      -3.0      0.0      25.0      1.0       1.0   \n",
       "1      1          7.0      -3.0      0.0      35.0      1.0       1.0   \n",
       "2      2          9.0      -3.0      0.0      30.0      1.0       1.0   \n",
       "3      3         10.0      -3.0      0.0      33.0      1.0       1.0   \n",
       "4      4         13.0      -3.0      1.0      -3.0      1.0       1.0   \n",
       "\n",
       "     m1citywt  innatsm  incitysm    ...          m4d9      m4e23       f4d6  \\\n",
       "0   10.593024      1.0       1.0    ...       8.51570  10.558813  -3.000000   \n",
       "1  531.335144      1.0       1.0    ...      -3.00000  -3.000000   9.660643   \n",
       "2   90.466721      0.0       1.0    ...      -3.00000  -3.000000  11.689877   \n",
       "3    6.155746      1.0       1.0    ...      -3.00000  -3.000000  -3.000000   \n",
       "4    5.496325      0.0       1.0    ...      10.78074  -3.000000  -3.000000   \n",
       "\n",
       "       f4d7      f4d9       m5c6      m5d20  m5k10       f5c6       k5f1  \n",
       "0 -3.000000  7.022328  -3.000000  10.564085   -3.0  -3.000000  10.255825  \n",
       "1  9.861125 -3.000000  10.991854  -3.000000   -3.0  10.972726  10.859800  \n",
       "2  9.373199 -3.000000   8.194868  -3.000000   -3.0   9.842380   9.566678  \n",
       "3 -3.000000 -3.000000  -3.000000  10.564085   -3.0  -3.000000  10.105870  \n",
       "4 -3.000000  8.944119  -3.000000   9.781718   -3.0  -3.000000   9.566678  \n",
       "\n",
       "[5 rows x 11985 columns]"
      ]
     },
     "execution_count": 20,
     "metadata": {},
     "output_type": "execute_result"
    }
   ],
   "source": [
    "x_resamped = pd.DataFrame(X_resamp)\n",
    "x_resamped.columns = median_impute_df_train.columns.values\n",
    "x_resamped.reset_index(inplace=True)\n",
    "x_resamped.head()"
   ]
  },
  {
   "cell_type": "code",
   "execution_count": 21,
   "metadata": {
    "collapsed": false
   },
   "outputs": [],
   "source": [
    "y_resamped = pd.DataFrame(y_resamp)\n",
    "y_resamped.columns = ['materialHardship']\n",
    "y_resamped.reset_index(inplace=True)"
   ]
  },
  {
   "cell_type": "code",
   "execution_count": 22,
   "metadata": {
    "collapsed": false
   },
   "outputs": [
    {
     "data": {
      "text/html": [
       "<div>\n",
       "<table border=\"1\" class=\"dataframe\">\n",
       "  <thead>\n",
       "    <tr style=\"text-align: right;\">\n",
       "      <th></th>\n",
       "      <th>index</th>\n",
       "      <th>challengeID</th>\n",
       "      <th>m1intmon</th>\n",
       "      <th>m1lenhr</th>\n",
       "      <th>m1lenmin</th>\n",
       "      <th>cm1fint</th>\n",
       "      <th>cm1citsm</th>\n",
       "      <th>m1citywt</th>\n",
       "      <th>innatsm</th>\n",
       "      <th>incitysm</th>\n",
       "      <th>...</th>\n",
       "      <th>m4e23</th>\n",
       "      <th>f4d6</th>\n",
       "      <th>f4d7</th>\n",
       "      <th>f4d9</th>\n",
       "      <th>m5c6</th>\n",
       "      <th>m5d20</th>\n",
       "      <th>m5k10</th>\n",
       "      <th>f5c6</th>\n",
       "      <th>k5f1</th>\n",
       "      <th>materialHardship</th>\n",
       "    </tr>\n",
       "  </thead>\n",
       "  <tbody>\n",
       "    <tr>\n",
       "      <th>0</th>\n",
       "      <td>0</td>\n",
       "      <td>6.0</td>\n",
       "      <td>-3.0</td>\n",
       "      <td>0.0</td>\n",
       "      <td>25.0</td>\n",
       "      <td>1.0</td>\n",
       "      <td>1.0</td>\n",
       "      <td>10.593024</td>\n",
       "      <td>1.0</td>\n",
       "      <td>1.0</td>\n",
       "      <td>...</td>\n",
       "      <td>10.558813</td>\n",
       "      <td>-3.000000</td>\n",
       "      <td>-3.000000</td>\n",
       "      <td>7.022328</td>\n",
       "      <td>-3.000000</td>\n",
       "      <td>10.564085</td>\n",
       "      <td>-3.0</td>\n",
       "      <td>-3.000000</td>\n",
       "      <td>10.255825</td>\n",
       "      <td>0.090909</td>\n",
       "    </tr>\n",
       "    <tr>\n",
       "      <th>1</th>\n",
       "      <td>1</td>\n",
       "      <td>7.0</td>\n",
       "      <td>-3.0</td>\n",
       "      <td>0.0</td>\n",
       "      <td>35.0</td>\n",
       "      <td>1.0</td>\n",
       "      <td>1.0</td>\n",
       "      <td>531.335144</td>\n",
       "      <td>1.0</td>\n",
       "      <td>1.0</td>\n",
       "      <td>...</td>\n",
       "      <td>-3.000000</td>\n",
       "      <td>9.660643</td>\n",
       "      <td>9.861125</td>\n",
       "      <td>-3.000000</td>\n",
       "      <td>10.991854</td>\n",
       "      <td>-3.000000</td>\n",
       "      <td>-3.0</td>\n",
       "      <td>10.972726</td>\n",
       "      <td>10.859800</td>\n",
       "      <td>0.000000</td>\n",
       "    </tr>\n",
       "    <tr>\n",
       "      <th>2</th>\n",
       "      <td>2</td>\n",
       "      <td>9.0</td>\n",
       "      <td>-3.0</td>\n",
       "      <td>0.0</td>\n",
       "      <td>30.0</td>\n",
       "      <td>1.0</td>\n",
       "      <td>1.0</td>\n",
       "      <td>90.466721</td>\n",
       "      <td>0.0</td>\n",
       "      <td>1.0</td>\n",
       "      <td>...</td>\n",
       "      <td>-3.000000</td>\n",
       "      <td>11.689877</td>\n",
       "      <td>9.373199</td>\n",
       "      <td>-3.000000</td>\n",
       "      <td>8.194868</td>\n",
       "      <td>-3.000000</td>\n",
       "      <td>-3.0</td>\n",
       "      <td>9.842380</td>\n",
       "      <td>9.566678</td>\n",
       "      <td>0.181818</td>\n",
       "    </tr>\n",
       "    <tr>\n",
       "      <th>3</th>\n",
       "      <td>3</td>\n",
       "      <td>10.0</td>\n",
       "      <td>-3.0</td>\n",
       "      <td>0.0</td>\n",
       "      <td>33.0</td>\n",
       "      <td>1.0</td>\n",
       "      <td>1.0</td>\n",
       "      <td>6.155746</td>\n",
       "      <td>1.0</td>\n",
       "      <td>1.0</td>\n",
       "      <td>...</td>\n",
       "      <td>-3.000000</td>\n",
       "      <td>-3.000000</td>\n",
       "      <td>-3.000000</td>\n",
       "      <td>-3.000000</td>\n",
       "      <td>-3.000000</td>\n",
       "      <td>10.564085</td>\n",
       "      <td>-3.0</td>\n",
       "      <td>-3.000000</td>\n",
       "      <td>10.105870</td>\n",
       "      <td>0.090909</td>\n",
       "    </tr>\n",
       "    <tr>\n",
       "      <th>4</th>\n",
       "      <td>4</td>\n",
       "      <td>13.0</td>\n",
       "      <td>-3.0</td>\n",
       "      <td>1.0</td>\n",
       "      <td>-3.0</td>\n",
       "      <td>1.0</td>\n",
       "      <td>1.0</td>\n",
       "      <td>5.496325</td>\n",
       "      <td>0.0</td>\n",
       "      <td>1.0</td>\n",
       "      <td>...</td>\n",
       "      <td>-3.000000</td>\n",
       "      <td>-3.000000</td>\n",
       "      <td>-3.000000</td>\n",
       "      <td>8.944119</td>\n",
       "      <td>-3.000000</td>\n",
       "      <td>9.781718</td>\n",
       "      <td>-3.0</td>\n",
       "      <td>-3.000000</td>\n",
       "      <td>9.566678</td>\n",
       "      <td>0.181818</td>\n",
       "    </tr>\n",
       "  </tbody>\n",
       "</table>\n",
       "<p>5 rows × 11986 columns</p>\n",
       "</div>"
      ],
      "text/plain": [
       "   index  challengeID  m1intmon  m1lenhr  m1lenmin  cm1fint  cm1citsm  \\\n",
       "0      0          6.0      -3.0      0.0      25.0      1.0       1.0   \n",
       "1      1          7.0      -3.0      0.0      35.0      1.0       1.0   \n",
       "2      2          9.0      -3.0      0.0      30.0      1.0       1.0   \n",
       "3      3         10.0      -3.0      0.0      33.0      1.0       1.0   \n",
       "4      4         13.0      -3.0      1.0      -3.0      1.0       1.0   \n",
       "\n",
       "     m1citywt  innatsm  incitysm        ...             m4e23       f4d6  \\\n",
       "0   10.593024      1.0       1.0        ...         10.558813  -3.000000   \n",
       "1  531.335144      1.0       1.0        ...         -3.000000   9.660643   \n",
       "2   90.466721      0.0       1.0        ...         -3.000000  11.689877   \n",
       "3    6.155746      1.0       1.0        ...         -3.000000  -3.000000   \n",
       "4    5.496325      0.0       1.0        ...         -3.000000  -3.000000   \n",
       "\n",
       "       f4d7      f4d9       m5c6      m5d20  m5k10       f5c6       k5f1  \\\n",
       "0 -3.000000  7.022328  -3.000000  10.564085   -3.0  -3.000000  10.255825   \n",
       "1  9.861125 -3.000000  10.991854  -3.000000   -3.0  10.972726  10.859800   \n",
       "2  9.373199 -3.000000   8.194868  -3.000000   -3.0   9.842380   9.566678   \n",
       "3 -3.000000 -3.000000  -3.000000  10.564085   -3.0  -3.000000  10.105870   \n",
       "4 -3.000000  8.944119  -3.000000   9.781718   -3.0  -3.000000   9.566678   \n",
       "\n",
       "   materialHardship  \n",
       "0          0.090909  \n",
       "1          0.000000  \n",
       "2          0.181818  \n",
       "3          0.090909  \n",
       "4          0.181818  \n",
       "\n",
       "[5 rows x 11986 columns]"
      ]
     },
     "execution_count": 22,
     "metadata": {},
     "output_type": "execute_result"
    }
   ],
   "source": [
    "resamped_x_y = pd.merge(x_resamped, y_resamped, on='index')\n",
    "resamped_x_y.head()"
   ]
  },
  {
   "cell_type": "markdown",
   "metadata": {},
   "source": [
    "Now, let's add back the high material hardship obs we left out. "
   ]
  },
  {
   "cell_type": "code",
   "execution_count": 23,
   "metadata": {
    "collapsed": false
   },
   "outputs": [
    {
     "data": {
      "text/plain": [
       "(8, 11985)"
      ]
     },
     "execution_count": 23,
     "metadata": {},
     "output_type": "execute_result"
    }
   ],
   "source": [
    "high_mh = median_all[median_all['materialHardship']>=(7/11)] # just look for obs where mh < 7\n",
    "high_mh.shape"
   ]
  },
  {
   "cell_type": "markdown",
   "metadata": {
    "variables": {
     "resamped_x_y.shape[0]": "6456",
     "resamped_x_y.shape[0] + high_mh.shape[0]": "6464",
     "resamped_x_y.shape[1]": "11986"
    }
   },
   "source": [
    "And the shape of the resampled df is {{resamped_x_y.shape[0]}} x {{resamped_x_y.shape[1]}}. Our new df should have {{resamped_x_y.shape[0] + high_mh.shape[0]}} rows!"
   ]
  },
  {
   "cell_type": "code",
   "execution_count": 24,
   "metadata": {
    "collapsed": false
   },
   "outputs": [
    {
     "data": {
      "text/plain": [
       "(6464, 11986)"
      ]
     },
     "execution_count": 24,
     "metadata": {},
     "output_type": "execute_result"
    }
   ],
   "source": [
    "final_over_balanced = resamped_x_y.append(high_mh)\n",
    "final_over_balanced.shape"
   ]
  },
  {
   "cell_type": "code",
   "execution_count": 25,
   "metadata": {
    "collapsed": false
   },
   "outputs": [
    {
     "data": {
      "text/plain": [
       "0          6.000000\n",
       "1          7.000000\n",
       "2          9.000000\n",
       "3         10.000000\n",
       "4         13.000000\n",
       "5         14.000000\n",
       "6         16.000000\n",
       "7         18.000000\n",
       "8         20.000000\n",
       "9         23.000000\n",
       "10        24.000000\n",
       "11        30.000000\n",
       "12        35.000000\n",
       "13        40.000000\n",
       "14        43.000000\n",
       "15        45.000000\n",
       "16        46.000000\n",
       "17        47.000000\n",
       "18        52.000000\n",
       "19        53.000000\n",
       "20        55.000000\n",
       "21        57.000000\n",
       "22        58.000000\n",
       "23        60.000000\n",
       "24        61.000000\n",
       "25        62.000000\n",
       "26        64.000000\n",
       "27        66.000000\n",
       "28        67.000000\n",
       "29        69.000000\n",
       "           ...     \n",
       "6434    3166.598646\n",
       "6435    2881.425257\n",
       "6436    2272.061991\n",
       "6437    1335.521285\n",
       "6438    1235.938427\n",
       "6439    1913.864483\n",
       "6440     986.674124\n",
       "6441    3513.637087\n",
       "6442    1918.673952\n",
       "6443    1943.141939\n",
       "6444     862.574217\n",
       "6445     649.588874\n",
       "6446    1642.592910\n",
       "6447     909.851704\n",
       "6448    2877.181317\n",
       "6449    1311.676119\n",
       "6450    1454.865759\n",
       "6451    1511.893188\n",
       "6452     835.462304\n",
       "6453    3685.017867\n",
       "6454    2570.037877\n",
       "6455    2848.946051\n",
       "99       287.000000\n",
       "103      297.000000\n",
       "117      324.000000\n",
       "272      766.000000\n",
       "471     1341.000000\n",
       "536     1518.000000\n",
       "579     1632.000000\n",
       "1225    3485.000000\n",
       "Name: challengeID, dtype: float64"
      ]
     },
     "execution_count": 25,
     "metadata": {},
     "output_type": "execute_result"
    }
   ],
   "source": [
    "final_over_balanced['challengeID']"
   ]
  },
  {
   "cell_type": "markdown",
   "metadata": {},
   "source": [
    "Sweet. We are in business. A quick visualization should show that there is more balance in this new df. "
   ]
  },
  {
   "cell_type": "code",
   "execution_count": 26,
   "metadata": {
    "collapsed": false
   },
   "outputs": [
    {
     "data": {
      "image/png": "[encoded data removed]",
      "text/plain": [
       "<matplotlib.figure.Figure at 0x12765ba20>"
      ]
     },
     "metadata": {},
     "output_type": "display_data"
    }
   ],
   "source": [
    "sns.distplot(final_over_balanced['materialHardship'])\n",
    "plt.show()"
   ]
  },
  {
   "cell_type": "code",
   "execution_count": 52,
   "metadata": {
    "collapsed": false
   },
   "outputs": [
    {
     "data": {
      "text/html": [
       "<div>\n",
       "<table border=\"1\" class=\"dataframe\">\n",
       "  <thead>\n",
       "    <tr style=\"text-align: right;\">\n",
       "      <th></th>\n",
       "      <th>c2citywt</th>\n",
       "      <th>c2citywt_rep1</th>\n",
       "      <th>c2citywt_rep10</th>\n",
       "      <th>c2citywt_rep2</th>\n",
       "      <th>c2citywt_rep3</th>\n",
       "      <th>c2citywt_rep4</th>\n",
       "      <th>c2citywt_rep5</th>\n",
       "      <th>c2citywt_rep6</th>\n",
       "      <th>c2citywt_rep7</th>\n",
       "      <th>c2citywt_rep8</th>\n",
       "      <th>...</th>\n",
       "      <th>t5g4i</th>\n",
       "      <th>t5g4j</th>\n",
       "      <th>t5g4k</th>\n",
       "      <th>t5g5</th>\n",
       "      <th>t5g6</th>\n",
       "      <th>t5g7</th>\n",
       "      <th>t5g8</th>\n",
       "      <th>t5g9_age</th>\n",
       "      <th>t5status</th>\n",
       "      <th>t5tint</th>\n",
       "    </tr>\n",
       "  </thead>\n",
       "  <tbody>\n",
       "    <tr>\n",
       "      <th>0</th>\n",
       "      <td>11.134632</td>\n",
       "      <td>13.075468</td>\n",
       "      <td>13.862883</td>\n",
       "      <td>13.057703</td>\n",
       "      <td>11.229993</td>\n",
       "      <td>12.411758</td>\n",
       "      <td>12.993218</td>\n",
       "      <td>13.358963</td>\n",
       "      <td>0.000000</td>\n",
       "      <td>11.579317</td>\n",
       "      <td>...</td>\n",
       "      <td>-3.0</td>\n",
       "      <td>-3.0</td>\n",
       "      <td>-3.0</td>\n",
       "      <td>-3.0</td>\n",
       "      <td>-3.0</td>\n",
       "      <td>-3.0</td>\n",
       "      <td>-3.0</td>\n",
       "      <td>-3.0</td>\n",
       "      <td>-9.0</td>\n",
       "      <td>0.0</td>\n",
       "    </tr>\n",
       "    <tr>\n",
       "      <th>1</th>\n",
       "      <td>41.145229</td>\n",
       "      <td>38.750587</td>\n",
       "      <td>35.888996</td>\n",
       "      <td>38.882961</td>\n",
       "      <td>38.353191</td>\n",
       "      <td>37.669495</td>\n",
       "      <td>39.116447</td>\n",
       "      <td>38.526501</td>\n",
       "      <td>39.675743</td>\n",
       "      <td>39.874935</td>\n",
       "      <td>...</td>\n",
       "      <td>-3.0</td>\n",
       "      <td>-3.0</td>\n",
       "      <td>-3.0</td>\n",
       "      <td>-3.0</td>\n",
       "      <td>-3.0</td>\n",
       "      <td>-3.0</td>\n",
       "      <td>-3.0</td>\n",
       "      <td>-3.0</td>\n",
       "      <td>-9.0</td>\n",
       "      <td>0.0</td>\n",
       "    </tr>\n",
       "    <tr>\n",
       "      <th>2</th>\n",
       "      <td>104.055870</td>\n",
       "      <td>107.864006</td>\n",
       "      <td>0.000000</td>\n",
       "      <td>104.398315</td>\n",
       "      <td>109.786621</td>\n",
       "      <td>121.313026</td>\n",
       "      <td>123.207191</td>\n",
       "      <td>124.847580</td>\n",
       "      <td>114.975273</td>\n",
       "      <td>110.409531</td>\n",
       "      <td>...</td>\n",
       "      <td>-3.0</td>\n",
       "      <td>-3.0</td>\n",
       "      <td>-3.0</td>\n",
       "      <td>-3.0</td>\n",
       "      <td>-3.0</td>\n",
       "      <td>-3.0</td>\n",
       "      <td>-3.0</td>\n",
       "      <td>-3.0</td>\n",
       "      <td>65.0</td>\n",
       "      <td>1.0</td>\n",
       "    </tr>\n",
       "    <tr>\n",
       "      <th>3</th>\n",
       "      <td>41.145229</td>\n",
       "      <td>38.750587</td>\n",
       "      <td>35.888996</td>\n",
       "      <td>38.882961</td>\n",
       "      <td>38.353191</td>\n",
       "      <td>37.669495</td>\n",
       "      <td>39.116447</td>\n",
       "      <td>38.526501</td>\n",
       "      <td>39.675743</td>\n",
       "      <td>39.874935</td>\n",
       "      <td>...</td>\n",
       "      <td>-3.0</td>\n",
       "      <td>-3.0</td>\n",
       "      <td>-3.0</td>\n",
       "      <td>-3.0</td>\n",
       "      <td>-3.0</td>\n",
       "      <td>-3.0</td>\n",
       "      <td>-3.0</td>\n",
       "      <td>-3.0</td>\n",
       "      <td>-9.0</td>\n",
       "      <td>0.0</td>\n",
       "    </tr>\n",
       "    <tr>\n",
       "      <th>4</th>\n",
       "      <td>8.702942</td>\n",
       "      <td>11.572806</td>\n",
       "      <td>8.381824</td>\n",
       "      <td>9.364669</td>\n",
       "      <td>9.504119</td>\n",
       "      <td>0.000000</td>\n",
       "      <td>11.012741</td>\n",
       "      <td>10.537480</td>\n",
       "      <td>9.394835</td>\n",
       "      <td>12.157079</td>\n",
       "      <td>...</td>\n",
       "      <td>-3.0</td>\n",
       "      <td>-3.0</td>\n",
       "      <td>-3.0</td>\n",
       "      <td>-3.0</td>\n",
       "      <td>-3.0</td>\n",
       "      <td>-3.0</td>\n",
       "      <td>-3.0</td>\n",
       "      <td>-3.0</td>\n",
       "      <td>-9.0</td>\n",
       "      <td>0.0</td>\n",
       "    </tr>\n",
       "  </tbody>\n",
       "</table>\n",
       "<p>5 rows × 11986 columns</p>\n",
       "</div>"
      ],
      "text/plain": [
       "     c2citywt  c2citywt_rep1  c2citywt_rep10  c2citywt_rep2  c2citywt_rep3  \\\n",
       "0   11.134632      13.075468       13.862883      13.057703      11.229993   \n",
       "1   41.145229      38.750587       35.888996      38.882961      38.353191   \n",
       "2  104.055870     107.864006        0.000000     104.398315     109.786621   \n",
       "3   41.145229      38.750587       35.888996      38.882961      38.353191   \n",
       "4    8.702942      11.572806        8.381824       9.364669       9.504119   \n",
       "\n",
       "   c2citywt_rep4  c2citywt_rep5  c2citywt_rep6  c2citywt_rep7  c2citywt_rep8  \\\n",
       "0      12.411758      12.993218      13.358963       0.000000      11.579317   \n",
       "1      37.669495      39.116447      38.526501      39.675743      39.874935   \n",
       "2     121.313026     123.207191     124.847580     114.975273     110.409531   \n",
       "3      37.669495      39.116447      38.526501      39.675743      39.874935   \n",
       "4       0.000000      11.012741      10.537480       9.394835      12.157079   \n",
       "\n",
       "    ...    t5g4i  t5g4j  t5g4k  t5g5  t5g6  t5g7  t5g8  t5g9_age  t5status  \\\n",
       "0   ...     -3.0   -3.0   -3.0  -3.0  -3.0  -3.0  -3.0      -3.0      -9.0   \n",
       "1   ...     -3.0   -3.0   -3.0  -3.0  -3.0  -3.0  -3.0      -3.0      -9.0   \n",
       "2   ...     -3.0   -3.0   -3.0  -3.0  -3.0  -3.0  -3.0      -3.0      65.0   \n",
       "3   ...     -3.0   -3.0   -3.0  -3.0  -3.0  -3.0  -3.0      -3.0      -9.0   \n",
       "4   ...     -3.0   -3.0   -3.0  -3.0  -3.0  -3.0  -3.0      -3.0      -9.0   \n",
       "\n",
       "   t5tint  \n",
       "0     0.0  \n",
       "1     0.0  \n",
       "2     1.0  \n",
       "3     0.0  \n",
       "4     0.0  \n",
       "\n",
       "[5 rows x 11986 columns]"
      ]
     },
     "execution_count": 52,
     "metadata": {},
     "output_type": "execute_result"
    }
   ],
   "source": [
    "# sort cols alphabetically\n",
    "final_over_balanced.reindex_axis(sorted(final_over_balanced.columns), axis=1)\n",
    "final_over_balanced.head()"
   ]
  },
  {
   "cell_type": "code",
   "execution_count": 53,
   "metadata": {
    "collapsed": false
   },
   "outputs": [
    {
     "data": {
      "text/html": [
       "<div>\n",
       "<table border=\"1\" class=\"dataframe\">\n",
       "  <thead>\n",
       "    <tr style=\"text-align: right;\">\n",
       "      <th></th>\n",
       "      <th>c2citywt</th>\n",
       "      <th>c2citywt_rep1</th>\n",
       "      <th>c2citywt_rep10</th>\n",
       "      <th>c2citywt_rep2</th>\n",
       "      <th>c2citywt_rep3</th>\n",
       "      <th>c2citywt_rep4</th>\n",
       "      <th>c2citywt_rep5</th>\n",
       "      <th>c2citywt_rep6</th>\n",
       "      <th>c2citywt_rep7</th>\n",
       "      <th>c2citywt_rep8</th>\n",
       "      <th>...</th>\n",
       "      <th>t5g4i</th>\n",
       "      <th>t5g4j</th>\n",
       "      <th>t5g4k</th>\n",
       "      <th>t5g5</th>\n",
       "      <th>t5g6</th>\n",
       "      <th>t5g7</th>\n",
       "      <th>t5g8</th>\n",
       "      <th>t5g9_age</th>\n",
       "      <th>t5status</th>\n",
       "      <th>t5tint</th>\n",
       "    </tr>\n",
       "  </thead>\n",
       "  <tbody>\n",
       "    <tr>\n",
       "      <th>0</th>\n",
       "      <td>11.134632</td>\n",
       "      <td>13.075468</td>\n",
       "      <td>13.862883</td>\n",
       "      <td>13.057703</td>\n",
       "      <td>11.229993</td>\n",
       "      <td>12.411758</td>\n",
       "      <td>12.993218</td>\n",
       "      <td>13.358963</td>\n",
       "      <td>0.000000</td>\n",
       "      <td>11.579317</td>\n",
       "      <td>...</td>\n",
       "      <td>-3.0</td>\n",
       "      <td>-3.0</td>\n",
       "      <td>-3.0</td>\n",
       "      <td>-3.0</td>\n",
       "      <td>-3.0</td>\n",
       "      <td>-3.0</td>\n",
       "      <td>-3.0</td>\n",
       "      <td>-3.0</td>\n",
       "      <td>-9.0</td>\n",
       "      <td>0.0</td>\n",
       "    </tr>\n",
       "    <tr>\n",
       "      <th>1</th>\n",
       "      <td>41.145229</td>\n",
       "      <td>38.750587</td>\n",
       "      <td>35.888996</td>\n",
       "      <td>38.882961</td>\n",
       "      <td>38.353191</td>\n",
       "      <td>37.669495</td>\n",
       "      <td>39.116447</td>\n",
       "      <td>38.526501</td>\n",
       "      <td>39.675743</td>\n",
       "      <td>39.874935</td>\n",
       "      <td>...</td>\n",
       "      <td>-3.0</td>\n",
       "      <td>-3.0</td>\n",
       "      <td>-3.0</td>\n",
       "      <td>-3.0</td>\n",
       "      <td>-3.0</td>\n",
       "      <td>-3.0</td>\n",
       "      <td>-3.0</td>\n",
       "      <td>-3.0</td>\n",
       "      <td>-9.0</td>\n",
       "      <td>0.0</td>\n",
       "    </tr>\n",
       "    <tr>\n",
       "      <th>2</th>\n",
       "      <td>104.055870</td>\n",
       "      <td>107.864006</td>\n",
       "      <td>0.000000</td>\n",
       "      <td>104.398315</td>\n",
       "      <td>109.786621</td>\n",
       "      <td>121.313026</td>\n",
       "      <td>123.207191</td>\n",
       "      <td>124.847580</td>\n",
       "      <td>114.975273</td>\n",
       "      <td>110.409531</td>\n",
       "      <td>...</td>\n",
       "      <td>-3.0</td>\n",
       "      <td>-3.0</td>\n",
       "      <td>-3.0</td>\n",
       "      <td>-3.0</td>\n",
       "      <td>-3.0</td>\n",
       "      <td>-3.0</td>\n",
       "      <td>-3.0</td>\n",
       "      <td>-3.0</td>\n",
       "      <td>65.0</td>\n",
       "      <td>1.0</td>\n",
       "    </tr>\n",
       "    <tr>\n",
       "      <th>3</th>\n",
       "      <td>41.145229</td>\n",
       "      <td>38.750587</td>\n",
       "      <td>35.888996</td>\n",
       "      <td>38.882961</td>\n",
       "      <td>38.353191</td>\n",
       "      <td>37.669495</td>\n",
       "      <td>39.116447</td>\n",
       "      <td>38.526501</td>\n",
       "      <td>39.675743</td>\n",
       "      <td>39.874935</td>\n",
       "      <td>...</td>\n",
       "      <td>-3.0</td>\n",
       "      <td>-3.0</td>\n",
       "      <td>-3.0</td>\n",
       "      <td>-3.0</td>\n",
       "      <td>-3.0</td>\n",
       "      <td>-3.0</td>\n",
       "      <td>-3.0</td>\n",
       "      <td>-3.0</td>\n",
       "      <td>-9.0</td>\n",
       "      <td>0.0</td>\n",
       "    </tr>\n",
       "    <tr>\n",
       "      <th>4</th>\n",
       "      <td>8.702942</td>\n",
       "      <td>11.572806</td>\n",
       "      <td>8.381824</td>\n",
       "      <td>9.364669</td>\n",
       "      <td>9.504119</td>\n",
       "      <td>0.000000</td>\n",
       "      <td>11.012741</td>\n",
       "      <td>10.537480</td>\n",
       "      <td>9.394835</td>\n",
       "      <td>12.157079</td>\n",
       "      <td>...</td>\n",
       "      <td>-3.0</td>\n",
       "      <td>-3.0</td>\n",
       "      <td>-3.0</td>\n",
       "      <td>-3.0</td>\n",
       "      <td>-3.0</td>\n",
       "      <td>-3.0</td>\n",
       "      <td>-3.0</td>\n",
       "      <td>-3.0</td>\n",
       "      <td>-9.0</td>\n",
       "      <td>0.0</td>\n",
       "    </tr>\n",
       "  </tbody>\n",
       "</table>\n",
       "<p>5 rows × 11985 columns</p>\n",
       "</div>"
      ],
      "text/plain": [
       "     c2citywt  c2citywt_rep1  c2citywt_rep10  c2citywt_rep2  c2citywt_rep3  \\\n",
       "0   11.134632      13.075468       13.862883      13.057703      11.229993   \n",
       "1   41.145229      38.750587       35.888996      38.882961      38.353191   \n",
       "2  104.055870     107.864006        0.000000     104.398315     109.786621   \n",
       "3   41.145229      38.750587       35.888996      38.882961      38.353191   \n",
       "4    8.702942      11.572806        8.381824       9.364669       9.504119   \n",
       "\n",
       "   c2citywt_rep4  c2citywt_rep5  c2citywt_rep6  c2citywt_rep7  c2citywt_rep8  \\\n",
       "0      12.411758      12.993218      13.358963       0.000000      11.579317   \n",
       "1      37.669495      39.116447      38.526501      39.675743      39.874935   \n",
       "2     121.313026     123.207191     124.847580     114.975273     110.409531   \n",
       "3      37.669495      39.116447      38.526501      39.675743      39.874935   \n",
       "4       0.000000      11.012741      10.537480       9.394835      12.157079   \n",
       "\n",
       "    ...    t5g4i  t5g4j  t5g4k  t5g5  t5g6  t5g7  t5g8  t5g9_age  t5status  \\\n",
       "0   ...     -3.0   -3.0   -3.0  -3.0  -3.0  -3.0  -3.0      -3.0      -9.0   \n",
       "1   ...     -3.0   -3.0   -3.0  -3.0  -3.0  -3.0  -3.0      -3.0      -9.0   \n",
       "2   ...     -3.0   -3.0   -3.0  -3.0  -3.0  -3.0  -3.0      -3.0      65.0   \n",
       "3   ...     -3.0   -3.0   -3.0  -3.0  -3.0  -3.0  -3.0      -3.0      -9.0   \n",
       "4   ...     -3.0   -3.0   -3.0  -3.0  -3.0  -3.0  -3.0      -3.0      -9.0   \n",
       "\n",
       "   t5tint  \n",
       "0     0.0  \n",
       "1     0.0  \n",
       "2     1.0  \n",
       "3     0.0  \n",
       "4     0.0  \n",
       "\n",
       "[5 rows x 11985 columns]"
      ]
     },
     "execution_count": 53,
     "metadata": {},
     "output_type": "execute_result"
    }
   ],
   "source": [
    "final_over_balanced = final_over_balanced.drop('index', 1)\n",
    "final_over_balanced.head()"
   ]
  },
  {
   "cell_type": "markdown",
   "metadata": {
    "collapsed": true
   },
   "source": [
    "# 3. Training data export<a name=\"ims\"></a>"
   ]
  },
  {
   "cell_type": "markdown",
   "metadata": {},
   "source": [
    "Let's now export various training dataframes so we can train on validation data in our next notebook. Here are the various flavors available:\n",
    "\n",
    "- Plain jane training set (with crap ton of NAs): df_train\n",
    "\n",
    "Imputed: \n",
    "\n",
    "- Mean imputation method: mean_impute_df_train\n",
    "- Median imputation method: median_impute_df_train\n",
    "- ~~MICE imputation method: mice_impute_df_train~~\n",
    "\n",
    "All of the above should be merged onto the y values given by non_na_y_train_materialHardship. \n",
    "\n",
    "Augmented:\n",
    "\n",
    "- ~~Augmented data: augmented_df_train~~\n",
    "\n",
    "Class balanced:\n",
    "\n",
    "- Balanced label data: balanced_label_df_train (goes with final_over_balanced['materialHardship']. Can just use final_over_balanced for full features + classes df)\n"
   ]
  },
  {
   "cell_type": "code",
   "execution_count": 55,
   "metadata": {
    "collapsed": true
   },
   "outputs": [],
   "source": [
    "final_over_balanced.to_pickle('final_over_balanced_decimals')"
   ]
  },
  {
   "cell_type": "code",
   "execution_count": null,
   "metadata": {
    "collapsed": true
   },
   "outputs": [],
   "source": []
  }
 ],
 "metadata": {
  "kernelspec": {
   "display_name": "Python 3",
   "language": "python",
   "name": "python3"
  },
  "language_info": {
   "codemirror_mode": {
    "name": "ipython",
    "version": 3
   },
   "file_extension": ".py",
   "mimetype": "text/x-python",
   "name": "python",
   "nbconvert_exporter": "python",
   "pygments_lexer": "ipython3",
   "version": "3.5.2"
  }
 },
 "nbformat": 4,
 "nbformat_minor": 2
}
