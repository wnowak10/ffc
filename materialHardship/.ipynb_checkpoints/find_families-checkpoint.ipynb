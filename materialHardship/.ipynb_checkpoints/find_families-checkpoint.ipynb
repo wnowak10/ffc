{
 "cells": [
  {
   "cell_type": "markdown",
   "metadata": {},
   "source": [
    "# Intro\n",
    "\n",
    "As the title indicates, this ipynb aims to import dataframes (features plus labels) and then develop functions / clases to process data, fit models, and make predictions!"
   ]
  },
  {
   "cell_type": "markdown",
   "metadata": {
    "collapsed": true
   },
   "source": [
    "# Import data (just for materialHardship)"
   ]
  },
  {
   "cell_type": "code",
   "execution_count": 30,
   "metadata": {
    "collapsed": false
   },
   "outputs": [],
   "source": [
    "import numpy as np\n",
    "import pandas as pd\n",
    "import xgboost as xgb\n",
    "from sklearn.model_selection import train_test_split\n",
    "from sklearn.metrics import mean_squared_error\n",
    "import matplotlib.pyplot as plt\n",
    "\n",
    "import sys\n",
    "import math\n",
    "# from sklearn.grid_search import GridSearchCV"
   ]
  },
  {
   "cell_type": "code",
   "execution_count": 10,
   "metadata": {
    "collapsed": true
   },
   "outputs": [],
   "source": [
    "df_train = pd.read_pickle('df_train')\n"
   ]
  },
  {
   "cell_type": "code",
   "execution_count": 2,
   "metadata": {
    "collapsed": false
   },
   "outputs": [],
   "source": [
    "mean_impute_df_train_with_labels = pd.read_pickle('mean_impute_df_train_with_labels')\n",
    "median_impute_df_train_with_labels  = pd.read_pickle('median_impute_df_train_with_labels')"
   ]
  },
  {
   "cell_type": "code",
   "execution_count": 3,
   "metadata": {
    "collapsed": false
   },
   "outputs": [],
   "source": [
    "final_over_balanced =  pd.read_pickle('final_over_balanced_decimals')"
   ]
  },
  {
   "cell_type": "code",
   "execution_count": 4,
   "metadata": {
    "collapsed": true
   },
   "outputs": [],
   "source": [
    "df_prediction =  pd.read_pickle('df_prediction')"
   ]
  },
  {
   "cell_type": "markdown",
   "metadata": {},
   "source": [
    "Read files from pickles...we are reading full dataframes, with columns of features attached to label columns. Function below is used to split features from class labels and make models and predictions."
   ]
  },
  {
   "cell_type": "code",
   "execution_count": 8,
   "metadata": {
    "collapsed": false
   },
   "outputs": [
    {
     "data": {
      "text/html": [
       "<div>\n",
       "<table border=\"1\" class=\"dataframe\">\n",
       "  <thead>\n",
       "    <tr style=\"text-align: right;\">\n",
       "      <th></th>\n",
       "      <th>challengeID</th>\n",
       "      <th>m1intmon</th>\n",
       "      <th>m1lenhr</th>\n",
       "      <th>m1lenmin</th>\n",
       "      <th>cm1fint</th>\n",
       "      <th>cm1citsm</th>\n",
       "      <th>m1citywt</th>\n",
       "      <th>innatsm</th>\n",
       "      <th>incitysm</th>\n",
       "      <th>m1a3</th>\n",
       "      <th>...</th>\n",
       "      <th>m4e23</th>\n",
       "      <th>f4d6</th>\n",
       "      <th>f4d7</th>\n",
       "      <th>f4d9</th>\n",
       "      <th>m5c6</th>\n",
       "      <th>m5d20</th>\n",
       "      <th>m5k10</th>\n",
       "      <th>f5c6</th>\n",
       "      <th>k5f1</th>\n",
       "      <th>materialHardship</th>\n",
       "    </tr>\n",
       "  </thead>\n",
       "  <tbody>\n",
       "    <tr>\n",
       "      <th>0</th>\n",
       "      <td>6.0</td>\n",
       "      <td>-3.0</td>\n",
       "      <td>0.0</td>\n",
       "      <td>25.0</td>\n",
       "      <td>1.0</td>\n",
       "      <td>1.0</td>\n",
       "      <td>10.593024</td>\n",
       "      <td>1.0</td>\n",
       "      <td>1.0</td>\n",
       "      <td>1.0</td>\n",
       "      <td>...</td>\n",
       "      <td>10.558813</td>\n",
       "      <td>-3.000000</td>\n",
       "      <td>-3.000000</td>\n",
       "      <td>7.022328</td>\n",
       "      <td>-3.000000</td>\n",
       "      <td>10.564085</td>\n",
       "      <td>-3.0</td>\n",
       "      <td>-3.000000</td>\n",
       "      <td>10.255825</td>\n",
       "      <td>1</td>\n",
       "    </tr>\n",
       "    <tr>\n",
       "      <th>1</th>\n",
       "      <td>7.0</td>\n",
       "      <td>-3.0</td>\n",
       "      <td>0.0</td>\n",
       "      <td>35.0</td>\n",
       "      <td>1.0</td>\n",
       "      <td>1.0</td>\n",
       "      <td>531.335144</td>\n",
       "      <td>1.0</td>\n",
       "      <td>1.0</td>\n",
       "      <td>1.0</td>\n",
       "      <td>...</td>\n",
       "      <td>-3.000000</td>\n",
       "      <td>9.660643</td>\n",
       "      <td>9.861125</td>\n",
       "      <td>-3.000000</td>\n",
       "      <td>10.991854</td>\n",
       "      <td>-3.000000</td>\n",
       "      <td>-3.0</td>\n",
       "      <td>10.972726</td>\n",
       "      <td>10.859800</td>\n",
       "      <td>0</td>\n",
       "    </tr>\n",
       "    <tr>\n",
       "      <th>2</th>\n",
       "      <td>9.0</td>\n",
       "      <td>-3.0</td>\n",
       "      <td>0.0</td>\n",
       "      <td>30.0</td>\n",
       "      <td>1.0</td>\n",
       "      <td>1.0</td>\n",
       "      <td>90.466721</td>\n",
       "      <td>0.0</td>\n",
       "      <td>1.0</td>\n",
       "      <td>1.0</td>\n",
       "      <td>...</td>\n",
       "      <td>-3.000000</td>\n",
       "      <td>11.689877</td>\n",
       "      <td>9.373199</td>\n",
       "      <td>-3.000000</td>\n",
       "      <td>8.194868</td>\n",
       "      <td>-3.000000</td>\n",
       "      <td>-3.0</td>\n",
       "      <td>9.842380</td>\n",
       "      <td>9.566678</td>\n",
       "      <td>2</td>\n",
       "    </tr>\n",
       "    <tr>\n",
       "      <th>3</th>\n",
       "      <td>10.0</td>\n",
       "      <td>-3.0</td>\n",
       "      <td>0.0</td>\n",
       "      <td>33.0</td>\n",
       "      <td>1.0</td>\n",
       "      <td>1.0</td>\n",
       "      <td>6.155746</td>\n",
       "      <td>1.0</td>\n",
       "      <td>1.0</td>\n",
       "      <td>1.0</td>\n",
       "      <td>...</td>\n",
       "      <td>-3.000000</td>\n",
       "      <td>-3.000000</td>\n",
       "      <td>-3.000000</td>\n",
       "      <td>-3.000000</td>\n",
       "      <td>-3.000000</td>\n",
       "      <td>10.564085</td>\n",
       "      <td>-3.0</td>\n",
       "      <td>-3.000000</td>\n",
       "      <td>10.105870</td>\n",
       "      <td>1</td>\n",
       "    </tr>\n",
       "    <tr>\n",
       "      <th>4</th>\n",
       "      <td>13.0</td>\n",
       "      <td>-3.0</td>\n",
       "      <td>1.0</td>\n",
       "      <td>-3.0</td>\n",
       "      <td>1.0</td>\n",
       "      <td>1.0</td>\n",
       "      <td>5.496325</td>\n",
       "      <td>0.0</td>\n",
       "      <td>1.0</td>\n",
       "      <td>1.0</td>\n",
       "      <td>...</td>\n",
       "      <td>-3.000000</td>\n",
       "      <td>-3.000000</td>\n",
       "      <td>-3.000000</td>\n",
       "      <td>8.944119</td>\n",
       "      <td>-3.000000</td>\n",
       "      <td>9.781718</td>\n",
       "      <td>-3.0</td>\n",
       "      <td>-3.000000</td>\n",
       "      <td>9.566678</td>\n",
       "      <td>2</td>\n",
       "    </tr>\n",
       "  </tbody>\n",
       "</table>\n",
       "<p>5 rows × 11985 columns</p>\n",
       "</div>"
      ],
      "text/plain": [
       "   challengeID  m1intmon  m1lenhr  m1lenmin  cm1fint  cm1citsm    m1citywt  \\\n",
       "0          6.0      -3.0      0.0      25.0      1.0       1.0   10.593024   \n",
       "1          7.0      -3.0      0.0      35.0      1.0       1.0  531.335144   \n",
       "2          9.0      -3.0      0.0      30.0      1.0       1.0   90.466721   \n",
       "3         10.0      -3.0      0.0      33.0      1.0       1.0    6.155746   \n",
       "4         13.0      -3.0      1.0      -3.0      1.0       1.0    5.496325   \n",
       "\n",
       "   innatsm  incitysm  m1a3        ...             m4e23       f4d6      f4d7  \\\n",
       "0      1.0       1.0   1.0        ...         10.558813  -3.000000 -3.000000   \n",
       "1      1.0       1.0   1.0        ...         -3.000000   9.660643  9.861125   \n",
       "2      0.0       1.0   1.0        ...         -3.000000  11.689877  9.373199   \n",
       "3      1.0       1.0   1.0        ...         -3.000000  -3.000000 -3.000000   \n",
       "4      0.0       1.0   1.0        ...         -3.000000  -3.000000 -3.000000   \n",
       "\n",
       "       f4d9       m5c6      m5d20  m5k10       f5c6       k5f1  \\\n",
       "0  7.022328  -3.000000  10.564085   -3.0  -3.000000  10.255825   \n",
       "1 -3.000000  10.991854  -3.000000   -3.0  10.972726  10.859800   \n",
       "2 -3.000000   8.194868  -3.000000   -3.0   9.842380   9.566678   \n",
       "3 -3.000000  -3.000000  10.564085   -3.0  -3.000000  10.105870   \n",
       "4  8.944119  -3.000000   9.781718   -3.0  -3.000000   9.566678   \n",
       "\n",
       "   materialHardship  \n",
       "0                 1  \n",
       "1                 0  \n",
       "2                 2  \n",
       "3                 1  \n",
       "4                 2  \n",
       "\n",
       "[5 rows x 11985 columns]"
      ]
     },
     "execution_count": 8,
     "metadata": {},
     "output_type": "execute_result"
    }
   ],
   "source": [
    "median_impute_df_train_with_labels.head()"
   ]
  },
  {
   "cell_type": "code",
   "execution_count": 11,
   "metadata": {
    "collapsed": false
   },
   "outputs": [
    {
     "data": {
      "text/html": [
       "<div>\n",
       "<table border=\"1\" class=\"dataframe\">\n",
       "  <thead>\n",
       "    <tr style=\"text-align: right;\">\n",
       "      <th></th>\n",
       "      <th>challengeID</th>\n",
       "      <th>m1intmon</th>\n",
       "      <th>m1intyr</th>\n",
       "      <th>m1lenhr</th>\n",
       "      <th>m1lenmin</th>\n",
       "      <th>cm1twoc</th>\n",
       "      <th>cm1fint</th>\n",
       "      <th>cm1tdiff</th>\n",
       "      <th>cm1natsm</th>\n",
       "      <th>m1natwt</th>\n",
       "      <th>...</th>\n",
       "      <th>m4d9</th>\n",
       "      <th>m4e23</th>\n",
       "      <th>f4d6</th>\n",
       "      <th>f4d7</th>\n",
       "      <th>f4d9</th>\n",
       "      <th>m5c6</th>\n",
       "      <th>m5d20</th>\n",
       "      <th>m5k10</th>\n",
       "      <th>f5c6</th>\n",
       "      <th>k5f1</th>\n",
       "    </tr>\n",
       "  </thead>\n",
       "  <tbody>\n",
       "    <tr>\n",
       "      <th>5</th>\n",
       "      <td>6</td>\n",
       "      <td>-3</td>\n",
       "      <td>NaN</td>\n",
       "      <td>0</td>\n",
       "      <td>25</td>\n",
       "      <td>NaN</td>\n",
       "      <td>1</td>\n",
       "      <td>NaN</td>\n",
       "      <td>NaN</td>\n",
       "      <td>NaN</td>\n",
       "      <td>...</td>\n",
       "      <td>8.51570</td>\n",
       "      <td>10.558813</td>\n",
       "      <td>-3.000000</td>\n",
       "      <td>-3.000000</td>\n",
       "      <td>7.022328</td>\n",
       "      <td>-3.000000</td>\n",
       "      <td>10.564085</td>\n",
       "      <td>-3</td>\n",
       "      <td>-3.000000</td>\n",
       "      <td>10.255825</td>\n",
       "    </tr>\n",
       "    <tr>\n",
       "      <th>6</th>\n",
       "      <td>7</td>\n",
       "      <td>-3</td>\n",
       "      <td>NaN</td>\n",
       "      <td>0</td>\n",
       "      <td>35</td>\n",
       "      <td>NaN</td>\n",
       "      <td>1</td>\n",
       "      <td>NaN</td>\n",
       "      <td>NaN</td>\n",
       "      <td>NaN</td>\n",
       "      <td>...</td>\n",
       "      <td>-3.00000</td>\n",
       "      <td>-3.000000</td>\n",
       "      <td>9.660643</td>\n",
       "      <td>9.861125</td>\n",
       "      <td>-3.000000</td>\n",
       "      <td>10.991854</td>\n",
       "      <td>-3.000000</td>\n",
       "      <td>-3</td>\n",
       "      <td>10.972726</td>\n",
       "      <td>10.859800</td>\n",
       "    </tr>\n",
       "    <tr>\n",
       "      <th>8</th>\n",
       "      <td>9</td>\n",
       "      <td>-3</td>\n",
       "      <td>NaN</td>\n",
       "      <td>0</td>\n",
       "      <td>30</td>\n",
       "      <td>NaN</td>\n",
       "      <td>1</td>\n",
       "      <td>NaN</td>\n",
       "      <td>NaN</td>\n",
       "      <td>NaN</td>\n",
       "      <td>...</td>\n",
       "      <td>-3.00000</td>\n",
       "      <td>-3.000000</td>\n",
       "      <td>11.689877</td>\n",
       "      <td>9.373199</td>\n",
       "      <td>-3.000000</td>\n",
       "      <td>8.194868</td>\n",
       "      <td>-3.000000</td>\n",
       "      <td>-3</td>\n",
       "      <td>9.842380</td>\n",
       "      <td>9.566678</td>\n",
       "    </tr>\n",
       "    <tr>\n",
       "      <th>9</th>\n",
       "      <td>10</td>\n",
       "      <td>-3</td>\n",
       "      <td>NaN</td>\n",
       "      <td>0</td>\n",
       "      <td>33</td>\n",
       "      <td>NaN</td>\n",
       "      <td>1</td>\n",
       "      <td>NaN</td>\n",
       "      <td>NaN</td>\n",
       "      <td>NaN</td>\n",
       "      <td>...</td>\n",
       "      <td>-3.00000</td>\n",
       "      <td>-3.000000</td>\n",
       "      <td>-3.000000</td>\n",
       "      <td>-3.000000</td>\n",
       "      <td>-3.000000</td>\n",
       "      <td>-3.000000</td>\n",
       "      <td>10.564085</td>\n",
       "      <td>-3</td>\n",
       "      <td>-3.000000</td>\n",
       "      <td>10.105870</td>\n",
       "    </tr>\n",
       "    <tr>\n",
       "      <th>12</th>\n",
       "      <td>13</td>\n",
       "      <td>-3</td>\n",
       "      <td>NaN</td>\n",
       "      <td>1</td>\n",
       "      <td>-3</td>\n",
       "      <td>NaN</td>\n",
       "      <td>1</td>\n",
       "      <td>NaN</td>\n",
       "      <td>NaN</td>\n",
       "      <td>NaN</td>\n",
       "      <td>...</td>\n",
       "      <td>10.78074</td>\n",
       "      <td>-3.000000</td>\n",
       "      <td>-3.000000</td>\n",
       "      <td>-3.000000</td>\n",
       "      <td>8.944119</td>\n",
       "      <td>-3.000000</td>\n",
       "      <td>9.781718</td>\n",
       "      <td>-3</td>\n",
       "      <td>-3.000000</td>\n",
       "      <td>9.566678</td>\n",
       "    </tr>\n",
       "  </tbody>\n",
       "</table>\n",
       "<p>5 rows × 12943 columns</p>\n",
       "</div>"
      ],
      "text/plain": [
       "    challengeID  m1intmon  m1intyr  m1lenhr  m1lenmin  cm1twoc  cm1fint  \\\n",
       "5             6        -3      NaN        0        25      NaN        1   \n",
       "6             7        -3      NaN        0        35      NaN        1   \n",
       "8             9        -3      NaN        0        30      NaN        1   \n",
       "9            10        -3      NaN        0        33      NaN        1   \n",
       "12           13        -3      NaN        1        -3      NaN        1   \n",
       "\n",
       "    cm1tdiff  cm1natsm  m1natwt    ...          m4d9      m4e23       f4d6  \\\n",
       "5        NaN       NaN      NaN    ...       8.51570  10.558813  -3.000000   \n",
       "6        NaN       NaN      NaN    ...      -3.00000  -3.000000   9.660643   \n",
       "8        NaN       NaN      NaN    ...      -3.00000  -3.000000  11.689877   \n",
       "9        NaN       NaN      NaN    ...      -3.00000  -3.000000  -3.000000   \n",
       "12       NaN       NaN      NaN    ...      10.78074  -3.000000  -3.000000   \n",
       "\n",
       "        f4d7      f4d9       m5c6      m5d20  m5k10       f5c6       k5f1  \n",
       "5  -3.000000  7.022328  -3.000000  10.564085     -3  -3.000000  10.255825  \n",
       "6   9.861125 -3.000000  10.991854  -3.000000     -3  10.972726  10.859800  \n",
       "8   9.373199 -3.000000   8.194868  -3.000000     -3   9.842380   9.566678  \n",
       "9  -3.000000 -3.000000  -3.000000  10.564085     -3  -3.000000  10.105870  \n",
       "12 -3.000000  8.944119  -3.000000   9.781718     -3  -3.000000   9.566678  \n",
       "\n",
       "[5 rows x 12943 columns]"
      ]
     },
     "execution_count": 11,
     "metadata": {},
     "output_type": "execute_result"
    }
   ],
   "source": [
    "df_train.head()"
   ]
  },
  {
   "cell_type": "code",
   "execution_count": 13,
   "metadata": {
    "collapsed": false
   },
   "outputs": [
    {
     "data": {
      "text/plain": [
       "12943"
      ]
     },
     "execution_count": 13,
     "metadata": {},
     "output_type": "execute_result"
    }
   ],
   "source": [
    "# df['color'] = np.where(df['Set']=='Z', 'green', 'red')\n",
    "len(df_train.columns.values)"
   ]
  },
  {
   "cell_type": "code",
   "execution_count": 33,
   "metadata": {
    "collapsed": false
   },
   "outputs": [
    {
     "data": {
      "text/html": [
       "<div>\n",
       "<table border=\"1\" class=\"dataframe\">\n",
       "  <thead>\n",
       "    <tr style=\"text-align: right;\">\n",
       "      <th></th>\n",
       "      <th>challengeID</th>\n",
       "      <th>m1intmon</th>\n",
       "      <th>m1intyr</th>\n",
       "      <th>m1lenhr</th>\n",
       "      <th>m1lenmin</th>\n",
       "      <th>cm1twoc</th>\n",
       "      <th>cm1fint</th>\n",
       "      <th>cm1tdiff</th>\n",
       "      <th>cm1natsm</th>\n",
       "      <th>m1natwt</th>\n",
       "      <th>...</th>\n",
       "      <th>m4d9</th>\n",
       "      <th>m4e23</th>\n",
       "      <th>f4d6</th>\n",
       "      <th>f4d7</th>\n",
       "      <th>f4d9</th>\n",
       "      <th>m5c6</th>\n",
       "      <th>m5d20</th>\n",
       "      <th>m5k10</th>\n",
       "      <th>f5c6</th>\n",
       "      <th>k5f1</th>\n",
       "    </tr>\n",
       "  </thead>\n",
       "  <tbody>\n",
       "    <tr>\n",
       "      <th>5</th>\n",
       "      <td>6</td>\n",
       "      <td>-3</td>\n",
       "      <td>NaN</td>\n",
       "      <td>0</td>\n",
       "      <td>25</td>\n",
       "      <td>NaN</td>\n",
       "      <td>1</td>\n",
       "      <td>NaN</td>\n",
       "      <td>NaN</td>\n",
       "      <td>NaN</td>\n",
       "      <td>...</td>\n",
       "      <td>8.51570</td>\n",
       "      <td>10.558813</td>\n",
       "      <td>-3.000000</td>\n",
       "      <td>-3.000000</td>\n",
       "      <td>7.022328</td>\n",
       "      <td>-3.000000</td>\n",
       "      <td>10.564085</td>\n",
       "      <td>-3</td>\n",
       "      <td>-3.000000</td>\n",
       "      <td>10.255825</td>\n",
       "    </tr>\n",
       "    <tr>\n",
       "      <th>6</th>\n",
       "      <td>7</td>\n",
       "      <td>-3</td>\n",
       "      <td>NaN</td>\n",
       "      <td>0</td>\n",
       "      <td>35</td>\n",
       "      <td>NaN</td>\n",
       "      <td>1</td>\n",
       "      <td>NaN</td>\n",
       "      <td>NaN</td>\n",
       "      <td>NaN</td>\n",
       "      <td>...</td>\n",
       "      <td>-3.00000</td>\n",
       "      <td>-3.000000</td>\n",
       "      <td>9.660643</td>\n",
       "      <td>9.861125</td>\n",
       "      <td>-3.000000</td>\n",
       "      <td>10.991854</td>\n",
       "      <td>-3.000000</td>\n",
       "      <td>-3</td>\n",
       "      <td>10.972726</td>\n",
       "      <td>10.859800</td>\n",
       "    </tr>\n",
       "    <tr>\n",
       "      <th>8</th>\n",
       "      <td>9</td>\n",
       "      <td>-3</td>\n",
       "      <td>NaN</td>\n",
       "      <td>0</td>\n",
       "      <td>30</td>\n",
       "      <td>NaN</td>\n",
       "      <td>1</td>\n",
       "      <td>NaN</td>\n",
       "      <td>NaN</td>\n",
       "      <td>NaN</td>\n",
       "      <td>...</td>\n",
       "      <td>-3.00000</td>\n",
       "      <td>-3.000000</td>\n",
       "      <td>11.689877</td>\n",
       "      <td>9.373199</td>\n",
       "      <td>-3.000000</td>\n",
       "      <td>8.194868</td>\n",
       "      <td>-3.000000</td>\n",
       "      <td>-3</td>\n",
       "      <td>9.842380</td>\n",
       "      <td>9.566678</td>\n",
       "    </tr>\n",
       "    <tr>\n",
       "      <th>9</th>\n",
       "      <td>10</td>\n",
       "      <td>-3</td>\n",
       "      <td>NaN</td>\n",
       "      <td>0</td>\n",
       "      <td>33</td>\n",
       "      <td>NaN</td>\n",
       "      <td>1</td>\n",
       "      <td>NaN</td>\n",
       "      <td>NaN</td>\n",
       "      <td>NaN</td>\n",
       "      <td>...</td>\n",
       "      <td>-3.00000</td>\n",
       "      <td>-3.000000</td>\n",
       "      <td>-3.000000</td>\n",
       "      <td>-3.000000</td>\n",
       "      <td>-3.000000</td>\n",
       "      <td>-3.000000</td>\n",
       "      <td>10.564085</td>\n",
       "      <td>-3</td>\n",
       "      <td>-3.000000</td>\n",
       "      <td>10.105870</td>\n",
       "    </tr>\n",
       "    <tr>\n",
       "      <th>12</th>\n",
       "      <td>13</td>\n",
       "      <td>-3</td>\n",
       "      <td>NaN</td>\n",
       "      <td>1</td>\n",
       "      <td>-3</td>\n",
       "      <td>NaN</td>\n",
       "      <td>1</td>\n",
       "      <td>NaN</td>\n",
       "      <td>NaN</td>\n",
       "      <td>NaN</td>\n",
       "      <td>...</td>\n",
       "      <td>10.78074</td>\n",
       "      <td>-3.000000</td>\n",
       "      <td>-3.000000</td>\n",
       "      <td>-3.000000</td>\n",
       "      <td>8.944119</td>\n",
       "      <td>-3.000000</td>\n",
       "      <td>9.781718</td>\n",
       "      <td>-3</td>\n",
       "      <td>-3.000000</td>\n",
       "      <td>9.566678</td>\n",
       "    </tr>\n",
       "  </tbody>\n",
       "</table>\n",
       "<p>5 rows × 12943 columns</p>\n",
       "</div>"
      ],
      "text/plain": [
       "    challengeID  m1intmon  m1intyr  m1lenhr  m1lenmin  cm1twoc  cm1fint  \\\n",
       "5             6        -3      NaN        0        25      NaN        1   \n",
       "6             7        -3      NaN        0        35      NaN        1   \n",
       "8             9        -3      NaN        0        30      NaN        1   \n",
       "9            10        -3      NaN        0        33      NaN        1   \n",
       "12           13        -3      NaN        1        -3      NaN        1   \n",
       "\n",
       "    cm1tdiff  cm1natsm  m1natwt    ...          m4d9      m4e23       f4d6  \\\n",
       "5        NaN       NaN      NaN    ...       8.51570  10.558813  -3.000000   \n",
       "6        NaN       NaN      NaN    ...      -3.00000  -3.000000   9.660643   \n",
       "8        NaN       NaN      NaN    ...      -3.00000  -3.000000  11.689877   \n",
       "9        NaN       NaN      NaN    ...      -3.00000  -3.000000  -3.000000   \n",
       "12       NaN       NaN      NaN    ...      10.78074  -3.000000  -3.000000   \n",
       "\n",
       "        f4d7      f4d9       m5c6      m5d20  m5k10       f5c6       k5f1  \n",
       "5  -3.000000  7.022328  -3.000000  10.564085     -3  -3.000000  10.255825  \n",
       "6   9.861125 -3.000000  10.991854  -3.000000     -3  10.972726  10.859800  \n",
       "8   9.373199 -3.000000   8.194868  -3.000000     -3   9.842380   9.566678  \n",
       "9  -3.000000 -3.000000  -3.000000  10.564085     -3  -3.000000  10.105870  \n",
       "12 -3.000000  8.944119  -3.000000   9.781718     -3  -3.000000   9.566678  \n",
       "\n",
       "[5 rows x 12943 columns]"
      ]
     },
     "execution_count": 33,
     "metadata": {},
     "output_type": "execute_result"
    }
   ],
   "source": [
    "df_train.head()"
   ]
  },
  {
   "cell_type": "code",
   "execution_count": 32,
   "metadata": {
    "collapsed": false
   },
   "outputs": [],
   "source": [
    "# # d['new'] = d.ix[3:].apply(lambda x: )\n",
    "# def is_not_there(row):\n",
    "#     if row.isnull():\n",
    "#         return 1\n",
    "#     else:\n",
    "#         return 0\n",
    "# d['m1intyr'].apply(lambda x: my_func(x) if(np.all(pd.notnull(x[1]))) else x, axis = 1)\n",
    "\n",
    "# # d['m1intyr'].apply(lambda x: is_not_there(x),axis=1)"
   ]
  },
  {
   "cell_type": "code",
   "execution_count": 44,
   "metadata": {
    "collapsed": false
   },
   "outputs": [
    {
     "name": "stderr",
     "output_type": "stream",
     "text": [
      "/anaconda/envs/py35/lib/python3.5/site-packages/sklearn/cluster/k_means_.py:1381: RuntimeWarning: init_size=300 should be larger than k=1000. Setting it to 3*k\n",
      "  init_size=init_size)\n"
     ]
    },
    {
     "data": {
      "text/plain": [
       "MiniBatchKMeans(batch_size=100, compute_labels=True, init='k-means++',\n",
       "        init_size=None, max_iter=100, max_no_improvement=10,\n",
       "        n_clusters=1000, n_init=10, random_state=0,\n",
       "        reassignment_ratio=0.01, tol=0.0, verbose=0)"
      ]
     },
     "execution_count": 44,
     "metadata": {},
     "output_type": "execute_result"
    }
   ],
   "source": [
    "from sklearn.cluster import Birch, MiniBatchKMeans\n",
    "mbk = MiniBatchKMeans(init='k-means++', n_clusters=1000, batch_size=100,\n",
    "                      n_init=10, max_no_improvement=10, verbose=0,\n",
    "                      random_state=0)\n",
    "mbk.fit(median_impute_df_train_with_labels) # took ~10 mins to run"
   ]
  },
  {
   "cell_type": "code",
   "execution_count": 45,
   "metadata": {
    "collapsed": true
   },
   "outputs": [],
   "source": [
    "mbk_means_labels_unique = np.unique(mbk.labels_)"
   ]
  },
  {
   "cell_type": "code",
   "execution_count": 46,
   "metadata": {
    "collapsed": false
   },
   "outputs": [
    {
     "data": {
      "text/plain": [
       "array([  0,   1,   2,   3,   4,   5,   6,   7,   8,   9,  10,  11,  12,\n",
       "        13,  14,  15,  16,  17,  18,  19,  20,  21,  22,  23,  24,  25,\n",
       "        26,  27,  28,  29,  30,  31,  32,  33,  34,  35,  36,  37,  38,\n",
       "        39,  40,  41,  42,  43,  44,  45,  46,  47,  48,  49,  50,  51,\n",
       "        52,  53,  54,  55,  56,  57,  58,  59,  60,  61,  62,  63,  64,\n",
       "        65,  66,  67,  68,  69,  70,  71,  72,  73,  74,  75,  76,  77,\n",
       "        78,  79,  80,  81,  82,  83,  84,  85,  86,  87,  88,  89,  90,\n",
       "        91,  92,  93,  94,  95,  96,  97,  98,  99, 100, 101, 102, 103,\n",
       "       104, 105, 106, 107, 108, 109, 110, 111, 112, 113, 114, 115, 116,\n",
       "       117, 118, 119, 120, 121, 122, 123, 124, 125, 126, 127, 128, 129,\n",
       "       130, 131, 132, 133, 134, 135, 136, 137, 138, 139, 140, 141, 142,\n",
       "       143, 144, 145, 146, 147, 148, 149, 150, 151, 152, 153, 154, 155,\n",
       "       156, 157, 158, 159, 160, 161, 162, 163, 164, 165, 166, 167, 169,\n",
       "       170, 171, 172, 173, 174, 175, 176, 177, 178, 179, 180, 181, 182,\n",
       "       183, 184, 185, 186, 187, 188, 189, 190, 191, 192, 193, 194, 195,\n",
       "       196, 197, 198, 199, 200, 201, 202, 203, 204, 205, 206, 207, 208,\n",
       "       209, 210, 211, 212, 213, 214, 215, 216, 217, 218, 220, 221, 222,\n",
       "       223, 224, 225, 226, 227, 228, 229, 230, 231, 232, 233, 234, 235,\n",
       "       236, 237, 238, 239, 240, 241, 242, 243, 244, 245, 246, 247, 248,\n",
       "       249, 250, 251, 252, 253, 255, 256, 257, 258, 259, 260, 261, 262,\n",
       "       263, 264, 265, 266, 267, 268, 269, 270, 271, 272, 273, 274, 275,\n",
       "       276, 277, 278, 279, 280, 281, 282, 283, 284, 285, 286, 287, 288,\n",
       "       289, 290, 291, 292, 293, 294, 295, 296, 297, 298, 299, 300, 301,\n",
       "       302, 303, 304, 305, 306, 307, 308, 309, 310, 311, 312, 313, 314,\n",
       "       315, 316, 317, 318, 319, 320, 321, 322, 323, 324, 325, 326, 327,\n",
       "       328, 329, 330, 331, 332, 333, 334, 335, 336, 337, 338, 339, 340,\n",
       "       341, 342, 343, 344, 345, 346, 347, 348, 349, 350, 351, 352, 353,\n",
       "       354, 355, 356, 357, 358, 359, 360, 361, 362, 363, 364, 365, 366,\n",
       "       367, 368, 369, 370, 371, 372, 373, 374, 375, 376, 377, 378, 379,\n",
       "       380, 381, 382, 383, 384, 385, 386, 387, 388, 389, 390, 391, 392,\n",
       "       393, 394, 395, 396, 397, 398, 399, 400, 401, 402, 403, 404, 405,\n",
       "       406, 407, 408, 409, 410, 411, 412, 413, 414, 415, 416, 417, 418,\n",
       "       419, 420, 421, 422, 423, 424, 425, 426, 427, 428, 429, 430, 431,\n",
       "       433, 434, 435, 436, 437, 438, 439, 440, 441, 442, 443, 444, 445,\n",
       "       446, 447, 448, 449, 450, 451, 452, 453, 454, 455, 456, 457, 458,\n",
       "       459, 460, 461, 462, 463, 464, 465, 466, 467, 468, 469, 470, 471,\n",
       "       472, 473, 474, 475, 476, 477, 478, 479, 480, 481, 482, 483, 484,\n",
       "       485, 486, 487, 488, 489, 490, 491, 492, 493, 494, 495, 496, 498,\n",
       "       500, 501, 502, 503, 504, 505, 506, 507, 508, 509, 511, 512, 513,\n",
       "       514, 515, 516, 517, 518, 519, 520, 521, 522, 523, 524, 525, 526,\n",
       "       527, 528, 529, 530, 531, 532, 533, 534, 535, 536, 537, 538, 539,\n",
       "       540, 541, 542, 543, 544, 545, 546, 547, 548, 549, 550, 551, 552,\n",
       "       553, 554, 555, 556, 557, 558, 559, 560, 561, 563, 564, 565, 566,\n",
       "       567, 568, 569, 570, 571, 572, 573, 574, 576, 577, 578, 579, 580,\n",
       "       581, 582, 583, 584, 586, 588, 589, 590, 591, 592, 593, 594, 595,\n",
       "       596, 597, 599, 600, 601, 602, 603, 604, 605, 606, 607, 608, 609,\n",
       "       610, 611, 612, 613, 614, 615, 616, 617, 618, 619, 620, 621, 622,\n",
       "       623, 624, 625, 626, 627, 628, 629, 630, 631, 632, 633, 634, 635,\n",
       "       636, 637, 638, 639, 640, 641, 642, 643, 644, 645, 646, 647, 648,\n",
       "       649, 650, 651, 652, 653, 654, 655, 656, 657, 658, 659, 660, 661,\n",
       "       662, 663, 664, 665, 666, 667, 668, 669, 670, 671, 672, 673, 674,\n",
       "       675, 676, 677, 678, 679, 680, 681, 682, 683, 684, 685, 686, 687,\n",
       "       688, 689, 690, 691, 692, 693, 694, 695, 696, 697, 698, 699, 700,\n",
       "       701, 702, 703, 704, 705, 706, 707, 708, 709, 710, 711, 712, 713,\n",
       "       714, 715, 716, 717, 718, 719, 720, 721, 722, 723, 724, 725, 726,\n",
       "       727, 728, 729, 730, 731, 732, 733, 734, 735, 736, 737, 738, 739,\n",
       "       740, 741, 742, 743, 744, 745, 746, 747, 748, 749, 750, 751, 752,\n",
       "       753, 754, 755, 756, 757, 758, 759, 760, 761, 762, 763, 765, 766,\n",
       "       768, 770, 771, 772, 773, 774, 776, 777, 778, 779, 780, 781, 782,\n",
       "       783, 784, 786, 787, 788, 789, 790, 791, 792, 793, 794, 795, 796,\n",
       "       797, 798, 800, 803, 804, 806, 807, 808, 809, 810, 811, 812, 813,\n",
       "       814, 815, 816, 817, 818, 819, 820, 821, 822, 824, 825, 826, 828,\n",
       "       829, 830, 831, 832, 833, 834, 835, 836, 837, 838, 839, 840, 842,\n",
       "       843, 844, 845, 846, 847, 848, 849, 850, 851, 853, 854, 855, 856,\n",
       "       857, 858, 859, 860, 861, 862, 863, 864, 865, 866, 867, 868, 869,\n",
       "       870, 871, 872, 873, 874, 875, 876, 877, 878, 879, 880, 881, 882,\n",
       "       883, 884, 885, 886, 887, 888, 889, 890, 891, 892, 893, 894, 895,\n",
       "       896, 897, 898, 899, 900, 901, 902, 903, 904, 905, 906, 907, 908,\n",
       "       909, 910, 911, 912, 913, 914, 915, 916, 917, 918, 919, 920, 921,\n",
       "       922, 923, 924, 925, 926, 927, 928, 929, 930, 931, 932, 933, 934,\n",
       "       935, 936, 937, 938, 939, 940, 941, 942, 943, 944, 945, 946, 947,\n",
       "       948, 949, 950, 951, 952, 953, 954, 955, 956, 957, 958, 959, 960,\n",
       "       961, 962, 963, 964, 965, 966, 967, 968, 969, 970, 971, 972, 973,\n",
       "       974, 975, 976, 977, 978, 979, 981, 982, 983, 984, 985, 986, 987,\n",
       "       988, 989, 990, 991, 992, 993, 994, 995, 996, 997, 998, 999], dtype=int32)"
      ]
     },
     "execution_count": 46,
     "metadata": {},
     "output_type": "execute_result"
    }
   ],
   "source": [
    "mbk_means_labels_unique #"
   ]
  },
  {
   "cell_type": "code",
   "execution_count": 40,
   "metadata": {
    "collapsed": false
   },
   "outputs": [
    {
     "data": {
      "text/plain": [
       "11985"
      ]
     },
     "execution_count": 40,
     "metadata": {},
     "output_type": "execute_result"
    }
   ],
   "source": [
    "len(mbk.cluster_centers_[0]) # what are centers..."
   ]
  },
  {
   "cell_type": "code",
   "execution_count": 50,
   "metadata": {
    "collapsed": false
   },
   "outputs": [],
   "source": [
    "# median_impute_df_train_with_labels.iloc[0]"
   ]
  },
  {
   "cell_type": "code",
   "execution_count": 47,
   "metadata": {
    "collapsed": false
   },
   "outputs": [
    {
     "data": {
      "text/plain": [
       "array([ 912.        ,   -3.        ,    0.        , ...,   10.9727256 ,\n",
       "         10.77270512,    0.        ])"
      ]
     },
     "execution_count": 47,
     "metadata": {},
     "output_type": "execute_result"
    }
   ],
   "source": [
    "mbk.cluster_centers_[0]"
   ]
  },
  {
   "cell_type": "code",
   "execution_count": 42,
   "metadata": {
    "collapsed": false
   },
   "outputs": [
    {
     "data": {
      "text/plain": [
       "(1459, 11985)"
      ]
     },
     "execution_count": 42,
     "metadata": {},
     "output_type": "execute_result"
    }
   ],
   "source": [
    "median_impute_df_train_with_labels.shape"
   ]
  },
  {
   "cell_type": "code",
   "execution_count": 51,
   "metadata": {
    "collapsed": false
   },
   "outputs": [
    {
     "name": "stderr",
     "output_type": "stream",
     "text": [
      "/anaconda/envs/py35/lib/python3.5/site-packages/sklearn/utils/validation.py:395: DeprecationWarning: Passing 1d arrays as data is deprecated in 0.17 and will raise ValueError in 0.19. Reshape your data either using X.reshape(-1, 1) if your data has a single feature or X.reshape(1, -1) if it contains a single sample.\n",
      "  DeprecationWarning)\n",
      "/anaconda/envs/py35/lib/python3.5/site-packages/sklearn/utils/validation.py:395: DeprecationWarning: Passing 1d arrays as data is deprecated in 0.17 and will raise ValueError in 0.19. Reshape your data either using X.reshape(-1, 1) if your data has a single feature or X.reshape(1, -1) if it contains a single sample.\n",
      "  DeprecationWarning)\n"
     ]
    },
    {
     "data": {
      "text/plain": [
       "array([[ 0.41548453]])"
      ]
     },
     "execution_count": 51,
     "metadata": {},
     "output_type": "execute_result"
    }
   ],
   "source": [
    "from sklearn.metrics.pairwise import cosine_similarity\n",
    "cosine_similarity(mbk.cluster_centers_[0],median_impute_df_train_with_labels.iloc[0])"
   ]
  },
  {
   "cell_type": "code",
   "execution_count": 55,
   "metadata": {
    "collapsed": false
   },
   "outputs": [
    {
     "data": {
      "text/plain": [
       "1459"
      ]
     },
     "execution_count": 55,
     "metadata": {},
     "output_type": "execute_result"
    }
   ],
   "source": [
    "len(mbk.labels_)"
   ]
  },
  {
   "cell_type": "code",
   "execution_count": 57,
   "metadata": {
    "collapsed": false
   },
   "outputs": [
    {
     "data": {
      "text/plain": [
       "array([686, 648, 849, ..., 509, 979, 203], dtype=int32)"
      ]
     },
     "execution_count": 57,
     "metadata": {},
     "output_type": "execute_result"
    }
   ],
   "source": [
    "mbk.labels_"
   ]
  },
  {
   "cell_type": "code",
   "execution_count": 59,
   "metadata": {
    "collapsed": false
   },
   "outputs": [],
   "source": [
    "median_impute_df_train_with_labels['family id?'] = mbk.labels_"
   ]
  },
  {
   "cell_type": "code",
   "execution_count": 60,
   "metadata": {
    "collapsed": false
   },
   "outputs": [
    {
     "data": {
      "text/plain": [
       "0       686\n",
       "1       648\n",
       "2       849\n",
       "3       469\n",
       "4       386\n",
       "5       207\n",
       "6       744\n",
       "7       502\n",
       "8       468\n",
       "9       813\n",
       "10      920\n",
       "11      260\n",
       "12      612\n",
       "13      865\n",
       "14      491\n",
       "15      336\n",
       "16      901\n",
       "17      155\n",
       "18      193\n",
       "19      579\n",
       "20      697\n",
       "21      943\n",
       "22      955\n",
       "23      117\n",
       "24      214\n",
       "25      348\n",
       "26      360\n",
       "27       84\n",
       "28      458\n",
       "29      554\n",
       "       ... \n",
       "1429    643\n",
       "1430    388\n",
       "1431    649\n",
       "1432    886\n",
       "1433    695\n",
       "1434     82\n",
       "1435    649\n",
       "1436    758\n",
       "1437    347\n",
       "1438    346\n",
       "1439    315\n",
       "1440    858\n",
       "1441    792\n",
       "1442    616\n",
       "1443    318\n",
       "1444    639\n",
       "1445    793\n",
       "1446    820\n",
       "1447    579\n",
       "1448    339\n",
       "1449    484\n",
       "1450    824\n",
       "1451    844\n",
       "1452    308\n",
       "1453    535\n",
       "1454    896\n",
       "1455    454\n",
       "1456    509\n",
       "1457    979\n",
       "1458    203\n",
       "Name: family id?, dtype: int32"
      ]
     },
     "execution_count": 60,
     "metadata": {},
     "output_type": "execute_result"
    }
   ],
   "source": [
    "median_impute_df_train_with_labels['family id?']"
   ]
  },
  {
   "cell_type": "code",
   "execution_count": null,
   "metadata": {
    "collapsed": true
   },
   "outputs": [],
   "source": []
  }
 ],
 "metadata": {
  "kernelspec": {
   "display_name": "Python 3",
   "language": "python",
   "name": "python3"
  },
  "language_info": {
   "codemirror_mode": {
    "name": "ipython",
    "version": 3
   },
   "file_extension": ".py",
   "mimetype": "text/x-python",
   "name": "python",
   "nbconvert_exporter": "python",
   "pygments_lexer": "ipython3",
   "version": "3.5.2"
  }
 },
 "nbformat": 4,
 "nbformat_minor": 2
}
