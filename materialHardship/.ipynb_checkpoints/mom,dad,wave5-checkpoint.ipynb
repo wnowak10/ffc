{
 "cells": [
  {
   "cell_type": "markdown",
   "metadata": {},
   "source": [
    "# Intro\n",
    "\n",
    "Steps:\n",
    "\n",
    "1. Make features for \n",
    "\n",
    "> validation dataframe\n",
    "\n",
    "> prediction data\n",
    "\n",
    "> training dataframe (which is SMOTE expanded and median imputed)"
   ]
  },
  {
   "cell_type": "code",
   "execution_count": 29,
   "metadata": {
    "collapsed": true
   },
   "outputs": [],
   "source": [
    "# how many rounds to train for?\n",
    "nrds = 30"
   ]
  },
  {
   "cell_type": "markdown",
   "metadata": {
    "collapsed": true
   },
   "source": [
    "# Import data (just for materialHardship)"
   ]
  },
  {
   "cell_type": "code",
   "execution_count": 2,
   "metadata": {
    "collapsed": false
   },
   "outputs": [],
   "source": [
    "import numpy as np\n",
    "import pandas as pd\n",
    "import xgboost as xgb\n",
    "from sklearn.model_selection import train_test_split\n",
    "from sklearn.metrics import mean_squared_error\n",
    "import matplotlib.pyplot as plt\n",
    "\n",
    "import sys\n",
    "import math\n",
    "# from sklearn.grid_search import GridSearchCV"
   ]
  },
  {
   "cell_type": "code",
   "execution_count": 3,
   "metadata": {
    "collapsed": false
   },
   "outputs": [],
   "source": [
    "df_train = pd.read_pickle('df_train')\n"
   ]
  },
  {
   "cell_type": "code",
   "execution_count": 4,
   "metadata": {
    "collapsed": false
   },
   "outputs": [],
   "source": [
    "mean_impute_df_train_with_labels = pd.read_pickle('mean_impute_df_train_with_labels')\n",
    "median_impute_df_train_with_labels  = pd.read_pickle('median_impute_df_train_with_labels')"
   ]
  },
  {
   "cell_type": "code",
   "execution_count": 5,
   "metadata": {
    "collapsed": false
   },
   "outputs": [
    {
     "data": {
      "text/plain": [
       "0    0.0909091\n",
       "1            0\n",
       "2     0.181818\n",
       "3    0.0909091\n",
       "4     0.181818\n",
       "Name: materialHardship, dtype: object"
      ]
     },
     "execution_count": 5,
     "metadata": {},
     "output_type": "execute_result"
    }
   ],
   "source": [
    "median_impute_df_train_with_labels['materialHardship'] = median_impute_df_train_with_labels['materialHardship']/11\n",
    "median_impute_df_train_with_labels['materialHardship'].head()"
   ]
  },
  {
   "cell_type": "code",
   "execution_count": 6,
   "metadata": {
    "collapsed": false
   },
   "outputs": [],
   "source": [
    "final_over_balanced =  pd.read_pickle('final_over_balanced_decimals')"
   ]
  },
  {
   "cell_type": "code",
   "execution_count": 7,
   "metadata": {
    "collapsed": false
   },
   "outputs": [
    {
     "data": {
      "text/plain": [
       "(6464, 11985)"
      ]
     },
     "execution_count": 7,
     "metadata": {},
     "output_type": "execute_result"
    }
   ],
   "source": [
    "final_over_balanced.shape"
   ]
  },
  {
   "cell_type": "code",
   "execution_count": 8,
   "metadata": {
    "collapsed": true
   },
   "outputs": [],
   "source": [
    "df_prediction =  pd.read_pickle('df_prediction')"
   ]
  },
  {
   "cell_type": "markdown",
   "metadata": {},
   "source": [
    "Read files from pickles...we are reading full dataframes, with columns of features attached to label columns. Function below is used to split features from class labels and make models and predictions."
   ]
  },
  {
   "cell_type": "markdown",
   "metadata": {},
   "source": [
    "NOW, start making features. They will be:\n",
    "\n",
    "1. Predicted MH (from xgb) for each role.\n",
    "2. Predicted MH at each wave. \n",
    "3. Family label."
   ]
  },
  {
   "cell_type": "markdown",
   "metadata": {},
   "source": [
    "# Predicted MH for each relation"
   ]
  },
  {
   "cell_type": "markdown",
   "metadata": {},
   "source": [
    "## MOM\n",
    "Let's subset our data and just look at columns which were questions responded to by mom."
   ]
  },
  {
   "cell_type": "code",
   "execution_count": 9,
   "metadata": {
    "collapsed": false
   },
   "outputs": [],
   "source": [
    "# final_over_balanced.columns.values\n",
    "train_mom = final_over_balanced.filter(regex=(\"^m\"))\n",
    "valid_mom = median_impute_df_train_with_labels.filter(regex=(\"^m\"))\n",
    "pred_mom =  df_prediction.filter(regex=(\"^m\"))"
   ]
  },
  {
   "cell_type": "markdown",
   "metadata": {},
   "source": [
    "Cool! This worked. Now the workflow is as follows. Use XGBoost to train a model on train_mom using valid_mom as validation...then make prediction on pred_mom. Store this as pred_mom_prediction dataframe, which stores prediction and challengeID. "
   ]
  },
  {
   "cell_type": "code",
   "execution_count": 10,
   "metadata": {
    "collapsed": true
   },
   "outputs": [],
   "source": [
    "# split data into features and labels\n",
    "def split_data(df, label='materialHardship'):\n",
    "    copy = df.copy() # copy df so i dont alter original df by popping\n",
    "    y = copy.pop(label) # pop label\n",
    "    return copy, y"
   ]
  },
  {
   "cell_type": "code",
   "execution_count": 11,
   "metadata": {
    "collapsed": true
   },
   "outputs": [],
   "source": [
    "train_mom_data, train_mom_labels = split_data(train_mom)\n",
    "valid_mom_data, valid_mom_labels = split_data(valid_mom)\n",
    "# make sure we are all working with same columns\n",
    "valid_mom_data = valid_mom_data[train_mom_data.columns]"
   ]
  },
  {
   "cell_type": "code",
   "execution_count": 12,
   "metadata": {
    "collapsed": true
   },
   "outputs": [],
   "source": [
    "pred_mom = pred_mom[train_mom_data.columns]"
   ]
  },
  {
   "cell_type": "code",
   "execution_count": 13,
   "metadata": {
    "collapsed": false
   },
   "outputs": [],
   "source": [
    "x_train_mom, _, y_train_mom, _ = train_test_split(train_mom_data, train_mom_labels, test_size=0.1) #train test split\n",
    "_, x_valid_mom, _, y_valid_mom = train_test_split(valid_mom_data, valid_mom_labels, test_size=0.9) #train test split\n"
   ]
  },
  {
   "cell_type": "markdown",
   "metadata": {},
   "source": [
    "Just double check...train_mom has already been artifically balanced by SMOTE library."
   ]
  },
  {
   "cell_type": "code",
   "execution_count": 14,
   "metadata": {
    "collapsed": false
   },
   "outputs": [
    {
     "data": {
      "image/png": "[encoded data removed]",
      "text/plain": [
       "<matplotlib.figure.Figure at 0x127105828>"
      ]
     },
     "metadata": {},
     "output_type": "display_data"
    }
   ],
   "source": [
    "import seaborn as sns \n",
    "sns.distplot(train_mom['materialHardship'])\n",
    "plt.show()"
   ]
  },
  {
   "cell_type": "markdown",
   "metadata": {},
   "source": [
    "## Train using XGBOOST"
   ]
  },
  {
   "cell_type": "code",
   "execution_count": 30,
   "metadata": {
    "collapsed": true
   },
   "outputs": [],
   "source": [
    "paramms = {\n",
    "        \"eval_metric\" : 'rmse',\n",
    "        'objective' : 'reg:logistic',\n",
    "        'eta' : .02,\n",
    "        'max_depth': 20\n",
    "       }"
   ]
  },
  {
   "cell_type": "code",
   "execution_count": 32,
   "metadata": {
    "collapsed": false
   },
   "outputs": [
    {
     "name": "stdout",
     "output_type": "stream",
     "text": [
      "[0]\ttrain-rmse:0.271766\tvalid-rmse:0.418127\n",
      "Multiple eval metrics have been passed: 'valid-rmse' will be used for early stopping.\n",
      "\n",
      "Will train until valid-rmse hasn't improved in 10 rounds.\n",
      "[10]\ttrain-rmse:0.226733\tvalid-rmse:0.353568\n",
      "[20]\ttrain-rmse:0.189768\tvalid-rmse:0.299941\n",
      "[29]\ttrain-rmse:0.162172\tvalid-rmse:0.259352\n"
     ]
    }
   ],
   "source": [
    "d_train = xgb.DMatrix(x_train_mom,y_train_mom) # make training matrix\n",
    "d_valid = xgb.DMatrix(x_valid_mom,y_valid_mom) # make valid matrix\n",
    "watchlist = [(d_train, 'train'), (d_valid, 'valid')]\n",
    "\n",
    "bst_mom = xgb.train(params=paramms,  # train on train matrix with params\n",
    "            dtrain=d_train,\n",
    "            evals = watchlist,\n",
    "         num_boost_round=nrds,\n",
    "                   early_stopping_rounds=10,\n",
    "                   verbose_eval=10) "
   ]
  },
  {
   "cell_type": "markdown",
   "metadata": {},
   "source": [
    "## Predict using XGBOOST"
   ]
  },
  {
   "cell_type": "code",
   "execution_count": 17,
   "metadata": {
    "collapsed": false
   },
   "outputs": [],
   "source": [
    "mom_preds = bst_mom.predict(xgb.DMatrix(pred_mom))"
   ]
  },
  {
   "cell_type": "code",
   "execution_count": 18,
   "metadata": {
    "collapsed": false
   },
   "outputs": [
    {
     "data": {
      "text/plain": [
       "(2783,)"
      ]
     },
     "execution_count": 18,
     "metadata": {},
     "output_type": "execute_result"
    }
   ],
   "source": [
    "mom_preds.shape"
   ]
  },
  {
   "cell_type": "markdown",
   "metadata": {},
   "source": [
    "## Create features dataframe"
   ]
  },
  {
   "cell_type": "code",
   "execution_count": 19,
   "metadata": {
    "collapsed": false
   },
   "outputs": [
    {
     "data": {
      "text/html": [
       "<div>\n",
       "<table border=\"1\" class=\"dataframe\">\n",
       "  <thead>\n",
       "    <tr style=\"text-align: right;\">\n",
       "      <th></th>\n",
       "      <th>challengeID</th>\n",
       "      <th>mom_preds</th>\n",
       "    </tr>\n",
       "  </thead>\n",
       "  <tbody>\n",
       "    <tr>\n",
       "      <th>0</th>\n",
       "      <td>1</td>\n",
       "      <td>0.485292</td>\n",
       "    </tr>\n",
       "    <tr>\n",
       "      <th>1</th>\n",
       "      <td>2</td>\n",
       "      <td>0.455763</td>\n",
       "    </tr>\n",
       "    <tr>\n",
       "      <th>2</th>\n",
       "      <td>3</td>\n",
       "      <td>0.485292</td>\n",
       "    </tr>\n",
       "    <tr>\n",
       "      <th>3</th>\n",
       "      <td>4</td>\n",
       "      <td>0.456092</td>\n",
       "    </tr>\n",
       "    <tr>\n",
       "      <th>4</th>\n",
       "      <td>5</td>\n",
       "      <td>0.448843</td>\n",
       "    </tr>\n",
       "  </tbody>\n",
       "</table>\n",
       "</div>"
      ],
      "text/plain": [
       "   challengeID  mom_preds\n",
       "0            1   0.485292\n",
       "1            2   0.455763\n",
       "2            3   0.485292\n",
       "3            4   0.456092\n",
       "4            5   0.448843"
      ]
     },
     "execution_count": 19,
     "metadata": {},
     "output_type": "execute_result"
    }
   ],
   "source": [
    "mom_prediction_df = pd.DataFrame(\n",
    "        { 'challengeID': df_prediction['challengeID'],\n",
    "            'mom_preds': mom_preds\n",
    "        })\n",
    "mom_prediction_df.head()"
   ]
  },
  {
   "cell_type": "markdown",
   "metadata": {},
   "source": [
    "# Create features df for training NN"
   ]
  },
  {
   "cell_type": "code",
   "execution_count": 20,
   "metadata": {
    "collapsed": true
   },
   "outputs": [],
   "source": [
    "mom_pred_training = bst_mom.predict(xgb.DMatrix(train_mom_data))"
   ]
  },
  {
   "cell_type": "code",
   "execution_count": 21,
   "metadata": {
    "collapsed": false
   },
   "outputs": [],
   "source": [
    "features_training_df = pd.DataFrame(\n",
    "{'index':train_mom_data.index,\n",
    " 'mom_preds' : mom_pred_training,\n",
    " 'materialHardship':train_mom['materialHardship']\n",
    "})"
   ]
  },
  {
   "cell_type": "code",
   "execution_count": 22,
   "metadata": {
    "collapsed": false
   },
   "outputs": [
    {
     "data": {
      "text/html": [
       "<div>\n",
       "<table border=\"1\" class=\"dataframe\">\n",
       "  <thead>\n",
       "    <tr style=\"text-align: right;\">\n",
       "      <th></th>\n",
       "      <th>index</th>\n",
       "      <th>materialHardship</th>\n",
       "      <th>mom_preds</th>\n",
       "    </tr>\n",
       "  </thead>\n",
       "  <tbody>\n",
       "    <tr>\n",
       "      <th>0</th>\n",
       "      <td>0</td>\n",
       "      <td>0.090909</td>\n",
       "      <td>0.451033</td>\n",
       "    </tr>\n",
       "    <tr>\n",
       "      <th>1</th>\n",
       "      <td>1</td>\n",
       "      <td>0.000000</td>\n",
       "      <td>0.448843</td>\n",
       "    </tr>\n",
       "    <tr>\n",
       "      <th>2</th>\n",
       "      <td>2</td>\n",
       "      <td>0.181818</td>\n",
       "      <td>0.455763</td>\n",
       "    </tr>\n",
       "    <tr>\n",
       "      <th>3</th>\n",
       "      <td>3</td>\n",
       "      <td>0.090909</td>\n",
       "      <td>0.456092</td>\n",
       "    </tr>\n",
       "    <tr>\n",
       "      <th>4</th>\n",
       "      <td>4</td>\n",
       "      <td>0.181818</td>\n",
       "      <td>0.456092</td>\n",
       "    </tr>\n",
       "  </tbody>\n",
       "</table>\n",
       "</div>"
      ],
      "text/plain": [
       "   index  materialHardship  mom_preds\n",
       "0      0          0.090909   0.451033\n",
       "1      1          0.000000   0.448843\n",
       "2      2          0.181818   0.455763\n",
       "3      3          0.090909   0.456092\n",
       "4      4          0.181818   0.456092"
      ]
     },
     "execution_count": 22,
     "metadata": {},
     "output_type": "execute_result"
    }
   ],
   "source": [
    "features_training_df.head()"
   ]
  },
  {
   "cell_type": "markdown",
   "metadata": {},
   "source": [
    "# NOW, REPEAT PROCESS for other relations!"
   ]
  },
  {
   "cell_type": "code",
   "execution_count": 23,
   "metadata": {
    "collapsed": true
   },
   "outputs": [],
   "source": [
    "# final_over_balanced.columns.values\n",
    "train_dad = final_over_balanced.filter(regex=(\"^f\"))\n",
    "train_dad['materialHardship'] = final_over_balanced['materialHardship']\n",
    "valid_dad = median_impute_df_train_with_labels.filter(regex=(\"^f\"))\n",
    "valid_dad['materialHardship'] = median_impute_df_train_with_labels['materialHardship']\n",
    "\n",
    "pred_dad =  df_prediction.filter(regex=(\"^f\"))\n"
   ]
  },
  {
   "cell_type": "code",
   "execution_count": 24,
   "metadata": {
    "collapsed": false
   },
   "outputs": [
    {
     "name": "stdout",
     "output_type": "stream",
     "text": [
      "[0]\ttrain-rmse:0.27086\tvalid-rmse:0.419069\n",
      "[1]\ttrain-rmse:0.26608\tvalid-rmse:0.412394\n",
      "[2]\ttrain-rmse:0.261396\tvalid-rmse:0.4058\n",
      "[3]\ttrain-rmse:0.256811\tvalid-rmse:0.399409\n",
      "[4]\ttrain-rmse:0.252301\tvalid-rmse:0.392991\n",
      "[5]\ttrain-rmse:0.247887\tvalid-rmse:0.386751\n"
     ]
    }
   ],
   "source": [
    "train_dad_data, train_dad_labels = split_data(train_dad)\n",
    "valid_dad_data, valid_dad_labels = split_data(valid_dad)\n",
    "# make sure we are all working with same columns\n",
    "valid_dad_data = valid_dad_data[train_dad_data.columns]\n",
    "\n",
    "pred_dad = pred_dad[train_dad_data.columns]\n",
    "\n",
    "x_train_dad, _, y_train_dad, _ = train_test_split(train_dad_data, train_dad_labels, test_size=0.1) #train test split\n",
    "_, x_valid_dad, _, y_valid_dad = train_test_split(valid_dad_data, valid_dad_labels, test_size=0.9) #train test split\n",
    "\n",
    "d_train = xgb.DMatrix(x_train_dad,y_train_dad) # make training matrix\n",
    "d_valid = xgb.DMatrix(x_valid_dad,y_valid_dad) # make valid matrix\n",
    "watchlist = [(d_train, 'train'), (d_valid, 'valid')]\n",
    "\n",
    "bst_dad = xgb.train(params=paramms,  # train on train matrix with params\n",
    "            dtrain=d_train,\n",
    "            evals = watchlist,\n",
    "         num_boost_round=nrds,\n",
    "                   early_stopping_rounds=10,\n",
    "                   verbose_eval=10) \n",
    "\n"
   ]
  },
  {
   "cell_type": "code",
   "execution_count": 25,
   "metadata": {
    "collapsed": false
   },
   "outputs": [
    {
     "data": {
      "text/html": [
       "<div>\n",
       "<table border=\"1\" class=\"dataframe\">\n",
       "  <thead>\n",
       "    <tr style=\"text-align: right;\">\n",
       "      <th></th>\n",
       "      <th>challengeID</th>\n",
       "      <th>mom_preds</th>\n",
       "      <th>dad_predictions</th>\n",
       "    </tr>\n",
       "  </thead>\n",
       "  <tbody>\n",
       "    <tr>\n",
       "      <th>0</th>\n",
       "      <td>1</td>\n",
       "      <td>0.485292</td>\n",
       "      <td>0.490872</td>\n",
       "    </tr>\n",
       "    <tr>\n",
       "      <th>1</th>\n",
       "      <td>2</td>\n",
       "      <td>0.455763</td>\n",
       "      <td>0.463861</td>\n",
       "    </tr>\n",
       "    <tr>\n",
       "      <th>2</th>\n",
       "      <td>3</td>\n",
       "      <td>0.485292</td>\n",
       "      <td>0.485215</td>\n",
       "    </tr>\n",
       "    <tr>\n",
       "      <th>3</th>\n",
       "      <td>4</td>\n",
       "      <td>0.456092</td>\n",
       "      <td>0.462359</td>\n",
       "    </tr>\n",
       "    <tr>\n",
       "      <th>4</th>\n",
       "      <td>5</td>\n",
       "      <td>0.448843</td>\n",
       "      <td>0.460614</td>\n",
       "    </tr>\n",
       "  </tbody>\n",
       "</table>\n",
       "</div>"
      ],
      "text/plain": [
       "   challengeID  mom_preds  dad_predictions\n",
       "0            1   0.485292         0.490872\n",
       "1            2   0.455763         0.463861\n",
       "2            3   0.485292         0.485215\n",
       "3            4   0.456092         0.462359\n",
       "4            5   0.448843         0.460614"
      ]
     },
     "execution_count": 25,
     "metadata": {},
     "output_type": "execute_result"
    }
   ],
   "source": [
    "dad_preds = bst_dad.predict(xgb.DMatrix(pred_dad))\n",
    "all_features = mom_prediction_df\n",
    "all_features['dad_predictions'] = dad_preds\n",
    "all_features.head()"
   ]
  },
  {
   "cell_type": "code",
   "execution_count": 26,
   "metadata": {
    "collapsed": false
   },
   "outputs": [
    {
     "data": {
      "text/html": [
       "<div>\n",
       "<table border=\"1\" class=\"dataframe\">\n",
       "  <thead>\n",
       "    <tr style=\"text-align: right;\">\n",
       "      <th></th>\n",
       "      <th>index</th>\n",
       "      <th>materialHardship</th>\n",
       "      <th>mom_preds</th>\n",
       "      <th>dad_preds</th>\n",
       "    </tr>\n",
       "  </thead>\n",
       "  <tbody>\n",
       "    <tr>\n",
       "      <th>0</th>\n",
       "      <td>0</td>\n",
       "      <td>0.090909</td>\n",
       "      <td>0.451033</td>\n",
       "      <td>0.460036</td>\n",
       "    </tr>\n",
       "    <tr>\n",
       "      <th>1</th>\n",
       "      <td>1</td>\n",
       "      <td>0.000000</td>\n",
       "      <td>0.448843</td>\n",
       "      <td>0.452241</td>\n",
       "    </tr>\n",
       "    <tr>\n",
       "      <th>2</th>\n",
       "      <td>2</td>\n",
       "      <td>0.181818</td>\n",
       "      <td>0.455763</td>\n",
       "      <td>0.453256</td>\n",
       "    </tr>\n",
       "    <tr>\n",
       "      <th>3</th>\n",
       "      <td>3</td>\n",
       "      <td>0.090909</td>\n",
       "      <td>0.456092</td>\n",
       "      <td>0.461703</td>\n",
       "    </tr>\n",
       "    <tr>\n",
       "      <th>4</th>\n",
       "      <td>4</td>\n",
       "      <td>0.181818</td>\n",
       "      <td>0.456092</td>\n",
       "      <td>0.460614</td>\n",
       "    </tr>\n",
       "  </tbody>\n",
       "</table>\n",
       "</div>"
      ],
      "text/plain": [
       "   index  materialHardship  mom_preds  dad_preds\n",
       "0      0          0.090909   0.451033   0.460036\n",
       "1      1          0.000000   0.448843   0.452241\n",
       "2      2          0.181818   0.455763   0.453256\n",
       "3      3          0.090909   0.456092   0.461703\n",
       "4      4          0.181818   0.456092   0.460614"
      ]
     },
     "execution_count": 26,
     "metadata": {},
     "output_type": "execute_result"
    }
   ],
   "source": [
    "dad_pred_training = bst_dad.predict(xgb.DMatrix(train_dad_data))\n",
    "features_training_df['dad_preds'] = dad_pred_training\n",
    "features_training_df.head()"
   ]
  },
  {
   "cell_type": "markdown",
   "metadata": {},
   "source": [
    "# NOW, REPEAT PROCESS for all waves!"
   ]
  },
  {
   "cell_type": "markdown",
   "metadata": {},
   "source": [
    "# 5"
   ]
  },
  {
   "cell_type": "code",
   "execution_count": 33,
   "metadata": {
    "collapsed": false
   },
   "outputs": [
    {
     "name": "stdout",
     "output_type": "stream",
     "text": [
      "[0]\ttrain-rmse:0.269937\tvalid-rmse:0.419572\n",
      "Multiple eval metrics have been passed: 'valid-rmse' will be used for early stopping.\n",
      "\n",
      "Will train until valid-rmse hasn't improved in 10 rounds.\n",
      "[10]\ttrain-rmse:0.225941\tvalid-rmse:0.359361\n",
      "[20]\ttrain-rmse:0.189832\tvalid-rmse:0.309903\n",
      "[29]\ttrain-rmse:0.162858\tvalid-rmse:0.273207\n"
     ]
    },
    {
     "data": {
      "text/html": [
       "<div>\n",
       "<table border=\"1\" class=\"dataframe\">\n",
       "  <thead>\n",
       "    <tr style=\"text-align: right;\">\n",
       "      <th></th>\n",
       "      <th>index</th>\n",
       "      <th>materialHardship</th>\n",
       "      <th>mom_preds</th>\n",
       "      <th>dad_preds</th>\n",
       "      <th>5_preds</th>\n",
       "    </tr>\n",
       "  </thead>\n",
       "  <tbody>\n",
       "    <tr>\n",
       "      <th>0</th>\n",
       "      <td>0</td>\n",
       "      <td>0.090909</td>\n",
       "      <td>0.451033</td>\n",
       "      <td>0.460036</td>\n",
       "      <td>0.300974</td>\n",
       "    </tr>\n",
       "    <tr>\n",
       "      <th>1</th>\n",
       "      <td>1</td>\n",
       "      <td>0.000000</td>\n",
       "      <td>0.448843</td>\n",
       "      <td>0.452241</td>\n",
       "      <td>0.312326</td>\n",
       "    </tr>\n",
       "    <tr>\n",
       "      <th>2</th>\n",
       "      <td>2</td>\n",
       "      <td>0.181818</td>\n",
       "      <td>0.455763</td>\n",
       "      <td>0.453256</td>\n",
       "      <td>0.361684</td>\n",
       "    </tr>\n",
       "    <tr>\n",
       "      <th>3</th>\n",
       "      <td>3</td>\n",
       "      <td>0.090909</td>\n",
       "      <td>0.456092</td>\n",
       "      <td>0.461703</td>\n",
       "      <td>0.331420</td>\n",
       "    </tr>\n",
       "    <tr>\n",
       "      <th>4</th>\n",
       "      <td>4</td>\n",
       "      <td>0.181818</td>\n",
       "      <td>0.456092</td>\n",
       "      <td>0.460614</td>\n",
       "      <td>0.297731</td>\n",
       "    </tr>\n",
       "  </tbody>\n",
       "</table>\n",
       "</div>"
      ],
      "text/plain": [
       "   index  materialHardship  mom_preds  dad_preds   5_preds\n",
       "0      0          0.090909   0.451033   0.460036  0.300974\n",
       "1      1          0.000000   0.448843   0.452241  0.312326\n",
       "2      2          0.181818   0.455763   0.453256  0.361684\n",
       "3      3          0.090909   0.456092   0.461703  0.331420\n",
       "4      4          0.181818   0.456092   0.460614  0.297731"
      ]
     },
     "execution_count": 33,
     "metadata": {},
     "output_type": "execute_result"
    }
   ],
   "source": [
    "# final_over_balanced.columns.values\n",
    "train_5 = final_over_balanced.filter(regex=(\"^\\D+5\"))\n",
    "train_5['materialHardship'] = final_over_balanced['materialHardship']\n",
    "valid_5 = median_impute_df_train_with_labels.filter(regex=(\"^\\D+5\"))\n",
    "valid_5['materialHardship'] = median_impute_df_train_with_labels['materialHardship']\n",
    "\n",
    "###\n",
    "pred_5 =  df_prediction.filter(regex=(\"^\\D+5\"))\n",
    "\n",
    "train_5_data, train_5_labels = split_data(train_5)\n",
    "valid_5_data, valid_5_labels = split_data(valid_5)\n",
    "# make sure we are all working with same columns\n",
    "valid_5_data = valid_5_data[train_5_data.columns]\n",
    "\n",
    "pred_5 = pred_5[train_5_data.columns]\n",
    "\n",
    "x_train_5, _, y_train_5, _ = train_test_split(train_5_data, train_5_labels, test_size=0.5) #train test split\n",
    "_, x_valid_5, _, y_valid_5 = train_test_split(valid_5_data, valid_5_labels, test_size=0.9) #train test split\n",
    "\n",
    "d_train = xgb.DMatrix(x_train_5,y_train_5) # make training matrix\n",
    "d_valid = xgb.DMatrix(x_valid_5,y_valid_5) # make valid matrix\n",
    "watchlist = [(d_train, 'train'), (d_valid, 'valid')]\n",
    "# train\n",
    "bst_5 = xgb.train(params=paramms,  # train on train matrix with params\n",
    "            dtrain=d_train,\n",
    "            evals = watchlist,\n",
    "         num_boost_round=nrds,\n",
    "                 early_stopping_rounds=10,\n",
    "                   verbose_eval=10) \n",
    "# make predictions and add to feature df\n",
    "_5_preds = bst_5.predict(xgb.DMatrix(pred_5))\n",
    "# all_features = mom_prediction_df\n",
    "all_features['5_predictions'] = _5_preds\n",
    "all_features.head()\n",
    "\n",
    "_5_pred_training = bst_5.predict(xgb.DMatrix(train_5_data))\n",
    "features_training_df['5_preds'] = _5_pred_training\n",
    "features_training_df.head()\n"
   ]
  },
  {
   "cell_type": "markdown",
   "metadata": {},
   "source": [
    "# NOW ADD FAMILY(?) LABEL"
   ]
  },
  {
   "cell_type": "code",
   "execution_count": 28,
   "metadata": {
    "collapsed": false
   },
   "outputs": [],
   "source": [
    "# from sklearn.cluster import Birch, MiniBatchKMeans\n",
    "# mbk = MiniBatchKMeans(init='k-means++', n_clusters=1000, batch_size=100,\n",
    "#                       n_init=10, max_no_improvement=10, verbose=0,\n",
    "#                       random_state=0)\n",
    "# mbk.fit(median_impute_df_train_with_labels) # took ~10 mins to run"
   ]
  },
  {
   "cell_type": "code",
   "execution_count": 47,
   "metadata": {
    "collapsed": true
   },
   "outputs": [],
   "source": [
    "# mbk_means_labels_unique = np.unique(mbk.labels_)"
   ]
  },
  {
   "cell_type": "code",
   "execution_count": 48,
   "metadata": {
    "collapsed": false
   },
   "outputs": [],
   "source": [
    "# mbk_means_labels_unique #"
   ]
  },
  {
   "cell_type": "code",
   "execution_count": 49,
   "metadata": {
    "collapsed": false
   },
   "outputs": [],
   "source": [
    "# len(mbk.cluster_centers_[0]) # what are centers..."
   ]
  },
  {
   "cell_type": "code",
   "execution_count": 50,
   "metadata": {
    "collapsed": false
   },
   "outputs": [],
   "source": [
    "# median_impute_df_train_with_labels.iloc[0]"
   ]
  },
  {
   "cell_type": "code",
   "execution_count": 51,
   "metadata": {
    "collapsed": false
   },
   "outputs": [],
   "source": [
    "# mbk.cluster_centers_[0]"
   ]
  },
  {
   "cell_type": "code",
   "execution_count": 52,
   "metadata": {
    "collapsed": false
   },
   "outputs": [],
   "source": [
    "# median_impute_df_train_with_labels.shape"
   ]
  },
  {
   "cell_type": "code",
   "execution_count": 53,
   "metadata": {
    "collapsed": false
   },
   "outputs": [],
   "source": [
    "# from sklearn.metrics.pairwise import cosine_similarity\n",
    "# cosine_similarity(mbk.cluster_centers_[0],median_impute_df_train_with_labels.iloc[0])"
   ]
  },
  {
   "cell_type": "code",
   "execution_count": 54,
   "metadata": {
    "collapsed": false
   },
   "outputs": [],
   "source": [
    "# len(mbk.labels_)"
   ]
  },
  {
   "cell_type": "code",
   "execution_count": 55,
   "metadata": {
    "collapsed": false
   },
   "outputs": [],
   "source": [
    "# mbk.labels_"
   ]
  },
  {
   "cell_type": "code",
   "execution_count": 56,
   "metadata": {
    "collapsed": false
   },
   "outputs": [],
   "source": [
    "# median_impute_df_train_with_labels['family id?'] = mbk.labels_"
   ]
  },
  {
   "cell_type": "code",
   "execution_count": 57,
   "metadata": {
    "collapsed": false
   },
   "outputs": [],
   "source": [
    "# median_impute_df_train_with_labels['family id?']"
   ]
  },
  {
   "cell_type": "code",
   "execution_count": 58,
   "metadata": {
    "collapsed": false
   },
   "outputs": [],
   "source": [
    "features_training_df.to_pickle('3_features_for_training')\n",
    "all_features.to_pickle('3_features_for_predicting')"
   ]
  },
  {
   "cell_type": "markdown",
   "metadata": {
    "collapsed": true
   },
   "source": [
    "\n",
    "# FINALLY, TRAIN USING KERAS"
   ]
  },
  {
   "cell_type": "code",
   "execution_count": 5,
   "metadata": {
    "collapsed": false
   },
   "outputs": [
    {
     "data": {
      "text/html": [
       "<div>\n",
       "<table border=\"1\" class=\"dataframe\">\n",
       "  <thead>\n",
       "    <tr style=\"text-align: right;\">\n",
       "      <th></th>\n",
       "      <th>index</th>\n",
       "      <th>materialHardship</th>\n",
       "      <th>mom_preds</th>\n",
       "      <th>dad_preds</th>\n",
       "      <th>hv_preds</th>\n",
       "      <th>p_preds</th>\n",
       "      <th>k_preds</th>\n",
       "      <th>1_preds</th>\n",
       "      <th>2_preds</th>\n",
       "      <th>3_preds</th>\n",
       "      <th>4_preds</th>\n",
       "      <th>5_preds</th>\n",
       "    </tr>\n",
       "  </thead>\n",
       "  <tbody>\n",
       "    <tr>\n",
       "      <th>0</th>\n",
       "      <td>0</td>\n",
       "      <td>0.090909</td>\n",
       "      <td>0.108408</td>\n",
       "      <td>0.102749</td>\n",
       "      <td>0.189588</td>\n",
       "      <td>0.125082</td>\n",
       "      <td>0.117650</td>\n",
       "      <td>0.119344</td>\n",
       "      <td>0.249916</td>\n",
       "      <td>0.149706</td>\n",
       "      <td>0.101242</td>\n",
       "      <td>0.087207</td>\n",
       "    </tr>\n",
       "    <tr>\n",
       "      <th>1</th>\n",
       "      <td>1</td>\n",
       "      <td>0.000000</td>\n",
       "      <td>0.060070</td>\n",
       "      <td>0.050308</td>\n",
       "      <td>0.078122</td>\n",
       "      <td>0.055909</td>\n",
       "      <td>0.129016</td>\n",
       "      <td>0.076872</td>\n",
       "      <td>0.108703</td>\n",
       "      <td>0.066801</td>\n",
       "      <td>0.109731</td>\n",
       "      <td>0.052868</td>\n",
       "    </tr>\n",
       "    <tr>\n",
       "      <th>2</th>\n",
       "      <td>2</td>\n",
       "      <td>0.181818</td>\n",
       "      <td>0.164295</td>\n",
       "      <td>0.151081</td>\n",
       "      <td>0.187422</td>\n",
       "      <td>0.083680</td>\n",
       "      <td>0.168439</td>\n",
       "      <td>0.175210</td>\n",
       "      <td>0.144543</td>\n",
       "      <td>0.189795</td>\n",
       "      <td>0.176559</td>\n",
       "      <td>0.161876</td>\n",
       "    </tr>\n",
       "    <tr>\n",
       "      <th>3</th>\n",
       "      <td>3</td>\n",
       "      <td>0.090909</td>\n",
       "      <td>0.093506</td>\n",
       "      <td>0.095282</td>\n",
       "      <td>0.104538</td>\n",
       "      <td>0.079044</td>\n",
       "      <td>0.115994</td>\n",
       "      <td>0.070052</td>\n",
       "      <td>0.117112</td>\n",
       "      <td>0.072696</td>\n",
       "      <td>0.109532</td>\n",
       "      <td>0.065611</td>\n",
       "    </tr>\n",
       "    <tr>\n",
       "      <th>4</th>\n",
       "      <td>4</td>\n",
       "      <td>0.181818</td>\n",
       "      <td>0.184795</td>\n",
       "      <td>0.143233</td>\n",
       "      <td>0.179133</td>\n",
       "      <td>0.176425</td>\n",
       "      <td>0.149404</td>\n",
       "      <td>0.194897</td>\n",
       "      <td>0.210626</td>\n",
       "      <td>0.152468</td>\n",
       "      <td>0.105036</td>\n",
       "      <td>0.151215</td>\n",
       "    </tr>\n",
       "    <tr>\n",
       "      <th>5</th>\n",
       "      <td>5</td>\n",
       "      <td>0.272727</td>\n",
       "      <td>0.270705</td>\n",
       "      <td>0.243762</td>\n",
       "      <td>0.183670</td>\n",
       "      <td>0.204060</td>\n",
       "      <td>0.263280</td>\n",
       "      <td>0.238993</td>\n",
       "      <td>0.142988</td>\n",
       "      <td>0.071492</td>\n",
       "      <td>0.238351</td>\n",
       "      <td>0.070856</td>\n",
       "    </tr>\n",
       "    <tr>\n",
       "      <th>6</th>\n",
       "      <td>6</td>\n",
       "      <td>0.090909</td>\n",
       "      <td>0.103955</td>\n",
       "      <td>0.110864</td>\n",
       "      <td>0.107018</td>\n",
       "      <td>0.137587</td>\n",
       "      <td>0.136884</td>\n",
       "      <td>0.091260</td>\n",
       "      <td>0.128252</td>\n",
       "      <td>0.133319</td>\n",
       "      <td>0.093713</td>\n",
       "      <td>0.089045</td>\n",
       "    </tr>\n",
       "    <tr>\n",
       "      <th>7</th>\n",
       "      <td>7</td>\n",
       "      <td>0.000000</td>\n",
       "      <td>0.253866</td>\n",
       "      <td>0.065823</td>\n",
       "      <td>0.135619</td>\n",
       "      <td>0.152589</td>\n",
       "      <td>0.181961</td>\n",
       "      <td>0.113377</td>\n",
       "      <td>0.071991</td>\n",
       "      <td>0.225448</td>\n",
       "      <td>0.104730</td>\n",
       "      <td>0.076698</td>\n",
       "    </tr>\n",
       "    <tr>\n",
       "      <th>8</th>\n",
       "      <td>8</td>\n",
       "      <td>0.000000</td>\n",
       "      <td>0.061610</td>\n",
       "      <td>0.050995</td>\n",
       "      <td>0.056139</td>\n",
       "      <td>0.075601</td>\n",
       "      <td>0.095384</td>\n",
       "      <td>0.056152</td>\n",
       "      <td>0.055464</td>\n",
       "      <td>0.055025</td>\n",
       "      <td>0.038442</td>\n",
       "      <td>0.093942</td>\n",
       "    </tr>\n",
       "    <tr>\n",
       "      <th>9</th>\n",
       "      <td>9</td>\n",
       "      <td>0.000000</td>\n",
       "      <td>0.066767</td>\n",
       "      <td>0.065302</td>\n",
       "      <td>0.050521</td>\n",
       "      <td>0.080019</td>\n",
       "      <td>0.171255</td>\n",
       "      <td>0.080263</td>\n",
       "      <td>0.049432</td>\n",
       "      <td>0.053334</td>\n",
       "      <td>0.137143</td>\n",
       "      <td>0.124541</td>\n",
       "    </tr>\n",
       "  </tbody>\n",
       "</table>\n",
       "</div>"
      ],
      "text/plain": [
       "   index  materialHardship  mom_preds  dad_preds  hv_preds   p_preds  \\\n",
       "0      0          0.090909   0.108408   0.102749  0.189588  0.125082   \n",
       "1      1          0.000000   0.060070   0.050308  0.078122  0.055909   \n",
       "2      2          0.181818   0.164295   0.151081  0.187422  0.083680   \n",
       "3      3          0.090909   0.093506   0.095282  0.104538  0.079044   \n",
       "4      4          0.181818   0.184795   0.143233  0.179133  0.176425   \n",
       "5      5          0.272727   0.270705   0.243762  0.183670  0.204060   \n",
       "6      6          0.090909   0.103955   0.110864  0.107018  0.137587   \n",
       "7      7          0.000000   0.253866   0.065823  0.135619  0.152589   \n",
       "8      8          0.000000   0.061610   0.050995  0.056139  0.075601   \n",
       "9      9          0.000000   0.066767   0.065302  0.050521  0.080019   \n",
       "\n",
       "    k_preds   1_preds   2_preds   3_preds   4_preds   5_preds  \n",
       "0  0.117650  0.119344  0.249916  0.149706  0.101242  0.087207  \n",
       "1  0.129016  0.076872  0.108703  0.066801  0.109731  0.052868  \n",
       "2  0.168439  0.175210  0.144543  0.189795  0.176559  0.161876  \n",
       "3  0.115994  0.070052  0.117112  0.072696  0.109532  0.065611  \n",
       "4  0.149404  0.194897  0.210626  0.152468  0.105036  0.151215  \n",
       "5  0.263280  0.238993  0.142988  0.071492  0.238351  0.070856  \n",
       "6  0.136884  0.091260  0.128252  0.133319  0.093713  0.089045  \n",
       "7  0.181961  0.113377  0.071991  0.225448  0.104730  0.076698  \n",
       "8  0.095384  0.056152  0.055464  0.055025  0.038442  0.093942  \n",
       "9  0.171255  0.080263  0.049432  0.053334  0.137143  0.124541  "
      ]
     },
     "execution_count": 5,
     "metadata": {},
     "output_type": "execute_result"
    }
   ],
   "source": [
    "# import pandas as pd \n",
    "# features_training_df =  pd.read_pickle('features_for_training')\n",
    "# all_features = pd.read_pickle('features_for_predicting')\n",
    "# features_training_df.head(10)"
   ]
  },
  {
   "cell_type": "code",
   "execution_count": 59,
   "metadata": {
    "collapsed": true
   },
   "outputs": [],
   "source": [
    "# # data to train NN ON:\n",
    "# features_training_df = pd.read_pickle('features_for_training')\n",
    "\n",
    "# # data to use to make predictions:\n",
    "# all_features = pd.read_pickle('features_for_predicting')\n",
    "\n",
    "\n",
    "\n",
    "\n",
    "\n",
    "# # keras_test.py\n",
    "# from sklearn.model_selection import train_test_split\n",
    "# import pandas as pd \n",
    "\n",
    "\n",
    "# # x_train_med, x_valid_med, y_train_med, y_valid_med = train_test_split(test, med_y, test_size=0.2) #train test split\n",
    "\n",
    "# y = features_training_df.pop('materialHardship')\n",
    "\n",
    "# x_train_med, x_valid_med, y_train_med, y_valid_med = train_test_split(test, y, test_size=0.2) #train test split\n",
    "\n",
    "\n",
    "# from keras.models import Sequential\n",
    "# from keras.layers import Dense\n",
    "# from keras.wrappers.scikit_learn import KerasRegressor\n",
    "\n",
    "# model = Sequential()\n",
    "\n",
    "# model.add(Dense(2, input_dim=x_train_med.values.shape[1], kernel_initializer='normal', activation='relu'))\n",
    "\n",
    "# model.add(Dense(1, kernel_initializer='normal'))\n",
    "\n",
    "# model.compile(loss='mean_squared_error',\n",
    "#               optimizer='adam',\n",
    "#               metrics=['accuracy'])\n",
    "\n",
    "# calls = keras.callbacks.EarlyStopping(monitor='val_loss', min_delta=0, patience=0, verbose=0, mode='auto')\n",
    "# # callbacks=[calls]\n",
    "# model.fit( x_train_med.values, y_train_med.values, batch_size=10, epochs=200, verbose=1, validation_split=0.0, validation_data=(x_valid_med.values,y_valid_med.values), shuffle=True, class_weight=None, sample_weight=None, initial_epoch=0)\n",
    "\n",
    "\n",
    "# preds  = model.predict(all_features.values,verbose=1)\n"
   ]
  }
 ],
 "metadata": {
  "kernelspec": {
   "display_name": "Python 3",
   "language": "python",
   "name": "python3"
  },
  "language_info": {
   "codemirror_mode": {
    "name": "ipython",
    "version": 3
   },
   "file_extension": ".py",
   "mimetype": "text/x-python",
   "name": "python",
   "nbconvert_exporter": "python",
   "pygments_lexer": "ipython3",
   "version": "3.5.2"
  }
 },
 "nbformat": 4,
 "nbformat_minor": 2
}
