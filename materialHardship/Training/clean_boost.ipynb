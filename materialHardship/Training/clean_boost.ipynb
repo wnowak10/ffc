{
 "cells": [
  {
   "cell_type": "markdown",
   "metadata": {},
   "source": [
    "# Intro\n",
    "\n",
    "As the title indicates, this ipynb aims to import dataframes (features plus labels) and then develop functions / clases to process data, fit models, and make predictions!"
   ]
  },
  {
   "cell_type": "markdown",
   "metadata": {
    "collapsed": true
   },
   "source": [
    "# Import data (just for materialHardship)"
   ]
  },
  {
   "cell_type": "code",
   "execution_count": 1,
   "metadata": {
    "collapsed": false
   },
   "outputs": [],
   "source": [
    "import numpy as np\n",
    "import pandas as pd\n",
    "import xgboost as xgb\n",
    "from sklearn.model_selection import train_test_split\n",
    "from sklearn.metrics import mean_squared_error\n",
    "import matplotlib.pyplot as plt\n",
    "\n",
    "import sys\n",
    "import math\n",
    "# from sklearn.grid_search import GridSearchCV"
   ]
  },
  {
   "cell_type": "code",
   "execution_count": 2,
   "metadata": {
    "collapsed": false
   },
   "outputs": [
    {
     "ename": "FileNotFoundError",
     "evalue": "[Errno 2] No such file or directory: 'Data/mean_impute_df_train_with_labels'",
     "output_type": "error",
     "traceback": [
      "\u001b[0;31m---------------------------------------------------------------------------\u001b[0m",
      "\u001b[0;31mFileNotFoundError\u001b[0m                         Traceback (most recent call last)",
      "\u001b[0;32m/anaconda/envs/py35/lib/python3.5/site-packages/pandas/io/pickle.py\u001b[0m in \u001b[0;36mtry_read\u001b[0;34m(path, encoding)\u001b[0m\n\u001b[1;32m     50\u001b[0m         \u001b[0;32mtry\u001b[0m\u001b[0;34m:\u001b[0m\u001b[0;34m\u001b[0m\u001b[0m\n\u001b[0;32m---> 51\u001b[0;31m             \u001b[0;32mwith\u001b[0m \u001b[0mopen\u001b[0m\u001b[0;34m(\u001b[0m\u001b[0mpath\u001b[0m\u001b[0;34m,\u001b[0m \u001b[0;34m'rb'\u001b[0m\u001b[0;34m)\u001b[0m \u001b[0;32mas\u001b[0m \u001b[0mfh\u001b[0m\u001b[0;34m:\u001b[0m\u001b[0;34m\u001b[0m\u001b[0m\n\u001b[0m\u001b[1;32m     52\u001b[0m                 \u001b[0;32mreturn\u001b[0m \u001b[0mpkl\u001b[0m\u001b[0;34m.\u001b[0m\u001b[0mload\u001b[0m\u001b[0;34m(\u001b[0m\u001b[0mfh\u001b[0m\u001b[0;34m)\u001b[0m\u001b[0;34m\u001b[0m\u001b[0m\n",
      "\u001b[0;31mFileNotFoundError\u001b[0m: [Errno 2] No such file or directory: 'Data/mean_impute_df_train_with_labels'",
      "\nDuring handling of the above exception, another exception occurred:\n",
      "\u001b[0;31mFileNotFoundError\u001b[0m                         Traceback (most recent call last)",
      "\u001b[0;32m/anaconda/envs/py35/lib/python3.5/site-packages/pandas/io/pickle.py\u001b[0m in \u001b[0;36mtry_read\u001b[0;34m(path, encoding)\u001b[0m\n\u001b[1;32m     55\u001b[0m             \u001b[0;32mtry\u001b[0m\u001b[0;34m:\u001b[0m\u001b[0;34m\u001b[0m\u001b[0m\n\u001b[0;32m---> 56\u001b[0;31m                 \u001b[0;32mwith\u001b[0m \u001b[0mopen\u001b[0m\u001b[0;34m(\u001b[0m\u001b[0mpath\u001b[0m\u001b[0;34m,\u001b[0m \u001b[0;34m'rb'\u001b[0m\u001b[0;34m)\u001b[0m \u001b[0;32mas\u001b[0m \u001b[0mfh\u001b[0m\u001b[0;34m:\u001b[0m\u001b[0;34m\u001b[0m\u001b[0m\n\u001b[0m\u001b[1;32m     57\u001b[0m                     \u001b[0;32mreturn\u001b[0m \u001b[0mpc\u001b[0m\u001b[0;34m.\u001b[0m\u001b[0mload\u001b[0m\u001b[0;34m(\u001b[0m\u001b[0mfh\u001b[0m\u001b[0;34m,\u001b[0m \u001b[0mencoding\u001b[0m\u001b[0;34m=\u001b[0m\u001b[0mencoding\u001b[0m\u001b[0;34m,\u001b[0m \u001b[0mcompat\u001b[0m\u001b[0;34m=\u001b[0m\u001b[0;32mFalse\u001b[0m\u001b[0;34m)\u001b[0m\u001b[0;34m\u001b[0m\u001b[0m\n",
      "\u001b[0;31mFileNotFoundError\u001b[0m: [Errno 2] No such file or directory: 'Data/mean_impute_df_train_with_labels'",
      "\nDuring handling of the above exception, another exception occurred:\n",
      "\u001b[0;31mFileNotFoundError\u001b[0m                         Traceback (most recent call last)",
      "\u001b[0;32m/anaconda/envs/py35/lib/python3.5/site-packages/pandas/io/pickle.py\u001b[0m in \u001b[0;36mread_pickle\u001b[0;34m(path)\u001b[0m\n\u001b[1;32m     64\u001b[0m     \u001b[0;32mtry\u001b[0m\u001b[0;34m:\u001b[0m\u001b[0;34m\u001b[0m\u001b[0m\n\u001b[0;32m---> 65\u001b[0;31m         \u001b[0;32mreturn\u001b[0m \u001b[0mtry_read\u001b[0m\u001b[0;34m(\u001b[0m\u001b[0mpath\u001b[0m\u001b[0;34m)\u001b[0m\u001b[0;34m\u001b[0m\u001b[0m\n\u001b[0m\u001b[1;32m     66\u001b[0m     \u001b[0;32mexcept\u001b[0m\u001b[0;34m:\u001b[0m\u001b[0;34m\u001b[0m\u001b[0m\n",
      "\u001b[0;32m/anaconda/envs/py35/lib/python3.5/site-packages/pandas/io/pickle.py\u001b[0m in \u001b[0;36mtry_read\u001b[0;34m(path, encoding)\u001b[0m\n\u001b[1;32m     60\u001b[0m             \u001b[0;32mexcept\u001b[0m\u001b[0;34m:\u001b[0m\u001b[0;34m\u001b[0m\u001b[0m\n\u001b[0;32m---> 61\u001b[0;31m                 \u001b[0;32mwith\u001b[0m \u001b[0mopen\u001b[0m\u001b[0;34m(\u001b[0m\u001b[0mpath\u001b[0m\u001b[0;34m,\u001b[0m \u001b[0;34m'rb'\u001b[0m\u001b[0;34m)\u001b[0m \u001b[0;32mas\u001b[0m \u001b[0mfh\u001b[0m\u001b[0;34m:\u001b[0m\u001b[0;34m\u001b[0m\u001b[0m\n\u001b[0m\u001b[1;32m     62\u001b[0m                     \u001b[0;32mreturn\u001b[0m \u001b[0mpc\u001b[0m\u001b[0;34m.\u001b[0m\u001b[0mload\u001b[0m\u001b[0;34m(\u001b[0m\u001b[0mfh\u001b[0m\u001b[0;34m,\u001b[0m \u001b[0mencoding\u001b[0m\u001b[0;34m=\u001b[0m\u001b[0mencoding\u001b[0m\u001b[0;34m,\u001b[0m \u001b[0mcompat\u001b[0m\u001b[0;34m=\u001b[0m\u001b[0;32mTrue\u001b[0m\u001b[0;34m)\u001b[0m\u001b[0;34m\u001b[0m\u001b[0m\n",
      "\u001b[0;31mFileNotFoundError\u001b[0m: [Errno 2] No such file or directory: 'Data/mean_impute_df_train_with_labels'",
      "\nDuring handling of the above exception, another exception occurred:\n",
      "\u001b[0;31mFileNotFoundError\u001b[0m                         Traceback (most recent call last)",
      "\u001b[0;32m/anaconda/envs/py35/lib/python3.5/site-packages/pandas/io/pickle.py\u001b[0m in \u001b[0;36mtry_read\u001b[0;34m(path, encoding)\u001b[0m\n\u001b[1;32m     50\u001b[0m         \u001b[0;32mtry\u001b[0m\u001b[0;34m:\u001b[0m\u001b[0;34m\u001b[0m\u001b[0m\n\u001b[0;32m---> 51\u001b[0;31m             \u001b[0;32mwith\u001b[0m \u001b[0mopen\u001b[0m\u001b[0;34m(\u001b[0m\u001b[0mpath\u001b[0m\u001b[0;34m,\u001b[0m \u001b[0;34m'rb'\u001b[0m\u001b[0;34m)\u001b[0m \u001b[0;32mas\u001b[0m \u001b[0mfh\u001b[0m\u001b[0;34m:\u001b[0m\u001b[0;34m\u001b[0m\u001b[0m\n\u001b[0m\u001b[1;32m     52\u001b[0m                 \u001b[0;32mreturn\u001b[0m \u001b[0mpkl\u001b[0m\u001b[0;34m.\u001b[0m\u001b[0mload\u001b[0m\u001b[0;34m(\u001b[0m\u001b[0mfh\u001b[0m\u001b[0;34m)\u001b[0m\u001b[0;34m\u001b[0m\u001b[0m\n",
      "\u001b[0;31mFileNotFoundError\u001b[0m: [Errno 2] No such file or directory: 'Data/mean_impute_df_train_with_labels'",
      "\nDuring handling of the above exception, another exception occurred:\n",
      "\u001b[0;31mFileNotFoundError\u001b[0m                         Traceback (most recent call last)",
      "\u001b[0;32m/anaconda/envs/py35/lib/python3.5/site-packages/pandas/io/pickle.py\u001b[0m in \u001b[0;36mtry_read\u001b[0;34m(path, encoding)\u001b[0m\n\u001b[1;32m     55\u001b[0m             \u001b[0;32mtry\u001b[0m\u001b[0;34m:\u001b[0m\u001b[0;34m\u001b[0m\u001b[0m\n\u001b[0;32m---> 56\u001b[0;31m                 \u001b[0;32mwith\u001b[0m \u001b[0mopen\u001b[0m\u001b[0;34m(\u001b[0m\u001b[0mpath\u001b[0m\u001b[0;34m,\u001b[0m \u001b[0;34m'rb'\u001b[0m\u001b[0;34m)\u001b[0m \u001b[0;32mas\u001b[0m \u001b[0mfh\u001b[0m\u001b[0;34m:\u001b[0m\u001b[0;34m\u001b[0m\u001b[0m\n\u001b[0m\u001b[1;32m     57\u001b[0m                     \u001b[0;32mreturn\u001b[0m \u001b[0mpc\u001b[0m\u001b[0;34m.\u001b[0m\u001b[0mload\u001b[0m\u001b[0;34m(\u001b[0m\u001b[0mfh\u001b[0m\u001b[0;34m,\u001b[0m \u001b[0mencoding\u001b[0m\u001b[0;34m=\u001b[0m\u001b[0mencoding\u001b[0m\u001b[0;34m,\u001b[0m \u001b[0mcompat\u001b[0m\u001b[0;34m=\u001b[0m\u001b[0;32mFalse\u001b[0m\u001b[0;34m)\u001b[0m\u001b[0;34m\u001b[0m\u001b[0m\n",
      "\u001b[0;31mFileNotFoundError\u001b[0m: [Errno 2] No such file or directory: 'Data/mean_impute_df_train_with_labels'",
      "\nDuring handling of the above exception, another exception occurred:\n",
      "\u001b[0;31mFileNotFoundError\u001b[0m                         Traceback (most recent call last)",
      "\u001b[0;32m<ipython-input-2-6e1a5ac768c6>\u001b[0m in \u001b[0;36m<module>\u001b[0;34m()\u001b[0m\n\u001b[0;32m----> 1\u001b[0;31m \u001b[0mmean_impute_df_train_with_labels\u001b[0m \u001b[0;34m=\u001b[0m \u001b[0mpd\u001b[0m\u001b[0;34m.\u001b[0m\u001b[0mread_pickle\u001b[0m\u001b[0;34m(\u001b[0m\u001b[0;34m'Data/mean_impute_df_train_with_labels'\u001b[0m\u001b[0;34m)\u001b[0m\u001b[0;34m\u001b[0m\u001b[0m\n\u001b[0m\u001b[1;32m      2\u001b[0m \u001b[0mmedian_impute_df_train_with_labels\u001b[0m  \u001b[0;34m=\u001b[0m \u001b[0mpd\u001b[0m\u001b[0;34m.\u001b[0m\u001b[0mread_pickle\u001b[0m\u001b[0;34m(\u001b[0m\u001b[0;34m'Data/median_impute_df_train_with_labels'\u001b[0m\u001b[0;34m)\u001b[0m\u001b[0;34m\u001b[0m\u001b[0m\n",
      "\u001b[0;32m/anaconda/envs/py35/lib/python3.5/site-packages/pandas/io/pickle.py\u001b[0m in \u001b[0;36mread_pickle\u001b[0;34m(path)\u001b[0m\n\u001b[1;32m     66\u001b[0m     \u001b[0;32mexcept\u001b[0m\u001b[0;34m:\u001b[0m\u001b[0;34m\u001b[0m\u001b[0m\n\u001b[1;32m     67\u001b[0m         \u001b[0;32mif\u001b[0m \u001b[0mPY3\u001b[0m\u001b[0;34m:\u001b[0m\u001b[0;34m\u001b[0m\u001b[0m\n\u001b[0;32m---> 68\u001b[0;31m             \u001b[0;32mreturn\u001b[0m \u001b[0mtry_read\u001b[0m\u001b[0;34m(\u001b[0m\u001b[0mpath\u001b[0m\u001b[0;34m,\u001b[0m \u001b[0mencoding\u001b[0m\u001b[0;34m=\u001b[0m\u001b[0;34m'latin1'\u001b[0m\u001b[0;34m)\u001b[0m\u001b[0;34m\u001b[0m\u001b[0m\n\u001b[0m\u001b[1;32m     69\u001b[0m         \u001b[0;32mraise\u001b[0m\u001b[0;34m\u001b[0m\u001b[0m\n\u001b[1;32m     70\u001b[0m \u001b[0;34m\u001b[0m\u001b[0m\n",
      "\u001b[0;32m/anaconda/envs/py35/lib/python3.5/site-packages/pandas/io/pickle.py\u001b[0m in \u001b[0;36mtry_read\u001b[0;34m(path, encoding)\u001b[0m\n\u001b[1;32m     59\u001b[0m             \u001b[0;31m# compat pickle\u001b[0m\u001b[0;34m\u001b[0m\u001b[0;34m\u001b[0m\u001b[0m\n\u001b[1;32m     60\u001b[0m             \u001b[0;32mexcept\u001b[0m\u001b[0;34m:\u001b[0m\u001b[0;34m\u001b[0m\u001b[0m\n\u001b[0;32m---> 61\u001b[0;31m                 \u001b[0;32mwith\u001b[0m \u001b[0mopen\u001b[0m\u001b[0;34m(\u001b[0m\u001b[0mpath\u001b[0m\u001b[0;34m,\u001b[0m \u001b[0;34m'rb'\u001b[0m\u001b[0;34m)\u001b[0m \u001b[0;32mas\u001b[0m \u001b[0mfh\u001b[0m\u001b[0;34m:\u001b[0m\u001b[0;34m\u001b[0m\u001b[0m\n\u001b[0m\u001b[1;32m     62\u001b[0m                     \u001b[0;32mreturn\u001b[0m \u001b[0mpc\u001b[0m\u001b[0;34m.\u001b[0m\u001b[0mload\u001b[0m\u001b[0;34m(\u001b[0m\u001b[0mfh\u001b[0m\u001b[0;34m,\u001b[0m \u001b[0mencoding\u001b[0m\u001b[0;34m=\u001b[0m\u001b[0mencoding\u001b[0m\u001b[0;34m,\u001b[0m \u001b[0mcompat\u001b[0m\u001b[0;34m=\u001b[0m\u001b[0;32mTrue\u001b[0m\u001b[0;34m)\u001b[0m\u001b[0;34m\u001b[0m\u001b[0m\n\u001b[1;32m     63\u001b[0m \u001b[0;34m\u001b[0m\u001b[0m\n",
      "\u001b[0;31mFileNotFoundError\u001b[0m: [Errno 2] No such file or directory: 'Data/mean_impute_df_train_with_labels'"
     ]
    }
   ],
   "source": [
    "mean_impute_df_train_with_labels = pd.read_pickle('Data/mean_impute_df_train_with_labels')\n",
    "median_impute_df_train_with_labels  = pd.read_pickle('Data/median_impute_df_train_with_labels')"
   ]
  },
  {
   "cell_type": "code",
   "execution_count": 3,
   "metadata": {
    "collapsed": false
   },
   "outputs": [],
   "source": [
    "final_over_balanced =  pd.read_pickle('final_over_balanced_decimals')"
   ]
  },
  {
   "cell_type": "code",
   "execution_count": 4,
   "metadata": {
    "collapsed": true
   },
   "outputs": [],
   "source": [
    "df_prediction =  pd.read_pickle('df_prediction')"
   ]
  },
  {
   "cell_type": "markdown",
   "metadata": {},
   "source": [
    "Read files from pickles...we are reading full dataframes, with columns of features attached to label columns. Function below is used to split features from class labels and make models and predictions."
   ]
  },
  {
   "cell_type": "markdown",
   "metadata": {},
   "source": [
    "# Train"
   ]
  },
  {
   "cell_type": "markdown",
   "metadata": {},
   "source": [
    "## Prepare data"
   ]
  },
  {
   "cell_type": "markdown",
   "metadata": {},
   "source": [
    "Split features and labels."
   ]
  },
  {
   "cell_type": "code",
   "execution_count": 5,
   "metadata": {
    "collapsed": true
   },
   "outputs": [],
   "source": [
    "# split data into features and labels\n",
    "def split_data(df, label='materialHardship'):\n",
    "    copy = df.copy() # copy df so i dont alter original df by popping\n",
    "    y = copy.pop(label) # pop label\n",
    "    return copy, y"
   ]
  },
  {
   "cell_type": "markdown",
   "metadata": {},
   "source": [
    "Return features and labels...feed split_data function a full data frame. This can be any from the above imports."
   ]
  },
  {
   "cell_type": "code",
   "execution_count": 6,
   "metadata": {
    "collapsed": true
   },
   "outputs": [],
   "source": [
    "copy, mh = split_data(median_impute_df_train_with_labels)"
   ]
  },
  {
   "cell_type": "markdown",
   "metadata": {},
   "source": [
    "Test_train split. I call the test data the \"validation\" data because I think it is a better, less ambiguous term."
   ]
  },
  {
   "cell_type": "code",
   "execution_count": 7,
   "metadata": {
    "collapsed": true
   },
   "outputs": [],
   "source": [
    "x_train_med, x_valid_med, y_train_med, y_valid_med = train_test_split(copy, mh, test_size=0.2) #train test split"
   ]
  },
  {
   "cell_type": "code",
   "execution_count": 24,
   "metadata": {
    "collapsed": true
   },
   "outputs": [],
   "source": [
    "num_rd = [1,5]\n",
    "i=1\n",
    "paramms = {\n",
    "        \"eval_metric\" : 'rmse',\n",
    "        'objective' : 'reg:logistic',\n",
    "        'eta' : 1,\n",
    "        'max_depth': 1\n",
    "       }"
   ]
  },
  {
   "cell_type": "code",
   "execution_count": 33,
   "metadata": {
    "collapsed": false
   },
   "outputs": [
    {
     "name": "stdout",
     "output_type": "stream",
     "text": [
      "[0]\ttrain-rmse:0.165208\tvalid-rmse:0.167366\n",
      "[1]\ttrain-rmse:0.146634\tvalid-rmse:0.148812\n",
      "[2]\ttrain-rmse:0.142543\tvalid-rmse:0.1524\n",
      "[3]\ttrain-rmse:0.140582\tvalid-rmse:0.153174\n",
      "[4]\ttrain-rmse:0.139138\tvalid-rmse:0.151126\n",
      "[5]\ttrain-rmse:0.136243\tvalid-rmse:0.152386\n",
      "[6]\ttrain-rmse:0.135252\tvalid-rmse:0.150792\n",
      "[7]\ttrain-rmse:0.133376\tvalid-rmse:0.1508\n",
      "[8]\ttrain-rmse:0.131582\tvalid-rmse:0.151857\n",
      "[9]\ttrain-rmse:0.130457\tvalid-rmse:0.152296\n",
      "[10]\ttrain-rmse:0.128985\tvalid-rmse:0.152222\n",
      "[11]\ttrain-rmse:0.127251\tvalid-rmse:0.154056\n",
      "[12]\ttrain-rmse:0.126129\tvalid-rmse:0.156677\n",
      "[13]\ttrain-rmse:0.125491\tvalid-rmse:0.156607\n",
      "[14]\ttrain-rmse:0.124075\tvalid-rmse:0.154831\n",
      "[15]\ttrain-rmse:0.123678\tvalid-rmse:0.156836\n",
      "[16]\ttrain-rmse:0.122783\tvalid-rmse:0.156009\n",
      "[17]\ttrain-rmse:0.12193\tvalid-rmse:0.156241\n",
      "[18]\ttrain-rmse:0.120896\tvalid-rmse:0.156235\n",
      "[19]\ttrain-rmse:0.119845\tvalid-rmse:0.157519\n",
      "[20]\ttrain-rmse:0.118846\tvalid-rmse:0.158999\n",
      "[21]\ttrain-rmse:0.118035\tvalid-rmse:0.160073\n",
      "[22]\ttrain-rmse:0.11779\tvalid-rmse:0.159373\n",
      "[23]\ttrain-rmse:0.116676\tvalid-rmse:0.160885\n",
      "[24]\ttrain-rmse:0.115415\tvalid-rmse:0.160751\n",
      "[25]\ttrain-rmse:0.114892\tvalid-rmse:0.163937\n",
      "[26]\ttrain-rmse:0.113409\tvalid-rmse:0.160999\n",
      "[27]\ttrain-rmse:0.112422\tvalid-rmse:0.158819\n",
      "[28]\ttrain-rmse:0.111719\tvalid-rmse:0.160397\n",
      "[29]\ttrain-rmse:0.110635\tvalid-rmse:0.161286\n",
      "[30]\ttrain-rmse:0.110244\tvalid-rmse:0.160329\n",
      "[31]\ttrain-rmse:0.109637\tvalid-rmse:0.162092\n",
      "[32]\ttrain-rmse:0.108791\tvalid-rmse:0.16185\n",
      "[33]\ttrain-rmse:0.107938\tvalid-rmse:0.162614\n",
      "[34]\ttrain-rmse:0.106867\tvalid-rmse:0.162903\n",
      "[35]\ttrain-rmse:0.105718\tvalid-rmse:0.161888\n",
      "[36]\ttrain-rmse:0.105011\tvalid-rmse:0.161997\n",
      "[37]\ttrain-rmse:0.104476\tvalid-rmse:0.162445\n",
      "[38]\ttrain-rmse:0.103797\tvalid-rmse:0.163456\n",
      "[39]\ttrain-rmse:0.103278\tvalid-rmse:0.163369\n",
      "[40]\ttrain-rmse:0.102156\tvalid-rmse:0.164517\n",
      "[41]\ttrain-rmse:0.101188\tvalid-rmse:0.165351\n",
      "[42]\ttrain-rmse:0.099919\tvalid-rmse:0.165954\n",
      "[43]\ttrain-rmse:0.098951\tvalid-rmse:0.165351\n",
      "[44]\ttrain-rmse:0.098245\tvalid-rmse:0.165633\n",
      "[45]\ttrain-rmse:0.097881\tvalid-rmse:0.165843\n",
      "[46]\ttrain-rmse:0.097229\tvalid-rmse:0.165236\n",
      "[47]\ttrain-rmse:0.096454\tvalid-rmse:0.164362\n",
      "[48]\ttrain-rmse:0.095673\tvalid-rmse:0.165756\n",
      "[49]\ttrain-rmse:0.09502\tvalid-rmse:0.166219\n",
      "[50]\ttrain-rmse:0.09442\tvalid-rmse:0.165895\n",
      "[51]\ttrain-rmse:0.093542\tvalid-rmse:0.166027\n",
      "[52]\ttrain-rmse:0.093096\tvalid-rmse:0.164928\n",
      "[53]\ttrain-rmse:0.092327\tvalid-rmse:0.166092\n",
      "[54]\ttrain-rmse:0.091564\tvalid-rmse:0.166857\n",
      "[55]\ttrain-rmse:0.091135\tvalid-rmse:0.167063\n",
      "[56]\ttrain-rmse:0.090441\tvalid-rmse:0.166257\n",
      "[57]\ttrain-rmse:0.089906\tvalid-rmse:0.165584\n",
      "[58]\ttrain-rmse:0.089232\tvalid-rmse:0.165499\n",
      "[59]\ttrain-rmse:0.088871\tvalid-rmse:0.165185\n",
      "[60]\ttrain-rmse:0.087951\tvalid-rmse:0.165416\n",
      "[61]\ttrain-rmse:0.087179\tvalid-rmse:0.168469\n",
      "[62]\ttrain-rmse:0.086502\tvalid-rmse:0.167187\n",
      "[63]\ttrain-rmse:0.085798\tvalid-rmse:0.167586\n",
      "[64]\ttrain-rmse:0.085208\tvalid-rmse:0.167812\n",
      "[65]\ttrain-rmse:0.084753\tvalid-rmse:0.167653\n",
      "[66]\ttrain-rmse:0.084202\tvalid-rmse:0.167062\n",
      "[67]\ttrain-rmse:0.083764\tvalid-rmse:0.166565\n",
      "[68]\ttrain-rmse:0.083429\tvalid-rmse:0.16776\n",
      "[69]\ttrain-rmse:0.082932\tvalid-rmse:0.168457\n",
      "[70]\ttrain-rmse:0.082405\tvalid-rmse:0.168195\n",
      "[71]\ttrain-rmse:0.081917\tvalid-rmse:0.16852\n",
      "[72]\ttrain-rmse:0.081135\tvalid-rmse:0.169164\n",
      "[73]\ttrain-rmse:0.08082\tvalid-rmse:0.169989\n",
      "[74]\ttrain-rmse:0.080343\tvalid-rmse:0.168265\n",
      "[75]\ttrain-rmse:0.080264\tvalid-rmse:0.16806\n",
      "[76]\ttrain-rmse:0.079464\tvalid-rmse:0.167919\n",
      "[77]\ttrain-rmse:0.079042\tvalid-rmse:0.168198\n",
      "[78]\ttrain-rmse:0.078083\tvalid-rmse:0.168692\n",
      "[79]\ttrain-rmse:0.077789\tvalid-rmse:0.169035\n",
      "[80]\ttrain-rmse:0.077299\tvalid-rmse:0.169035\n",
      "[81]\ttrain-rmse:0.07685\tvalid-rmse:0.169339\n",
      "[82]\ttrain-rmse:0.0765\tvalid-rmse:0.169712\n",
      "[83]\ttrain-rmse:0.076068\tvalid-rmse:0.169205\n",
      "[84]\ttrain-rmse:0.075931\tvalid-rmse:0.169849\n",
      "[85]\ttrain-rmse:0.07554\tvalid-rmse:0.170269\n",
      "[86]\ttrain-rmse:0.075148\tvalid-rmse:0.171549\n",
      "[87]\ttrain-rmse:0.074781\tvalid-rmse:0.171735\n",
      "[88]\ttrain-rmse:0.07421\tvalid-rmse:0.172078\n",
      "[89]\ttrain-rmse:0.07366\tvalid-rmse:0.170541\n",
      "[90]\ttrain-rmse:0.073312\tvalid-rmse:0.170876\n",
      "[91]\ttrain-rmse:0.072705\tvalid-rmse:0.170855\n",
      "[92]\ttrain-rmse:0.072131\tvalid-rmse:0.171458\n",
      "[93]\ttrain-rmse:0.071905\tvalid-rmse:0.171579\n",
      "[94]\ttrain-rmse:0.071148\tvalid-rmse:0.170599\n",
      "[95]\ttrain-rmse:0.070596\tvalid-rmse:0.170608\n",
      "[96]\ttrain-rmse:0.070378\tvalid-rmse:0.169967\n",
      "[97]\ttrain-rmse:0.0701\tvalid-rmse:0.170094\n",
      "[98]\ttrain-rmse:0.069728\tvalid-rmse:0.170838\n",
      "[99]\ttrain-rmse:0.069314\tvalid-rmse:0.170696\n",
      "[100]\ttrain-rmse:0.069038\tvalid-rmse:0.171103\n",
      "[101]\ttrain-rmse:0.06889\tvalid-rmse:0.171144\n",
      "[102]\ttrain-rmse:0.068483\tvalid-rmse:0.171138\n",
      "[103]\ttrain-rmse:0.068165\tvalid-rmse:0.171503\n",
      "[104]\ttrain-rmse:0.067803\tvalid-rmse:0.171569\n",
      "[105]\ttrain-rmse:0.067163\tvalid-rmse:0.171538\n",
      "[106]\ttrain-rmse:0.0666\tvalid-rmse:0.172037\n",
      "[107]\ttrain-rmse:0.06661\tvalid-rmse:0.172063\n",
      "[108]\ttrain-rmse:0.066199\tvalid-rmse:0.173027\n",
      "[109]\ttrain-rmse:0.065786\tvalid-rmse:0.173247\n"
     ]
    }
   ],
   "source": [
    "d_train = xgb.DMatrix(x_train_med,y_train_med/11) # make training matrix\n",
    "d_valid = xgb.DMatrix(x_valid_med,y_valid_med/11) # make valid matrix\n",
    "watchlist = [(d_train, 'train'), (d_valid, 'valid')]\n",
    "\n",
    "bst = xgb.train(params=paramms,  # train on train matrix with params\n",
    "            dtrain=d_train,\n",
    "            evals = watchlist,\n",
    "         num_boost_round=110) "
   ]
  },
  {
   "cell_type": "code",
   "execution_count": 12,
   "metadata": {
    "collapsed": true
   },
   "outputs": [],
   "source": [
    "df_prediction_good_cols = df_prediction[x_train_med.columns.values] # keep the columns that are in training data..."
   ]
  },
  {
   "cell_type": "code",
   "execution_count": 13,
   "metadata": {
    "collapsed": false
   },
   "outputs": [
    {
     "data": {
      "text/plain": [
       "array([ 0.06372276,  0.09408692,  0.10678589, ...,  0.12403089,\n",
       "        0.03858319,  0.03551216], dtype=float32)"
      ]
     },
     "execution_count": 13,
     "metadata": {},
     "output_type": "execute_result"
    }
   ],
   "source": [
    "bst.predict(xgb.DMatrix(df_prediction_good_cols))"
   ]
  },
  {
   "cell_type": "code",
   "execution_count": 15,
   "metadata": {
    "collapsed": false
   },
   "outputs": [],
   "source": [
    "d = bst.get_fscore()\n",
    "\n",
    "def get_feature_df(d):\n",
    "    '''given xgboost feature score object\n",
    "    put into pretty df'''\n",
    "    feature = []\n",
    "    f_importance = []\n",
    "    for w in sorted(d, key=d.get, reverse=True):\n",
    "        feature.append(w)\n",
    "        f_importance.append(d[w])\n",
    "\n",
    "    feature_import_df = pd.DataFrame(\n",
    "        {'feature': feature,\n",
    "         'feature importance': f_importance,\n",
    "        })\n",
    "    return feature_import_df"
   ]
  },
  {
   "cell_type": "code",
   "execution_count": 16,
   "metadata": {
    "collapsed": false
   },
   "outputs": [
    {
     "data": {
      "text/html": [
       "<div>\n",
       "<table border=\"1\" class=\"dataframe\">\n",
       "  <thead>\n",
       "    <tr style=\"text-align: right;\">\n",
       "      <th></th>\n",
       "      <th>feature</th>\n",
       "      <th>feature importance</th>\n",
       "    </tr>\n",
       "  </thead>\n",
       "  <tbody>\n",
       "    <tr>\n",
       "      <th>0</th>\n",
       "      <td>m4i23o</td>\n",
       "      <td>1</td>\n",
       "    </tr>\n",
       "    <tr>\n",
       "      <th>1</th>\n",
       "      <td>m5f23e</td>\n",
       "      <td>1</td>\n",
       "    </tr>\n",
       "    <tr>\n",
       "      <th>2</th>\n",
       "      <td>m5f23a</td>\n",
       "      <td>1</td>\n",
       "    </tr>\n",
       "    <tr>\n",
       "      <th>3</th>\n",
       "      <td>hv5_mwtlb</td>\n",
       "      <td>1</td>\n",
       "    </tr>\n",
       "    <tr>\n",
       "      <th>4</th>\n",
       "      <td>p5q3k</td>\n",
       "      <td>1</td>\n",
       "    </tr>\n",
       "  </tbody>\n",
       "</table>\n",
       "</div>"
      ],
      "text/plain": [
       "     feature  feature importance\n",
       "0     m4i23o                   1\n",
       "1     m5f23e                   1\n",
       "2     m5f23a                   1\n",
       "3  hv5_mwtlb                   1\n",
       "4      p5q3k                   1"
      ]
     },
     "execution_count": 16,
     "metadata": {},
     "output_type": "execute_result"
    }
   ],
   "source": [
    "get_feature_df(d).head()"
   ]
  },
  {
   "cell_type": "code",
   "execution_count": 18,
   "metadata": {
    "collapsed": false
   },
   "outputs": [],
   "source": [
    "predy = bst.predict(xgb.DMatrix(df_prediction_good_cols))"
   ]
  },
  {
   "cell_type": "code",
   "execution_count": 20,
   "metadata": {
    "collapsed": false
   },
   "outputs": [],
   "source": [
    "train_preds = bst.predict(xgb.DMatrix(x_train_med))"
   ]
  },
  {
   "cell_type": "code",
   "execution_count": 21,
   "metadata": {
    "collapsed": false
   },
   "outputs": [
    {
     "data": {
      "text/plain": [
       "array([ 0.06372276,  0.09408692,  0.10678589, ...,  0.12403089,\n",
       "        0.03858319,  0.03551216], dtype=float32)"
      ]
     },
     "execution_count": 21,
     "metadata": {},
     "output_type": "execute_result"
    }
   ],
   "source": [
    "predy"
   ]
  },
  {
   "cell_type": "code",
   "execution_count": 22,
   "metadata": {
    "collapsed": false
   },
   "outputs": [
    {
     "data": {
      "text/plain": [
       "array([ 0.03551216,  0.01381226,  0.09715381, ...,  0.0935094 ,\n",
       "        0.0349783 ,  0.08616438], dtype=float32)"
      ]
     },
     "execution_count": 22,
     "metadata": {},
     "output_type": "execute_result"
    }
   ],
   "source": [
    "train_preds"
   ]
  },
  {
   "cell_type": "code",
   "execution_count": 23,
   "metadata": {
    "collapsed": false
   },
   "outputs": [
    {
     "data": {
      "text/plain": [
       "3.7765038414097667"
      ]
     },
     "execution_count": 23,
     "metadata": {},
     "output_type": "execute_result"
    }
   ],
   "source": [
    "mean_squared_error(y_train_med, train_preds)"
   ]
  },
  {
   "cell_type": "code",
   "execution_count": 37,
   "metadata": {
    "collapsed": false
   },
   "outputs": [
    {
     "data": {
      "image/png": "[encoded data removed]",
      "text/plain": [
       "<matplotlib.figure.Figure at 0x116f5f5c0>"
      ]
     },
     "metadata": {},
     "output_type": "display_data"
    }
   ],
   "source": [
    "xgb.plot_importance(bst,max_num_features=20)\n",
    "plt.show()"
   ]
  },
  {
   "cell_type": "markdown",
   "metadata": {},
   "source": [
    "# Parameter selection here!"
   ]
  },
  {
   "cell_type": "markdown",
   "metadata": {},
   "source": [
    "## Below...plug in some parameters you would like to choose between. This has only 1 for loop at the moment, indicating that you can only loop through a list of 1 parameter. Obviously, this is complicated, because certain parameters (all parameters?) interact, so it would probably be better to loop through multiple at a time. I could write code to do this, but this works fine for now to just investigate one. "
   ]
  },
  {
   "cell_type": "code",
   "execution_count": 44,
   "metadata": {
    "collapsed": false
   },
   "outputs": [
    {
     "name": "stdout",
     "output_type": "stream",
     "text": [
      "training model 0\n",
      "[0]\ttrain-rmse:0.165208\tvalid-rmse:0.167366\n",
      "training model 1\n",
      "[0]\ttrain-rmse:0.165208\tvalid-rmse:0.167366\n",
      "[1]\ttrain-rmse:0.146634\tvalid-rmse:0.148812\n",
      "[2]\ttrain-rmse:0.142543\tvalid-rmse:0.1524\n",
      "[3]\ttrain-rmse:0.140582\tvalid-rmse:0.153174\n",
      "[4]\ttrain-rmse:0.139138\tvalid-rmse:0.151126\n",
      "[5]\ttrain-rmse:0.136243\tvalid-rmse:0.152386\n",
      "[6]\ttrain-rmse:0.135252\tvalid-rmse:0.150792\n",
      "[7]\ttrain-rmse:0.133376\tvalid-rmse:0.1508\n",
      "[8]\ttrain-rmse:0.131582\tvalid-rmse:0.151857\n",
      "[9]\ttrain-rmse:0.130457\tvalid-rmse:0.152296\n"
     ]
    }
   ],
   "source": [
    "# where errors go \n",
    "errs = []\n",
    "models = []\n",
    "# PARAMS\n",
    "########\n",
    "paramms = {\n",
    "            \"eval_metric\" : 'rmse',\n",
    "            'objective' : 'reg:logistic',\n",
    "            'eta' : 1,\n",
    "            'max_depth': 1\n",
    "           }\n",
    "num_rd = [1,10]\n",
    "# TRAININGS\n",
    "########\n",
    "\n",
    "for i in range(len(num_rd)):    # params!\n",
    "    d_train = xgb.DMatrix(x_train_med,y_train_med/11) # make training matrix\n",
    "    d_valid = xgb.DMatrix(x_valid_med,y_valid_med/11) # make valid matrix\n",
    "    watchlist = [(d_train, 'train'), (d_valid, 'valid')]\n",
    "    print('training model {}'.format(i))\n",
    "    bst = xgb.train(params=paramms,  # train on train matrix with params\n",
    "                dtrain=d_train,\n",
    "                evals = watchlist,\n",
    "             num_boost_round=num_rd[i]) \n",
    "    models.append(bst) # add model to list of models we have tried\n",
    "    # errors\n",
    "    train_preds = bst.predict(xgb.DMatrix(x_train_med))\n",
    "    mse = mean_squared_error(y_train_med, train_preds) \n",
    "    errs.append(mse) # add mse to list"
   ]
  },
  {
   "cell_type": "code",
   "execution_count": 46,
   "metadata": {
    "collapsed": false
   },
   "outputs": [
    {
     "data": {
      "text/plain": [
       "[<xgboost.core.Booster at 0x12472b198>, <xgboost.core.Booster at 0x12472b048>]"
      ]
     },
     "execution_count": 46,
     "metadata": {},
     "output_type": "execute_result"
    }
   ],
   "source": [
    "models"
   ]
  },
  {
   "cell_type": "markdown",
   "metadata": {},
   "source": [
    "# FINALLY\n",
    "\n",
    "jeez...spent too much time trying to finesse. tried to work with classes. tried to use sklearn grid search. this was much easier. i can clean up a bit, but this isn't that hard to plug into. now i can try different parameters and pick model with lowest vlaidation error!"
   ]
  },
  {
   "cell_type": "markdown",
   "metadata": {},
   "source": [
    "# Create Submission file"
   ]
  },
  {
   "cell_type": "code",
   "execution_count": 129,
   "metadata": {
    "collapsed": false
   },
   "outputs": [
    {
     "name": "stdout",
     "output_type": "stream",
     "text": [
      "create submission\n"
     ]
    },
    {
     "data": {
      "text/html": [
       "<div>\n",
       "<table border=\"1\" class=\"dataframe\">\n",
       "  <thead>\n",
       "    <tr style=\"text-align: right;\">\n",
       "      <th></th>\n",
       "      <th>challengeID</th>\n",
       "      <th>materialHardship</th>\n",
       "    </tr>\n",
       "  </thead>\n",
       "  <tbody>\n",
       "    <tr>\n",
       "      <th>0</th>\n",
       "      <td>1</td>\n",
       "      <td>0.228553</td>\n",
       "    </tr>\n",
       "    <tr>\n",
       "      <th>1</th>\n",
       "      <td>2</td>\n",
       "      <td>0.208423</td>\n",
       "    </tr>\n",
       "    <tr>\n",
       "      <th>2</th>\n",
       "      <td>3</td>\n",
       "      <td>0.192934</td>\n",
       "    </tr>\n",
       "    <tr>\n",
       "      <th>3</th>\n",
       "      <td>4</td>\n",
       "      <td>0.217176</td>\n",
       "    </tr>\n",
       "    <tr>\n",
       "      <th>4</th>\n",
       "      <td>5</td>\n",
       "      <td>0.100321</td>\n",
       "    </tr>\n",
       "    <tr>\n",
       "      <th>7</th>\n",
       "      <td>8</td>\n",
       "      <td>0.186167</td>\n",
       "    </tr>\n",
       "    <tr>\n",
       "      <th>10</th>\n",
       "      <td>11</td>\n",
       "      <td>0.210725</td>\n",
       "    </tr>\n",
       "    <tr>\n",
       "      <th>11</th>\n",
       "      <td>12</td>\n",
       "      <td>0.084569</td>\n",
       "    </tr>\n",
       "    <tr>\n",
       "      <th>14</th>\n",
       "      <td>15</td>\n",
       "      <td>0.121868</td>\n",
       "    </tr>\n",
       "    <tr>\n",
       "      <th>16</th>\n",
       "      <td>17</td>\n",
       "      <td>0.103562</td>\n",
       "    </tr>\n",
       "  </tbody>\n",
       "</table>\n",
       "</div>"
      ],
      "text/plain": [
       "    challengeID  materialHardship\n",
       "0             1          0.228553\n",
       "1             2          0.208423\n",
       "2             3          0.192934\n",
       "3             4          0.217176\n",
       "4             5          0.100321\n",
       "7             8          0.186167\n",
       "10           11          0.210725\n",
       "11           12          0.084569\n",
       "14           15          0.121868\n",
       "16           17          0.103562"
      ]
     },
     "execution_count": 129,
     "metadata": {},
     "output_type": "execute_result"
    }
   ],
   "source": [
    "# Need to add train labels to submission too, I think\n",
    "print('create submission')\n",
    "preds = pd.DataFrame()\n",
    "preds['challengeID'] = df_prediction['challengeID']\n",
    "preds['materialHardship'] = p_test\n",
    "preds.sort_values(by='challengeID').head(10)"
   ]
  },
  {
   "cell_type": "code",
   "execution_count": 131,
   "metadata": {
    "collapsed": false
   },
   "outputs": [],
   "source": [
    "# tack on given train values\n",
    "sub = preds.append(non_na_y_train_materialHardship)\n",
    "sub.sort_values(by='challengeID').head(15)\n",
    "\n",
    "sub.to_csv('simple_xgb.csv', index=False)"
   ]
  },
  {
   "cell_type": "markdown",
   "metadata": {
    "collapsed": true
   },
   "source": [
    "Here, we send in a submission that predicts all missing values (both missing MH values from train set and also values for IDs that were never in train to start). "
   ]
  },
  {
   "cell_type": "code",
   "execution_count": null,
   "metadata": {
    "collapsed": true
   },
   "outputs": [],
   "source": []
  }
 ],
 "metadata": {
  "kernelspec": {
   "display_name": "Python 3",
   "language": "python",
   "name": "python3"
  },
  "language_info": {
   "codemirror_mode": {
    "name": "ipython",
    "version": 3
   },
   "file_extension": ".py",
   "mimetype": "text/x-python",
   "name": "python",
   "nbconvert_exporter": "python",
   "pygments_lexer": "ipython3",
   "version": "3.5.2"
  }
 },
 "nbformat": 4,
 "nbformat_minor": 2
}
