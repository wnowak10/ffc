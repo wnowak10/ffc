{
 "cells": [
  {
   "cell_type": "markdown",
   "metadata": {
    "collapsed": true
   },
   "source": [
    "# Prepare data (just for materialHardship)"
   ]
  },
  {
   "cell_type": "code",
   "execution_count": 1,
   "metadata": {
    "collapsed": false
   },
   "outputs": [],
   "source": [
    "import numpy as np\n",
    "import pandas as pd\n",
    "import xgboost as xgb\n",
    "from sklearn.model_selection import train_test_split\n",
    "import matplotlib.pyplot as plt\n",
    "\n",
    "# from missing_values import final_over_balanced, df_train, median_impute_df_train, median_impute_df_train"
   ]
  },
  {
   "cell_type": "code",
   "execution_count": 2,
   "metadata": {
    "collapsed": true
   },
   "outputs": [],
   "source": [
    "mean_impute_df_train, median_impute_df_train, final_over_balanced = pd.read_pickle('mean_impute_df_train'), pd.read_pickle('median_impute_df_train'), pd.read_pickle('final_over_balanced')"
   ]
  },
  {
   "cell_type": "code",
   "execution_count": 3,
   "metadata": {
    "collapsed": false
   },
   "outputs": [
    {
     "data": {
      "text/plain": [
       "(5668, 11986)"
      ]
     },
     "execution_count": 3,
     "metadata": {},
     "output_type": "execute_result"
    }
   ],
   "source": [
    "final_over_balanced.shape"
   ]
  },
  {
   "cell_type": "markdown",
   "metadata": {},
   "source": [
    "See missing_values notebook for full explanation of the preceding dataframes. We'll do some testing here to see which seems to work best on validation data."
   ]
  },
  {
   "cell_type": "code",
   "execution_count": 4,
   "metadata": {
    "collapsed": false
   },
   "outputs": [
    {
     "name": "stdout",
     "output_type": "stream",
     "text": [
      "reading in csv files\n",
      "read background.csv\n",
      "read train.csv\n",
      "read prediction.csv\n",
      "Files read\n"
     ]
    }
   ],
   "source": [
    "np.random.seed(1234)\n",
    "print('reading in csv files')\n",
    "# File read in\n",
    "# See documentation for more descriptions\n",
    "# http://www.fragilefamilieschallenge.org/apply/\n",
    "background = pd.read_csv('background.csv', low_memory=False)\n",
    "print('read background.csv')\n",
    "train = pd.read_csv('train.csv', low_memory=False)\n",
    "print('read train.csv')\n",
    "prediction = pd.read_csv('prediction.csv', low_memory=False)\n",
    "print('read prediction.csv')\n",
    "print(\"Files read\")"
   ]
  },
  {
   "cell_type": "markdown",
   "metadata": {},
   "source": [
    "Background is super WIDE. We have only 4242 IDs, but almost 13k features!"
   ]
  },
  {
   "cell_type": "code",
   "execution_count": 5,
   "metadata": {
    "collapsed": false
   },
   "outputs": [
    {
     "data": {
      "text/plain": [
       "(4242, 12943)"
      ]
     },
     "execution_count": 5,
     "metadata": {},
     "output_type": "execute_result"
    }
   ],
   "source": [
    "background.shape"
   ]
  },
  {
   "cell_type": "markdown",
   "metadata": {},
   "source": [
    "OK...so they want predictions for...everything. So we are going to make a **training** set using the rows of background that have non-NA values for materialHardship.\n",
    "\n",
    "Then we need to make predictions for every challengeID that is a) not train or b) is in train by has NA for materialHardship "
   ]
  },
  {
   "cell_type": "code",
   "execution_count": 35,
   "metadata": {
    "collapsed": false
   },
   "outputs": [
    {
     "data": {
      "text/html": [
       "<div>\n",
       "<table border=\"1\" class=\"dataframe\">\n",
       "  <thead>\n",
       "    <tr style=\"text-align: right;\">\n",
       "      <th></th>\n",
       "      <th>challengeID</th>\n",
       "      <th>materialHardship</th>\n",
       "    </tr>\n",
       "  </thead>\n",
       "  <tbody>\n",
       "    <tr>\n",
       "      <th>2</th>\n",
       "      <td>6</td>\n",
       "      <td>0.090909</td>\n",
       "    </tr>\n",
       "    <tr>\n",
       "      <th>3</th>\n",
       "      <td>7</td>\n",
       "      <td>0.000000</td>\n",
       "    </tr>\n",
       "    <tr>\n",
       "      <th>5</th>\n",
       "      <td>9</td>\n",
       "      <td>0.181818</td>\n",
       "    </tr>\n",
       "    <tr>\n",
       "      <th>6</th>\n",
       "      <td>10</td>\n",
       "      <td>0.090909</td>\n",
       "    </tr>\n",
       "    <tr>\n",
       "      <th>7</th>\n",
       "      <td>13</td>\n",
       "      <td>0.181818</td>\n",
       "    </tr>\n",
       "  </tbody>\n",
       "</table>\n",
       "</div>"
      ],
      "text/plain": [
       "   challengeID  materialHardship\n",
       "2            6          0.090909\n",
       "3            7          0.000000\n",
       "5            9          0.181818\n",
       "6           10          0.090909\n",
       "7           13          0.181818"
      ]
     },
     "execution_count": 35,
     "metadata": {},
     "output_type": "execute_result"
    }
   ],
   "source": [
    "all_y_train_materialHardship = train[['challengeID', 'materialHardship']]\n",
    "# non NA y_train ds and data\n",
    "non_na_y_train_materialHardship = all_y_train_materialHardship.dropna()\n",
    "non_na_y_train_materialHardship.head()"
   ]
  },
  {
   "cell_type": "code",
   "execution_count": 34,
   "metadata": {
    "collapsed": false
   },
   "outputs": [
    {
     "data": {
      "text/html": [
       "<div>\n",
       "<table border=\"1\" class=\"dataframe\">\n",
       "  <thead>\n",
       "    <tr style=\"text-align: right;\">\n",
       "      <th></th>\n",
       "      <th>challengeID</th>\n",
       "      <th>materialHardship</th>\n",
       "    </tr>\n",
       "  </thead>\n",
       "  <tbody>\n",
       "    <tr>\n",
       "      <th>0</th>\n",
       "      <td>1</td>\n",
       "      <td>NaN</td>\n",
       "    </tr>\n",
       "    <tr>\n",
       "      <th>1</th>\n",
       "      <td>3</td>\n",
       "      <td>NaN</td>\n",
       "    </tr>\n",
       "    <tr>\n",
       "      <th>4</th>\n",
       "      <td>8</td>\n",
       "      <td>NaN</td>\n",
       "    </tr>\n",
       "    <tr>\n",
       "      <th>14</th>\n",
       "      <td>28</td>\n",
       "      <td>NaN</td>\n",
       "    </tr>\n",
       "    <tr>\n",
       "      <th>17</th>\n",
       "      <td>36</td>\n",
       "      <td>NaN</td>\n",
       "    </tr>\n",
       "  </tbody>\n",
       "</table>\n",
       "</div>"
      ],
      "text/plain": [
       "    challengeID  materialHardship\n",
       "0             1               NaN\n",
       "1             3               NaN\n",
       "4             8               NaN\n",
       "14           28               NaN\n",
       "17           36               NaN"
      ]
     },
     "execution_count": 34,
     "metadata": {},
     "output_type": "execute_result"
    }
   ],
   "source": [
    "# y_train_ids that are na\n",
    "na_y_train_materialHardship = all_y_train_materialHardship.loc[~all_y_train_materialHardship['challengeID'].isin(non_na_y_train_materialHardship['challengeID'])]\n",
    "na_y_train_materialHardship.head()"
   ]
  },
  {
   "cell_type": "markdown",
   "metadata": {},
   "source": [
    "Our training set will have all ids that we have non-NA material hardship data for. "
   ]
  },
  {
   "cell_type": "code",
   "execution_count": 19,
   "metadata": {
    "collapsed": false
   },
   "outputs": [
    {
     "data": {
      "text/html": [
       "<div>\n",
       "<table border=\"1\" class=\"dataframe\">\n",
       "  <thead>\n",
       "    <tr style=\"text-align: right;\">\n",
       "      <th></th>\n",
       "      <th>challengeID</th>\n",
       "      <th>m1intmon</th>\n",
       "      <th>m1intyr</th>\n",
       "      <th>m1lenhr</th>\n",
       "      <th>m1lenmin</th>\n",
       "      <th>cm1twoc</th>\n",
       "      <th>cm1fint</th>\n",
       "      <th>cm1tdiff</th>\n",
       "      <th>cm1natsm</th>\n",
       "      <th>m1natwt</th>\n",
       "      <th>...</th>\n",
       "      <th>m4d9</th>\n",
       "      <th>m4e23</th>\n",
       "      <th>f4d6</th>\n",
       "      <th>f4d7</th>\n",
       "      <th>f4d9</th>\n",
       "      <th>m5c6</th>\n",
       "      <th>m5d20</th>\n",
       "      <th>m5k10</th>\n",
       "      <th>f5c6</th>\n",
       "      <th>k5f1</th>\n",
       "    </tr>\n",
       "  </thead>\n",
       "  <tbody>\n",
       "    <tr>\n",
       "      <th>5</th>\n",
       "      <td>6</td>\n",
       "      <td>-3</td>\n",
       "      <td>NaN</td>\n",
       "      <td>0</td>\n",
       "      <td>25</td>\n",
       "      <td>NaN</td>\n",
       "      <td>1</td>\n",
       "      <td>NaN</td>\n",
       "      <td>NaN</td>\n",
       "      <td>NaN</td>\n",
       "      <td>...</td>\n",
       "      <td>8.51570</td>\n",
       "      <td>10.558813</td>\n",
       "      <td>-3.000000</td>\n",
       "      <td>-3.000000</td>\n",
       "      <td>7.022328</td>\n",
       "      <td>-3.000000</td>\n",
       "      <td>10.564085</td>\n",
       "      <td>-3</td>\n",
       "      <td>-3.000000</td>\n",
       "      <td>10.255825</td>\n",
       "    </tr>\n",
       "    <tr>\n",
       "      <th>6</th>\n",
       "      <td>7</td>\n",
       "      <td>-3</td>\n",
       "      <td>NaN</td>\n",
       "      <td>0</td>\n",
       "      <td>35</td>\n",
       "      <td>NaN</td>\n",
       "      <td>1</td>\n",
       "      <td>NaN</td>\n",
       "      <td>NaN</td>\n",
       "      <td>NaN</td>\n",
       "      <td>...</td>\n",
       "      <td>-3.00000</td>\n",
       "      <td>-3.000000</td>\n",
       "      <td>9.660643</td>\n",
       "      <td>9.861125</td>\n",
       "      <td>-3.000000</td>\n",
       "      <td>10.991854</td>\n",
       "      <td>-3.000000</td>\n",
       "      <td>-3</td>\n",
       "      <td>10.972726</td>\n",
       "      <td>10.859800</td>\n",
       "    </tr>\n",
       "    <tr>\n",
       "      <th>8</th>\n",
       "      <td>9</td>\n",
       "      <td>-3</td>\n",
       "      <td>NaN</td>\n",
       "      <td>0</td>\n",
       "      <td>30</td>\n",
       "      <td>NaN</td>\n",
       "      <td>1</td>\n",
       "      <td>NaN</td>\n",
       "      <td>NaN</td>\n",
       "      <td>NaN</td>\n",
       "      <td>...</td>\n",
       "      <td>-3.00000</td>\n",
       "      <td>-3.000000</td>\n",
       "      <td>11.689877</td>\n",
       "      <td>9.373199</td>\n",
       "      <td>-3.000000</td>\n",
       "      <td>8.194868</td>\n",
       "      <td>-3.000000</td>\n",
       "      <td>-3</td>\n",
       "      <td>9.842380</td>\n",
       "      <td>9.566678</td>\n",
       "    </tr>\n",
       "    <tr>\n",
       "      <th>9</th>\n",
       "      <td>10</td>\n",
       "      <td>-3</td>\n",
       "      <td>NaN</td>\n",
       "      <td>0</td>\n",
       "      <td>33</td>\n",
       "      <td>NaN</td>\n",
       "      <td>1</td>\n",
       "      <td>NaN</td>\n",
       "      <td>NaN</td>\n",
       "      <td>NaN</td>\n",
       "      <td>...</td>\n",
       "      <td>-3.00000</td>\n",
       "      <td>-3.000000</td>\n",
       "      <td>-3.000000</td>\n",
       "      <td>-3.000000</td>\n",
       "      <td>-3.000000</td>\n",
       "      <td>-3.000000</td>\n",
       "      <td>10.564085</td>\n",
       "      <td>-3</td>\n",
       "      <td>-3.000000</td>\n",
       "      <td>10.105870</td>\n",
       "    </tr>\n",
       "    <tr>\n",
       "      <th>12</th>\n",
       "      <td>13</td>\n",
       "      <td>-3</td>\n",
       "      <td>NaN</td>\n",
       "      <td>1</td>\n",
       "      <td>-3</td>\n",
       "      <td>NaN</td>\n",
       "      <td>1</td>\n",
       "      <td>NaN</td>\n",
       "      <td>NaN</td>\n",
       "      <td>NaN</td>\n",
       "      <td>...</td>\n",
       "      <td>10.78074</td>\n",
       "      <td>-3.000000</td>\n",
       "      <td>-3.000000</td>\n",
       "      <td>-3.000000</td>\n",
       "      <td>8.944119</td>\n",
       "      <td>-3.000000</td>\n",
       "      <td>9.781718</td>\n",
       "      <td>-3</td>\n",
       "      <td>-3.000000</td>\n",
       "      <td>9.566678</td>\n",
       "    </tr>\n",
       "  </tbody>\n",
       "</table>\n",
       "<p>5 rows × 12943 columns</p>\n",
       "</div>"
      ],
      "text/plain": [
       "    challengeID  m1intmon  m1intyr  m1lenhr  m1lenmin  cm1twoc  cm1fint  \\\n",
       "5             6        -3      NaN        0        25      NaN        1   \n",
       "6             7        -3      NaN        0        35      NaN        1   \n",
       "8             9        -3      NaN        0        30      NaN        1   \n",
       "9            10        -3      NaN        0        33      NaN        1   \n",
       "12           13        -3      NaN        1        -3      NaN        1   \n",
       "\n",
       "    cm1tdiff  cm1natsm  m1natwt    ...          m4d9      m4e23       f4d6  \\\n",
       "5        NaN       NaN      NaN    ...       8.51570  10.558813  -3.000000   \n",
       "6        NaN       NaN      NaN    ...      -3.00000  -3.000000   9.660643   \n",
       "8        NaN       NaN      NaN    ...      -3.00000  -3.000000  11.689877   \n",
       "9        NaN       NaN      NaN    ...      -3.00000  -3.000000  -3.000000   \n",
       "12       NaN       NaN      NaN    ...      10.78074  -3.000000  -3.000000   \n",
       "\n",
       "        f4d7      f4d9       m5c6      m5d20  m5k10       f5c6       k5f1  \n",
       "5  -3.000000  7.022328  -3.000000  10.564085     -3  -3.000000  10.255825  \n",
       "6   9.861125 -3.000000  10.991854  -3.000000     -3  10.972726  10.859800  \n",
       "8   9.373199 -3.000000   8.194868  -3.000000     -3   9.842380   9.566678  \n",
       "9  -3.000000 -3.000000  -3.000000  10.564085     -3  -3.000000  10.105870  \n",
       "12 -3.000000  8.944119  -3.000000   9.781718     -3  -3.000000   9.566678  \n",
       "\n",
       "[5 rows x 12943 columns]"
      ]
     },
     "execution_count": 19,
     "metadata": {},
     "output_type": "execute_result"
    }
   ],
   "source": [
    "df_train = background.loc[background['challengeID'].isin(non_na_y_train_materialHardship['challengeID'])]\n",
    "df_train.head()"
   ]
  },
  {
   "cell_type": "code",
   "execution_count": 32,
   "metadata": {
    "collapsed": false
   },
   "outputs": [
    {
     "data": {
      "text/html": [
       "<div>\n",
       "<table border=\"1\" class=\"dataframe\">\n",
       "  <thead>\n",
       "    <tr style=\"text-align: right;\">\n",
       "      <th></th>\n",
       "      <th>challengeID</th>\n",
       "      <th>m1intmon</th>\n",
       "      <th>m1intyr</th>\n",
       "      <th>m1lenhr</th>\n",
       "      <th>m1lenmin</th>\n",
       "      <th>cm1twoc</th>\n",
       "      <th>cm1fint</th>\n",
       "      <th>cm1tdiff</th>\n",
       "      <th>cm1natsm</th>\n",
       "      <th>m1natwt</th>\n",
       "      <th>...</th>\n",
       "      <th>m4d9</th>\n",
       "      <th>m4e23</th>\n",
       "      <th>f4d6</th>\n",
       "      <th>f4d7</th>\n",
       "      <th>f4d9</th>\n",
       "      <th>m5c6</th>\n",
       "      <th>m5d20</th>\n",
       "      <th>m5k10</th>\n",
       "      <th>f5c6</th>\n",
       "      <th>k5f1</th>\n",
       "    </tr>\n",
       "  </thead>\n",
       "  <tbody>\n",
       "    <tr>\n",
       "      <th>0</th>\n",
       "      <td>1</td>\n",
       "      <td>-3</td>\n",
       "      <td>NaN</td>\n",
       "      <td>-3</td>\n",
       "      <td>40</td>\n",
       "      <td>NaN</td>\n",
       "      <td>0</td>\n",
       "      <td>NaN</td>\n",
       "      <td>NaN</td>\n",
       "      <td>NaN</td>\n",
       "      <td>...</td>\n",
       "      <td>-3.000000</td>\n",
       "      <td>-3.000000</td>\n",
       "      <td>-3.000000</td>\n",
       "      <td>-3.000000</td>\n",
       "      <td>-3.0</td>\n",
       "      <td>-3.000000</td>\n",
       "      <td>-3.000000</td>\n",
       "      <td>-3</td>\n",
       "      <td>-3.000000</td>\n",
       "      <td>-3.000000</td>\n",
       "    </tr>\n",
       "    <tr>\n",
       "      <th>1</th>\n",
       "      <td>2</td>\n",
       "      <td>-3</td>\n",
       "      <td>NaN</td>\n",
       "      <td>0</td>\n",
       "      <td>40</td>\n",
       "      <td>NaN</td>\n",
       "      <td>1</td>\n",
       "      <td>NaN</td>\n",
       "      <td>NaN</td>\n",
       "      <td>NaN</td>\n",
       "      <td>...</td>\n",
       "      <td>-3.000000</td>\n",
       "      <td>8.473318</td>\n",
       "      <td>-3.000000</td>\n",
       "      <td>-3.000000</td>\n",
       "      <td>-3.0</td>\n",
       "      <td>-3.000000</td>\n",
       "      <td>9.845074</td>\n",
       "      <td>-3</td>\n",
       "      <td>-3.000000</td>\n",
       "      <td>9.723551</td>\n",
       "    </tr>\n",
       "    <tr>\n",
       "      <th>2</th>\n",
       "      <td>3</td>\n",
       "      <td>-3</td>\n",
       "      <td>NaN</td>\n",
       "      <td>0</td>\n",
       "      <td>35</td>\n",
       "      <td>NaN</td>\n",
       "      <td>1</td>\n",
       "      <td>NaN</td>\n",
       "      <td>NaN</td>\n",
       "      <td>NaN</td>\n",
       "      <td>...</td>\n",
       "      <td>-3.000000</td>\n",
       "      <td>-3.000000</td>\n",
       "      <td>9.097495</td>\n",
       "      <td>10.071504</td>\n",
       "      <td>-3.0</td>\n",
       "      <td>-3.000000</td>\n",
       "      <td>-3.000000</td>\n",
       "      <td>-3</td>\n",
       "      <td>-3.000000</td>\n",
       "      <td>-3.000000</td>\n",
       "    </tr>\n",
       "    <tr>\n",
       "      <th>3</th>\n",
       "      <td>4</td>\n",
       "      <td>-3</td>\n",
       "      <td>NaN</td>\n",
       "      <td>0</td>\n",
       "      <td>30</td>\n",
       "      <td>NaN</td>\n",
       "      <td>1</td>\n",
       "      <td>NaN</td>\n",
       "      <td>NaN</td>\n",
       "      <td>NaN</td>\n",
       "      <td>...</td>\n",
       "      <td>-3.000000</td>\n",
       "      <td>-3.000000</td>\n",
       "      <td>9.512706</td>\n",
       "      <td>10.286578</td>\n",
       "      <td>-3.0</td>\n",
       "      <td>10.677285</td>\n",
       "      <td>-3.000000</td>\n",
       "      <td>-3</td>\n",
       "      <td>8.522331</td>\n",
       "      <td>10.608137</td>\n",
       "    </tr>\n",
       "    <tr>\n",
       "      <th>4</th>\n",
       "      <td>5</td>\n",
       "      <td>-3</td>\n",
       "      <td>NaN</td>\n",
       "      <td>0</td>\n",
       "      <td>25</td>\n",
       "      <td>NaN</td>\n",
       "      <td>1</td>\n",
       "      <td>NaN</td>\n",
       "      <td>NaN</td>\n",
       "      <td>NaN</td>\n",
       "      <td>...</td>\n",
       "      <td>-3.000000</td>\n",
       "      <td>-3.000000</td>\n",
       "      <td>11.076016</td>\n",
       "      <td>9.615958</td>\n",
       "      <td>-3.0</td>\n",
       "      <td>9.731979</td>\n",
       "      <td>-3.000000</td>\n",
       "      <td>-3</td>\n",
       "      <td>10.115313</td>\n",
       "      <td>9.646466</td>\n",
       "    </tr>\n",
       "    <tr>\n",
       "      <th>7</th>\n",
       "      <td>8</td>\n",
       "      <td>-3</td>\n",
       "      <td>NaN</td>\n",
       "      <td>1</td>\n",
       "      <td>10</td>\n",
       "      <td>NaN</td>\n",
       "      <td>1</td>\n",
       "      <td>NaN</td>\n",
       "      <td>NaN</td>\n",
       "      <td>NaN</td>\n",
       "      <td>...</td>\n",
       "      <td>-3.000000</td>\n",
       "      <td>10.558813</td>\n",
       "      <td>-3.000000</td>\n",
       "      <td>-3.000000</td>\n",
       "      <td>-3.0</td>\n",
       "      <td>-3.000000</td>\n",
       "      <td>-3.000000</td>\n",
       "      <td>-3</td>\n",
       "      <td>-3.000000</td>\n",
       "      <td>-3.000000</td>\n",
       "    </tr>\n",
       "    <tr>\n",
       "      <th>10</th>\n",
       "      <td>11</td>\n",
       "      <td>-3</td>\n",
       "      <td>NaN</td>\n",
       "      <td>0</td>\n",
       "      <td>40</td>\n",
       "      <td>NaN</td>\n",
       "      <td>1</td>\n",
       "      <td>NaN</td>\n",
       "      <td>NaN</td>\n",
       "      <td>NaN</td>\n",
       "      <td>...</td>\n",
       "      <td>-3.000000</td>\n",
       "      <td>10.558813</td>\n",
       "      <td>-3.000000</td>\n",
       "      <td>-3.000000</td>\n",
       "      <td>-3.0</td>\n",
       "      <td>-3.000000</td>\n",
       "      <td>-3.000000</td>\n",
       "      <td>-3</td>\n",
       "      <td>-3.000000</td>\n",
       "      <td>10.724639</td>\n",
       "    </tr>\n",
       "    <tr>\n",
       "      <th>11</th>\n",
       "      <td>12</td>\n",
       "      <td>-3</td>\n",
       "      <td>NaN</td>\n",
       "      <td>0</td>\n",
       "      <td>23</td>\n",
       "      <td>NaN</td>\n",
       "      <td>1</td>\n",
       "      <td>NaN</td>\n",
       "      <td>NaN</td>\n",
       "      <td>NaN</td>\n",
       "      <td>...</td>\n",
       "      <td>11.548771</td>\n",
       "      <td>-3.000000</td>\n",
       "      <td>-3.000000</td>\n",
       "      <td>-3.000000</td>\n",
       "      <td>-3.0</td>\n",
       "      <td>-3.000000</td>\n",
       "      <td>-3.000000</td>\n",
       "      <td>-3</td>\n",
       "      <td>-3.000000</td>\n",
       "      <td>9.566678</td>\n",
       "    </tr>\n",
       "    <tr>\n",
       "      <th>14</th>\n",
       "      <td>15</td>\n",
       "      <td>-3</td>\n",
       "      <td>NaN</td>\n",
       "      <td>0</td>\n",
       "      <td>25</td>\n",
       "      <td>NaN</td>\n",
       "      <td>1</td>\n",
       "      <td>NaN</td>\n",
       "      <td>NaN</td>\n",
       "      <td>NaN</td>\n",
       "      <td>...</td>\n",
       "      <td>-3.000000</td>\n",
       "      <td>-3.000000</td>\n",
       "      <td>-3.000000</td>\n",
       "      <td>-3.000000</td>\n",
       "      <td>-3.0</td>\n",
       "      <td>-3.000000</td>\n",
       "      <td>10.085272</td>\n",
       "      <td>-3</td>\n",
       "      <td>-3.000000</td>\n",
       "      <td>10.255825</td>\n",
       "    </tr>\n",
       "    <tr>\n",
       "      <th>16</th>\n",
       "      <td>17</td>\n",
       "      <td>-3</td>\n",
       "      <td>NaN</td>\n",
       "      <td>-3</td>\n",
       "      <td>32</td>\n",
       "      <td>NaN</td>\n",
       "      <td>1</td>\n",
       "      <td>NaN</td>\n",
       "      <td>NaN</td>\n",
       "      <td>NaN</td>\n",
       "      <td>...</td>\n",
       "      <td>-3.000000</td>\n",
       "      <td>-3.000000</td>\n",
       "      <td>-3.000000</td>\n",
       "      <td>-3.000000</td>\n",
       "      <td>-3.0</td>\n",
       "      <td>10.991854</td>\n",
       "      <td>-3.000000</td>\n",
       "      <td>-3</td>\n",
       "      <td>10.972726</td>\n",
       "      <td>10.415491</td>\n",
       "    </tr>\n",
       "  </tbody>\n",
       "</table>\n",
       "<p>10 rows × 12943 columns</p>\n",
       "</div>"
      ],
      "text/plain": [
       "    challengeID  m1intmon  m1intyr  m1lenhr  m1lenmin  cm1twoc  cm1fint  \\\n",
       "0             1        -3      NaN       -3        40      NaN        0   \n",
       "1             2        -3      NaN        0        40      NaN        1   \n",
       "2             3        -3      NaN        0        35      NaN        1   \n",
       "3             4        -3      NaN        0        30      NaN        1   \n",
       "4             5        -3      NaN        0        25      NaN        1   \n",
       "7             8        -3      NaN        1        10      NaN        1   \n",
       "10           11        -3      NaN        0        40      NaN        1   \n",
       "11           12        -3      NaN        0        23      NaN        1   \n",
       "14           15        -3      NaN        0        25      NaN        1   \n",
       "16           17        -3      NaN       -3        32      NaN        1   \n",
       "\n",
       "    cm1tdiff  cm1natsm  m1natwt    ...           m4d9      m4e23       f4d6  \\\n",
       "0        NaN       NaN      NaN    ...      -3.000000  -3.000000  -3.000000   \n",
       "1        NaN       NaN      NaN    ...      -3.000000   8.473318  -3.000000   \n",
       "2        NaN       NaN      NaN    ...      -3.000000  -3.000000   9.097495   \n",
       "3        NaN       NaN      NaN    ...      -3.000000  -3.000000   9.512706   \n",
       "4        NaN       NaN      NaN    ...      -3.000000  -3.000000  11.076016   \n",
       "7        NaN       NaN      NaN    ...      -3.000000  10.558813  -3.000000   \n",
       "10       NaN       NaN      NaN    ...      -3.000000  10.558813  -3.000000   \n",
       "11       NaN       NaN      NaN    ...      11.548771  -3.000000  -3.000000   \n",
       "14       NaN       NaN      NaN    ...      -3.000000  -3.000000  -3.000000   \n",
       "16       NaN       NaN      NaN    ...      -3.000000  -3.000000  -3.000000   \n",
       "\n",
       "         f4d7  f4d9       m5c6      m5d20  m5k10       f5c6       k5f1  \n",
       "0   -3.000000  -3.0  -3.000000  -3.000000     -3  -3.000000  -3.000000  \n",
       "1   -3.000000  -3.0  -3.000000   9.845074     -3  -3.000000   9.723551  \n",
       "2   10.071504  -3.0  -3.000000  -3.000000     -3  -3.000000  -3.000000  \n",
       "3   10.286578  -3.0  10.677285  -3.000000     -3   8.522331  10.608137  \n",
       "4    9.615958  -3.0   9.731979  -3.000000     -3  10.115313   9.646466  \n",
       "7   -3.000000  -3.0  -3.000000  -3.000000     -3  -3.000000  -3.000000  \n",
       "10  -3.000000  -3.0  -3.000000  -3.000000     -3  -3.000000  10.724639  \n",
       "11  -3.000000  -3.0  -3.000000  -3.000000     -3  -3.000000   9.566678  \n",
       "14  -3.000000  -3.0  -3.000000  10.085272     -3  -3.000000  10.255825  \n",
       "16  -3.000000  -3.0  10.991854  -3.000000     -3  10.972726  10.415491  \n",
       "\n",
       "[10 rows x 12943 columns]"
      ]
     },
     "execution_count": 32,
     "metadata": {},
     "output_type": "execute_result"
    }
   ],
   "source": [
    "# prediction set\n",
    "# all ids in background, excluding train_ids\n",
    "background_non_train_ids = background.loc[~background['challengeID'].isin(train['challengeID'])]\n",
    "\n",
    "# add back in ids that had NA in material hardship train set\n",
    "background_mh_nas = background.loc[background['challengeID'].isin(na_y_train_materialHardship['challengeID'])]\n",
    "# background_mh_nas.head()\n",
    "\n",
    "# combine \n",
    "df_prediction = background_non_train_ids.append(background_mh_nas)\n",
    "df_prediction.sort_values(by='challengeID').head(10)"
   ]
  },
  {
   "cell_type": "markdown",
   "metadata": {},
   "source": [
    "SO, we have the data that we will train on:\n",
    "    \n",
    "    - 'df_train' with labels 'non_na_y_train_materialHardship'\n",
    "    - We'll use this model to predict output (materialHardship) values for 'df_prediction'"
   ]
  },
  {
   "cell_type": "markdown",
   "metadata": {},
   "source": [
    "# XGBoost Model Build"
   ]
  },
  {
   "cell_type": "code",
   "execution_count": 37,
   "metadata": {
    "collapsed": false
   },
   "outputs": [
    {
     "name": "stdout",
     "output_type": "stream",
     "text": [
      "drop non xgb data types\n"
     ]
    }
   ],
   "source": [
    "###############\n",
    "# XGBoost train\n",
    "###############\n",
    "\n",
    "# Only include columns with DataFrame.dtypes\n",
    "# that are int, float or bool.\n",
    "print('drop non xgb data types')\n",
    "df_train_mh_good_dtypes = df_train.select_dtypes(include=(int, float, bool))\n",
    "df_test_mh_good_dtypes = df_prediction.select_dtypes(include=(int, float, bool))"
   ]
  },
  {
   "cell_type": "code",
   "execution_count": 38,
   "metadata": {
    "collapsed": false
   },
   "outputs": [
    {
     "data": {
      "text/plain": [
       "2    0.090909\n",
       "3    0.000000\n",
       "5    0.181818\n",
       "6    0.090909\n",
       "7    0.181818\n",
       "Name: materialHardship, dtype: float64"
      ]
     },
     "execution_count": 38,
     "metadata": {},
     "output_type": "execute_result"
    }
   ],
   "source": [
    "# Get rid of challengeID column for training\n",
    "y_train_mh = non_na_y_train_materialHardship['materialHardship']\n",
    "y_train_mh.head()"
   ]
  },
  {
   "cell_type": "code",
   "execution_count": 39,
   "metadata": {
    "collapsed": false
   },
   "outputs": [
    {
     "name": "stdout",
     "output_type": "stream",
     "text": [
      "validation and training data ready\n"
     ]
    }
   ],
   "source": [
    "# Create validation set\n",
    "x_train, x_valid, y_train, y_valid = train_test_split(df_train_mh_good_dtypes, y_train_mh, test_size=0.2)\n",
    "d_train = xgb.DMatrix(x_train, label=y_train)\n",
    "d_valid = xgb.DMatrix(x_valid, label=y_valid)\n",
    "print('validation and training data ready')"
   ]
  },
  {
   "cell_type": "code",
   "execution_count": 40,
   "metadata": {
    "collapsed": true
   },
   "outputs": [],
   "source": [
    "# Set our parameters for xgboost\n",
    "params = {}\n",
    "params['objective'] = 'reg:logistic'\n",
    "params['eval_metric'] = 'rmse'\n",
    "params['eta'] = 0.02\n",
    "params['max_depth'] = 20\n",
    "\n",
    "watchlist = [(d_train, 'train'), (d_valid, 'valid')]\n"
   ]
  },
  {
   "cell_type": "code",
   "execution_count": 42,
   "metadata": {
    "collapsed": false
   },
   "outputs": [
    {
     "name": "stdout",
     "output_type": "stream",
     "text": [
      "train xgb\n",
      "[0]\ttrain-rmse:0.41714\tvalid-rmse:0.421895\n",
      "Multiple eval metrics have been passed: 'valid-rmse' will be used for early stopping.\n",
      "\n",
      "Will train until valid-rmse hasn't improved in 50 rounds.\n",
      "[4]\ttrain-rmse:0.387825\tvalid-rmse:0.395099\n"
     ]
    }
   ],
   "source": [
    "# XGB train\n",
    "# model = xgb.XGBClassifier()\n",
    "print('train xgb')\n",
    "# bst = model.fit(df_test_mh, y_train_mh)\n",
    "bst = xgb.train(params, d_train, 5, watchlist, early_stopping_rounds=50, verbose_eval=10)\n"
   ]
  },
  {
   "cell_type": "code",
   "execution_count": 43,
   "metadata": {
    "collapsed": false
   },
   "outputs": [
    {
     "data": {
      "text/html": [
       "<div>\n",
       "<table border=\"1\" class=\"dataframe\">\n",
       "  <thead>\n",
       "    <tr style=\"text-align: right;\">\n",
       "      <th></th>\n",
       "      <th>feature</th>\n",
       "      <th>feature importance</th>\n",
       "    </tr>\n",
       "  </thead>\n",
       "  <tbody>\n",
       "    <tr>\n",
       "      <th>0</th>\n",
       "      <td>m2b5c1</td>\n",
       "      <td>6</td>\n",
       "    </tr>\n",
       "    <tr>\n",
       "      <th>1</th>\n",
       "      <td>f2h8c2</td>\n",
       "      <td>5</td>\n",
       "    </tr>\n",
       "    <tr>\n",
       "      <th>2</th>\n",
       "      <td>m4k24e</td>\n",
       "      <td>5</td>\n",
       "    </tr>\n",
       "    <tr>\n",
       "      <th>3</th>\n",
       "      <td>f2k12a</td>\n",
       "      <td>5</td>\n",
       "    </tr>\n",
       "    <tr>\n",
       "      <th>4</th>\n",
       "      <td>m5f23l</td>\n",
       "      <td>5</td>\n",
       "    </tr>\n",
       "    <tr>\n",
       "      <th>5</th>\n",
       "      <td>f5a6a</td>\n",
       "      <td>4</td>\n",
       "    </tr>\n",
       "    <tr>\n",
       "      <th>6</th>\n",
       "      <td>m3c35</td>\n",
       "      <td>4</td>\n",
       "    </tr>\n",
       "    <tr>\n",
       "      <th>7</th>\n",
       "      <td>f2k9b</td>\n",
       "      <td>4</td>\n",
       "    </tr>\n",
       "    <tr>\n",
       "      <th>8</th>\n",
       "      <td>m3k27b</td>\n",
       "      <td>4</td>\n",
       "    </tr>\n",
       "    <tr>\n",
       "      <th>9</th>\n",
       "      <td>hv4f1j</td>\n",
       "      <td>4</td>\n",
       "    </tr>\n",
       "  </tbody>\n",
       "</table>\n",
       "</div>"
      ],
      "text/plain": [
       "  feature  feature importance\n",
       "0  m2b5c1                   6\n",
       "1  f2h8c2                   5\n",
       "2  m4k24e                   5\n",
       "3  f2k12a                   5\n",
       "4  m5f23l                   5\n",
       "5   f5a6a                   4\n",
       "6   m3c35                   4\n",
       "7   f2k9b                   4\n",
       "8  m3k27b                   4\n",
       "9  hv4f1j                   4"
      ]
     },
     "execution_count": 43,
     "metadata": {},
     "output_type": "execute_result"
    }
   ],
   "source": [
    "# Feature importances df\n",
    "d = bst.get_fscore()  # print feature scores\n",
    "feature = []\n",
    "f_importance = []\n",
    "for w in sorted(d, key=d.get, reverse=True):\n",
    "    feature.append(w)\n",
    "    f_importance.append(d[w])\n",
    "\n",
    "feature_import_df = pd.DataFrame(\n",
    "    {'feature': feature,\n",
    "     'feature importance': f_importance,\n",
    "    })\n",
    "\n",
    "feature_import_df.head(10)"
   ]
  },
  {
   "cell_type": "code",
   "execution_count": 44,
   "metadata": {
    "collapsed": false
   },
   "outputs": [
    {
     "name": "stdout",
     "output_type": "stream",
     "text": [
      "predict with xgb\n"
     ]
    }
   ],
   "source": [
    "print('predict with xgb')\n",
    "d_test = xgb.DMatrix(df_test_mh_good_dtypes)\n",
    "p_test = bst.predict(d_test)"
   ]
  },
  {
   "cell_type": "code",
   "execution_count": 46,
   "metadata": {
    "collapsed": false
   },
   "outputs": [
    {
     "data": {
      "text/html": [
       "<div>\n",
       "<table border=\"1\" class=\"dataframe\">\n",
       "  <thead>\n",
       "    <tr style=\"text-align: right;\">\n",
       "      <th></th>\n",
       "      <th>0</th>\n",
       "    </tr>\n",
       "  </thead>\n",
       "  <tbody>\n",
       "    <tr>\n",
       "      <th>0</th>\n",
       "      <td>0.457971</td>\n",
       "    </tr>\n",
       "    <tr>\n",
       "      <th>1</th>\n",
       "      <td>0.457945</td>\n",
       "    </tr>\n",
       "    <tr>\n",
       "      <th>2</th>\n",
       "      <td>0.457078</td>\n",
       "    </tr>\n",
       "    <tr>\n",
       "      <th>3</th>\n",
       "      <td>0.457945</td>\n",
       "    </tr>\n",
       "    <tr>\n",
       "      <th>4</th>\n",
       "      <td>0.483691</td>\n",
       "    </tr>\n",
       "  </tbody>\n",
       "</table>\n",
       "</div>"
      ],
      "text/plain": [
       "          0\n",
       "0  0.457971\n",
       "1  0.457945\n",
       "2  0.457078\n",
       "3  0.457945\n",
       "4  0.483691"
      ]
     },
     "execution_count": 46,
     "metadata": {},
     "output_type": "execute_result"
    }
   ],
   "source": [
    "pd.DataFrame(p_test).head()"
   ]
  },
  {
   "cell_type": "markdown",
   "metadata": {},
   "source": [
    "# Create Submission file"
   ]
  },
  {
   "cell_type": "code",
   "execution_count": 50,
   "metadata": {
    "collapsed": false
   },
   "outputs": [
    {
     "name": "stdout",
     "output_type": "stream",
     "text": [
      "create submission\n"
     ]
    },
    {
     "data": {
      "text/html": [
       "<div>\n",
       "<table border=\"1\" class=\"dataframe\">\n",
       "  <thead>\n",
       "    <tr style=\"text-align: right;\">\n",
       "      <th></th>\n",
       "      <th>challengeID</th>\n",
       "      <th>materialHardship</th>\n",
       "    </tr>\n",
       "  </thead>\n",
       "  <tbody>\n",
       "    <tr>\n",
       "      <th>0</th>\n",
       "      <td>1</td>\n",
       "      <td>0.457971</td>\n",
       "    </tr>\n",
       "    <tr>\n",
       "      <th>1</th>\n",
       "      <td>2</td>\n",
       "      <td>0.457971</td>\n",
       "    </tr>\n",
       "    <tr>\n",
       "      <th>2</th>\n",
       "      <td>3</td>\n",
       "      <td>0.464431</td>\n",
       "    </tr>\n",
       "    <tr>\n",
       "      <th>3</th>\n",
       "      <td>4</td>\n",
       "      <td>0.457945</td>\n",
       "    </tr>\n",
       "    <tr>\n",
       "      <th>4</th>\n",
       "      <td>5</td>\n",
       "      <td>0.457078</td>\n",
       "    </tr>\n",
       "    <tr>\n",
       "      <th>7</th>\n",
       "      <td>8</td>\n",
       "      <td>0.464091</td>\n",
       "    </tr>\n",
       "    <tr>\n",
       "      <th>10</th>\n",
       "      <td>11</td>\n",
       "      <td>0.457945</td>\n",
       "    </tr>\n",
       "    <tr>\n",
       "      <th>11</th>\n",
       "      <td>12</td>\n",
       "      <td>0.483691</td>\n",
       "    </tr>\n",
       "    <tr>\n",
       "      <th>14</th>\n",
       "      <td>15</td>\n",
       "      <td>0.457078</td>\n",
       "    </tr>\n",
       "    <tr>\n",
       "      <th>16</th>\n",
       "      <td>17</td>\n",
       "      <td>0.457078</td>\n",
       "    </tr>\n",
       "  </tbody>\n",
       "</table>\n",
       "</div>"
      ],
      "text/plain": [
       "    challengeID  materialHardship\n",
       "0             1          0.457971\n",
       "1             2          0.457971\n",
       "2             3          0.464431\n",
       "3             4          0.457945\n",
       "4             5          0.457078\n",
       "7             8          0.464091\n",
       "10           11          0.457945\n",
       "11           12          0.483691\n",
       "14           15          0.457078\n",
       "16           17          0.457078"
      ]
     },
     "execution_count": 50,
     "metadata": {},
     "output_type": "execute_result"
    }
   ],
   "source": [
    "# Need to add train labels to submission too, I think\n",
    "print('create submission')\n",
    "preds = pd.DataFrame()\n",
    "preds['challengeID'] = df_prediction['challengeID']\n",
    "preds['materialHardship'] = p_test\n",
    "preds.sort_values(by='challengeID').head(10)"
   ]
  },
  {
   "cell_type": "code",
   "execution_count": 58,
   "metadata": {
    "collapsed": false
   },
   "outputs": [
    {
     "data": {
      "text/html": [
       "<div>\n",
       "<table border=\"1\" class=\"dataframe\">\n",
       "  <thead>\n",
       "    <tr style=\"text-align: right;\">\n",
       "      <th></th>\n",
       "      <th>challengeID</th>\n",
       "      <th>materialHardship</th>\n",
       "    </tr>\n",
       "  </thead>\n",
       "  <tbody>\n",
       "    <tr>\n",
       "      <th>0</th>\n",
       "      <td>1</td>\n",
       "      <td>0.457971</td>\n",
       "    </tr>\n",
       "    <tr>\n",
       "      <th>1</th>\n",
       "      <td>2</td>\n",
       "      <td>0.457971</td>\n",
       "    </tr>\n",
       "    <tr>\n",
       "      <th>2</th>\n",
       "      <td>3</td>\n",
       "      <td>0.464431</td>\n",
       "    </tr>\n",
       "    <tr>\n",
       "      <th>3</th>\n",
       "      <td>4</td>\n",
       "      <td>0.457945</td>\n",
       "    </tr>\n",
       "    <tr>\n",
       "      <th>4</th>\n",
       "      <td>5</td>\n",
       "      <td>0.457078</td>\n",
       "    </tr>\n",
       "    <tr>\n",
       "      <th>2</th>\n",
       "      <td>6</td>\n",
       "      <td>0.090909</td>\n",
       "    </tr>\n",
       "    <tr>\n",
       "      <th>3</th>\n",
       "      <td>7</td>\n",
       "      <td>0.000000</td>\n",
       "    </tr>\n",
       "    <tr>\n",
       "      <th>7</th>\n",
       "      <td>8</td>\n",
       "      <td>0.464091</td>\n",
       "    </tr>\n",
       "    <tr>\n",
       "      <th>5</th>\n",
       "      <td>9</td>\n",
       "      <td>0.181818</td>\n",
       "    </tr>\n",
       "    <tr>\n",
       "      <th>6</th>\n",
       "      <td>10</td>\n",
       "      <td>0.090909</td>\n",
       "    </tr>\n",
       "    <tr>\n",
       "      <th>10</th>\n",
       "      <td>11</td>\n",
       "      <td>0.457945</td>\n",
       "    </tr>\n",
       "    <tr>\n",
       "      <th>11</th>\n",
       "      <td>12</td>\n",
       "      <td>0.483691</td>\n",
       "    </tr>\n",
       "    <tr>\n",
       "      <th>7</th>\n",
       "      <td>13</td>\n",
       "      <td>0.181818</td>\n",
       "    </tr>\n",
       "    <tr>\n",
       "      <th>8</th>\n",
       "      <td>14</td>\n",
       "      <td>0.272727</td>\n",
       "    </tr>\n",
       "    <tr>\n",
       "      <th>14</th>\n",
       "      <td>15</td>\n",
       "      <td>0.457078</td>\n",
       "    </tr>\n",
       "  </tbody>\n",
       "</table>\n",
       "</div>"
      ],
      "text/plain": [
       "    challengeID  materialHardship\n",
       "0             1          0.457971\n",
       "1             2          0.457971\n",
       "2             3          0.464431\n",
       "3             4          0.457945\n",
       "4             5          0.457078\n",
       "2             6          0.090909\n",
       "3             7          0.000000\n",
       "7             8          0.464091\n",
       "5             9          0.181818\n",
       "6            10          0.090909\n",
       "10           11          0.457945\n",
       "11           12          0.483691\n",
       "7            13          0.181818\n",
       "8            14          0.272727\n",
       "14           15          0.457078"
      ]
     },
     "execution_count": 58,
     "metadata": {},
     "output_type": "execute_result"
    }
   ],
   "source": [
    "# tack on given train values\n",
    "sub = preds.append(non_na_y_train_materialHardship)\n",
    "sub.sort_values(by='challengeID').head(15)\n",
    "\n",
    "# sub.to_csv('simple_xgb.csv', index=False)"
   ]
  },
  {
   "cell_type": "markdown",
   "metadata": {
    "collapsed": true
   },
   "source": [
    "Here, we send in a submission that predicts all missing values (both missing MH values from train set and also values for IDs that were never in train to start). "
   ]
  },
  {
   "cell_type": "code",
   "execution_count": null,
   "metadata": {
    "collapsed": true
   },
   "outputs": [],
   "source": []
  }
 ],
 "metadata": {
  "kernelspec": {
   "display_name": "Python 3",
   "language": "python",
   "name": "python3"
  },
  "language_info": {
   "codemirror_mode": {
    "name": "ipython",
    "version": 3
   },
   "file_extension": ".py",
   "mimetype": "text/x-python",
   "name": "python",
   "nbconvert_exporter": "python",
   "pygments_lexer": "ipython3",
   "version": "3.5.2"
  }
 },
 "nbformat": 4,
 "nbformat_minor": 2
}
